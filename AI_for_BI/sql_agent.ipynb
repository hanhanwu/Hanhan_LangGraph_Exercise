{
  "nbformat": 4,
  "nbformat_minor": 0,
  "metadata": {
    "colab": {
      "provenance": [],
      "authorship_tag": "ABX9TyO6qq2ua/7JHIfjk1PlGIB1",
      "include_colab_link": true
    },
    "kernelspec": {
      "name": "python3",
      "display_name": "Python 3"
    },
    "language_info": {
      "name": "python"
    }
  },
  "cells": [
    {
      "cell_type": "markdown",
      "metadata": {
        "id": "view-in-github",
        "colab_type": "text"
      },
      "source": [
        "<a href=\"https://colab.research.google.com/github/hanhanwu/Hanhan_LangGraph_Exercise/blob/main/AI_for_BI/sql_agent.ipynb\" target=\"_parent\"><img src=\"https://colab.research.google.com/assets/colab-badge.svg\" alt=\"Open In Colab\"/></a>"
      ]
    },
    {
      "cell_type": "markdown",
      "source": [
        "# About this SQL Agent\n",
        "\n",
        "* After a user typed in a query, the agent is able to\n",
        "  * locate the tables\n",
        "  * write the SQL query to answer user's question\n",
        "  * execute the SQL query and rewrite the SQL query until LLM thinks it gets the correct output"
      ],
      "metadata": {
        "id": "ZQRdflQ4lNii"
      }
    },
    {
      "cell_type": "code",
      "execution_count": 1,
      "metadata": {
        "id": "5w26iZoUhfcE"
      },
      "outputs": [],
      "source": [
        "%%capture --no-stderr\n",
        "%pip install -U langgraph langchain_openai langchain_community"
      ]
    },
    {
      "cell_type": "code",
      "source": [
        "from google.colab import userdata\n",
        "\n",
        "# load the environment variables set in colab\n",
        "OPENAI_API_KEY = userdata.get('OPENAI_API_KEY')"
      ],
      "metadata": {
        "id": "bcJMnINAhmif"
      },
      "execution_count": 2,
      "outputs": []
    },
    {
      "cell_type": "markdown",
      "source": [
        "# About the Data\n",
        "\n",
        "* This is a SQLite example database \"chinook\", it has multiple tables: `['Album', 'Artist', 'Customer', 'Employee', 'Genre', 'Invoice', 'InvoiceLine', 'MediaType', 'Playlist', 'PlaylistTrack', 'Track']`"
      ],
      "metadata": {
        "id": "28y_aEQOliSu"
      }
    },
    {
      "cell_type": "code",
      "source": [
        "import requests\n",
        "\n",
        "url = \"https://storage.googleapis.com/benchmarks-artifacts/chinook/Chinook.db\"\n",
        "\n",
        "response = requests.get(url)\n",
        "\n",
        "if response.status_code == 200:\n",
        "    # Open a local file in binary write mode\n",
        "    with open(\"Chinook.db\", \"wb\") as file:\n",
        "        # Write the content of the response (the file) to the local file\n",
        "        file.write(response.content)\n",
        "    print(\"File downloaded and saved as Chinook.db\")\n",
        "else:\n",
        "    print(f\"Failed to download the file. Status code: {response.status_code}\")"
      ],
      "metadata": {
        "colab": {
          "base_uri": "https://localhost:8080/"
        },
        "id": "QUtqvKwbmQj7",
        "outputId": "a935db2b-bbe6-41ed-c125-d5a8556a516e"
      },
      "execution_count": 3,
      "outputs": [
        {
          "output_type": "stream",
          "name": "stdout",
          "text": [
            "File downloaded and saved as Chinook.db\n"
          ]
        }
      ]
    },
    {
      "cell_type": "code",
      "source": [
        "from langchain_community.utilities import SQLDatabase\n",
        "import pandas as pd\n",
        "import pprint\n",
        "import json\n",
        "import ast\n",
        "\n",
        "\n",
        "db = SQLDatabase.from_uri(\"sqlite:///Chinook.db\")  # load the downloaded DB\n",
        "print(db.dialect)\n",
        "all_table_names = db.get_usable_table_names()\n",
        "print('All the Usable Tables:', all_table_names)\n",
        "print()\n",
        "\n",
        "print('Data Sample from Table Customer:')\n",
        "sample = ast.literal_eval(db.run(\"SELECT * FROM Customer LIMIT 5;\"))\n",
        "columns_query = \"\"\"SELECT name FROM pragma_table_info('Customer')\"\"\"\n",
        "cols = db.run(columns_query)\n",
        "sample_df = pd.DataFrame(sample, columns=[col[0] for col in ast.literal_eval(cols)])\n",
        "display(sample_df)"
      ],
      "metadata": {
        "id": "c4gJhWGKkiP7",
        "colab": {
          "base_uri": "https://localhost:8080/",
          "height": 280
        },
        "outputId": "ce60c647-da37-4134-92a0-45dcca48c103"
      },
      "execution_count": 4,
      "outputs": [
        {
          "output_type": "stream",
          "name": "stdout",
          "text": [
            "sqlite\n",
            "All the Usable Tables: ['Album', 'Artist', 'Customer', 'Employee', 'Genre', 'Invoice', 'InvoiceLine', 'MediaType', 'Playlist', 'PlaylistTrack', 'Track']\n",
            "\n",
            "Data Sample from Table Customer:\n"
          ]
        },
        {
          "output_type": "display_data",
          "data": {
            "text/plain": [
              "   CustomerId  FirstName     LastName  \\\n",
              "0           1       Luís    Gonçalves   \n",
              "1           2     Leonie       Köhler   \n",
              "2           3   François     Tremblay   \n",
              "3           4      Bjørn       Hansen   \n",
              "4           5  František  Wichterlová   \n",
              "\n",
              "                                            Company  \\\n",
              "0  Embraer - Empresa Brasileira de Aeronáutica S.A.   \n",
              "1                                              None   \n",
              "2                                              None   \n",
              "3                                              None   \n",
              "4                                  JetBrains s.r.o.   \n",
              "\n",
              "                           Address                 City State         Country  \\\n",
              "0  Av. Brigadeiro Faria Lima, 2170  São José dos Campos    SP          Brazil   \n",
              "1          Theodor-Heuss-Straße 34            Stuttgart  None         Germany   \n",
              "2                1498 rue Bélanger             Montréal    QC          Canada   \n",
              "3                 Ullevålsveien 14                 Oslo  None          Norway   \n",
              "4                    Klanova 9/506               Prague  None  Czech Republic   \n",
              "\n",
              "  PostalCode               Phone                 Fax  \\\n",
              "0  12227-000  +55 (12) 3923-5555  +55 (12) 3923-5566   \n",
              "1      70174    +49 0711 2842222                None   \n",
              "2    H2G 1A7   +1 (514) 721-4711                None   \n",
              "3       0171     +47 22 44 22 22                None   \n",
              "4      14700    +420 2 4172 5555    +420 2 4172 5555   \n",
              "\n",
              "                      Email  SupportRepId  \n",
              "0      luisg@embraer.com.br             3  \n",
              "1     leonekohler@surfeu.de             5  \n",
              "2       ftremblay@gmail.com             3  \n",
              "3     bjorn.hansen@yahoo.no             4  \n",
              "4  frantisekw@jetbrains.com             4  "
            ],
            "text/html": [
              "\n",
              "  <div id=\"df-dbe9dfe0-c420-4e74-9561-369ad14e2b03\" class=\"colab-df-container\">\n",
              "    <div>\n",
              "<style scoped>\n",
              "    .dataframe tbody tr th:only-of-type {\n",
              "        vertical-align: middle;\n",
              "    }\n",
              "\n",
              "    .dataframe tbody tr th {\n",
              "        vertical-align: top;\n",
              "    }\n",
              "\n",
              "    .dataframe thead th {\n",
              "        text-align: right;\n",
              "    }\n",
              "</style>\n",
              "<table border=\"1\" class=\"dataframe\">\n",
              "  <thead>\n",
              "    <tr style=\"text-align: right;\">\n",
              "      <th></th>\n",
              "      <th>CustomerId</th>\n",
              "      <th>FirstName</th>\n",
              "      <th>LastName</th>\n",
              "      <th>Company</th>\n",
              "      <th>Address</th>\n",
              "      <th>City</th>\n",
              "      <th>State</th>\n",
              "      <th>Country</th>\n",
              "      <th>PostalCode</th>\n",
              "      <th>Phone</th>\n",
              "      <th>Fax</th>\n",
              "      <th>Email</th>\n",
              "      <th>SupportRepId</th>\n",
              "    </tr>\n",
              "  </thead>\n",
              "  <tbody>\n",
              "    <tr>\n",
              "      <th>0</th>\n",
              "      <td>1</td>\n",
              "      <td>Luís</td>\n",
              "      <td>Gonçalves</td>\n",
              "      <td>Embraer - Empresa Brasileira de Aeronáutica S.A.</td>\n",
              "      <td>Av. Brigadeiro Faria Lima, 2170</td>\n",
              "      <td>São José dos Campos</td>\n",
              "      <td>SP</td>\n",
              "      <td>Brazil</td>\n",
              "      <td>12227-000</td>\n",
              "      <td>+55 (12) 3923-5555</td>\n",
              "      <td>+55 (12) 3923-5566</td>\n",
              "      <td>luisg@embraer.com.br</td>\n",
              "      <td>3</td>\n",
              "    </tr>\n",
              "    <tr>\n",
              "      <th>1</th>\n",
              "      <td>2</td>\n",
              "      <td>Leonie</td>\n",
              "      <td>Köhler</td>\n",
              "      <td>None</td>\n",
              "      <td>Theodor-Heuss-Straße 34</td>\n",
              "      <td>Stuttgart</td>\n",
              "      <td>None</td>\n",
              "      <td>Germany</td>\n",
              "      <td>70174</td>\n",
              "      <td>+49 0711 2842222</td>\n",
              "      <td>None</td>\n",
              "      <td>leonekohler@surfeu.de</td>\n",
              "      <td>5</td>\n",
              "    </tr>\n",
              "    <tr>\n",
              "      <th>2</th>\n",
              "      <td>3</td>\n",
              "      <td>François</td>\n",
              "      <td>Tremblay</td>\n",
              "      <td>None</td>\n",
              "      <td>1498 rue Bélanger</td>\n",
              "      <td>Montréal</td>\n",
              "      <td>QC</td>\n",
              "      <td>Canada</td>\n",
              "      <td>H2G 1A7</td>\n",
              "      <td>+1 (514) 721-4711</td>\n",
              "      <td>None</td>\n",
              "      <td>ftremblay@gmail.com</td>\n",
              "      <td>3</td>\n",
              "    </tr>\n",
              "    <tr>\n",
              "      <th>3</th>\n",
              "      <td>4</td>\n",
              "      <td>Bjørn</td>\n",
              "      <td>Hansen</td>\n",
              "      <td>None</td>\n",
              "      <td>Ullevålsveien 14</td>\n",
              "      <td>Oslo</td>\n",
              "      <td>None</td>\n",
              "      <td>Norway</td>\n",
              "      <td>0171</td>\n",
              "      <td>+47 22 44 22 22</td>\n",
              "      <td>None</td>\n",
              "      <td>bjorn.hansen@yahoo.no</td>\n",
              "      <td>4</td>\n",
              "    </tr>\n",
              "    <tr>\n",
              "      <th>4</th>\n",
              "      <td>5</td>\n",
              "      <td>František</td>\n",
              "      <td>Wichterlová</td>\n",
              "      <td>JetBrains s.r.o.</td>\n",
              "      <td>Klanova 9/506</td>\n",
              "      <td>Prague</td>\n",
              "      <td>None</td>\n",
              "      <td>Czech Republic</td>\n",
              "      <td>14700</td>\n",
              "      <td>+420 2 4172 5555</td>\n",
              "      <td>+420 2 4172 5555</td>\n",
              "      <td>frantisekw@jetbrains.com</td>\n",
              "      <td>4</td>\n",
              "    </tr>\n",
              "  </tbody>\n",
              "</table>\n",
              "</div>\n",
              "    <div class=\"colab-df-buttons\">\n",
              "\n",
              "  <div class=\"colab-df-container\">\n",
              "    <button class=\"colab-df-convert\" onclick=\"convertToInteractive('df-dbe9dfe0-c420-4e74-9561-369ad14e2b03')\"\n",
              "            title=\"Convert this dataframe to an interactive table.\"\n",
              "            style=\"display:none;\">\n",
              "\n",
              "  <svg xmlns=\"http://www.w3.org/2000/svg\" height=\"24px\" viewBox=\"0 -960 960 960\">\n",
              "    <path d=\"M120-120v-720h720v720H120Zm60-500h600v-160H180v160Zm220 220h160v-160H400v160Zm0 220h160v-160H400v160ZM180-400h160v-160H180v160Zm440 0h160v-160H620v160ZM180-180h160v-160H180v160Zm440 0h160v-160H620v160Z\"/>\n",
              "  </svg>\n",
              "    </button>\n",
              "\n",
              "  <style>\n",
              "    .colab-df-container {\n",
              "      display:flex;\n",
              "      gap: 12px;\n",
              "    }\n",
              "\n",
              "    .colab-df-convert {\n",
              "      background-color: #E8F0FE;\n",
              "      border: none;\n",
              "      border-radius: 50%;\n",
              "      cursor: pointer;\n",
              "      display: none;\n",
              "      fill: #1967D2;\n",
              "      height: 32px;\n",
              "      padding: 0 0 0 0;\n",
              "      width: 32px;\n",
              "    }\n",
              "\n",
              "    .colab-df-convert:hover {\n",
              "      background-color: #E2EBFA;\n",
              "      box-shadow: 0px 1px 2px rgba(60, 64, 67, 0.3), 0px 1px 3px 1px rgba(60, 64, 67, 0.15);\n",
              "      fill: #174EA6;\n",
              "    }\n",
              "\n",
              "    .colab-df-buttons div {\n",
              "      margin-bottom: 4px;\n",
              "    }\n",
              "\n",
              "    [theme=dark] .colab-df-convert {\n",
              "      background-color: #3B4455;\n",
              "      fill: #D2E3FC;\n",
              "    }\n",
              "\n",
              "    [theme=dark] .colab-df-convert:hover {\n",
              "      background-color: #434B5C;\n",
              "      box-shadow: 0px 1px 3px 1px rgba(0, 0, 0, 0.15);\n",
              "      filter: drop-shadow(0px 1px 2px rgba(0, 0, 0, 0.3));\n",
              "      fill: #FFFFFF;\n",
              "    }\n",
              "  </style>\n",
              "\n",
              "    <script>\n",
              "      const buttonEl =\n",
              "        document.querySelector('#df-dbe9dfe0-c420-4e74-9561-369ad14e2b03 button.colab-df-convert');\n",
              "      buttonEl.style.display =\n",
              "        google.colab.kernel.accessAllowed ? 'block' : 'none';\n",
              "\n",
              "      async function convertToInteractive(key) {\n",
              "        const element = document.querySelector('#df-dbe9dfe0-c420-4e74-9561-369ad14e2b03');\n",
              "        const dataTable =\n",
              "          await google.colab.kernel.invokeFunction('convertToInteractive',\n",
              "                                                    [key], {});\n",
              "        if (!dataTable) return;\n",
              "\n",
              "        const docLinkHtml = 'Like what you see? Visit the ' +\n",
              "          '<a target=\"_blank\" href=https://colab.research.google.com/notebooks/data_table.ipynb>data table notebook</a>'\n",
              "          + ' to learn more about interactive tables.';\n",
              "        element.innerHTML = '';\n",
              "        dataTable['output_type'] = 'display_data';\n",
              "        await google.colab.output.renderOutput(dataTable, element);\n",
              "        const docLink = document.createElement('div');\n",
              "        docLink.innerHTML = docLinkHtml;\n",
              "        element.appendChild(docLink);\n",
              "      }\n",
              "    </script>\n",
              "  </div>\n",
              "\n",
              "\n",
              "<div id=\"df-89a40764-0d81-4444-9076-8c69fb5025aa\">\n",
              "  <button class=\"colab-df-quickchart\" onclick=\"quickchart('df-89a40764-0d81-4444-9076-8c69fb5025aa')\"\n",
              "            title=\"Suggest charts\"\n",
              "            style=\"display:none;\">\n",
              "\n",
              "<svg xmlns=\"http://www.w3.org/2000/svg\" height=\"24px\"viewBox=\"0 0 24 24\"\n",
              "     width=\"24px\">\n",
              "    <g>\n",
              "        <path d=\"M19 3H5c-1.1 0-2 .9-2 2v14c0 1.1.9 2 2 2h14c1.1 0 2-.9 2-2V5c0-1.1-.9-2-2-2zM9 17H7v-7h2v7zm4 0h-2V7h2v10zm4 0h-2v-4h2v4z\"/>\n",
              "    </g>\n",
              "</svg>\n",
              "  </button>\n",
              "\n",
              "<style>\n",
              "  .colab-df-quickchart {\n",
              "      --bg-color: #E8F0FE;\n",
              "      --fill-color: #1967D2;\n",
              "      --hover-bg-color: #E2EBFA;\n",
              "      --hover-fill-color: #174EA6;\n",
              "      --disabled-fill-color: #AAA;\n",
              "      --disabled-bg-color: #DDD;\n",
              "  }\n",
              "\n",
              "  [theme=dark] .colab-df-quickchart {\n",
              "      --bg-color: #3B4455;\n",
              "      --fill-color: #D2E3FC;\n",
              "      --hover-bg-color: #434B5C;\n",
              "      --hover-fill-color: #FFFFFF;\n",
              "      --disabled-bg-color: #3B4455;\n",
              "      --disabled-fill-color: #666;\n",
              "  }\n",
              "\n",
              "  .colab-df-quickchart {\n",
              "    background-color: var(--bg-color);\n",
              "    border: none;\n",
              "    border-radius: 50%;\n",
              "    cursor: pointer;\n",
              "    display: none;\n",
              "    fill: var(--fill-color);\n",
              "    height: 32px;\n",
              "    padding: 0;\n",
              "    width: 32px;\n",
              "  }\n",
              "\n",
              "  .colab-df-quickchart:hover {\n",
              "    background-color: var(--hover-bg-color);\n",
              "    box-shadow: 0 1px 2px rgba(60, 64, 67, 0.3), 0 1px 3px 1px rgba(60, 64, 67, 0.15);\n",
              "    fill: var(--button-hover-fill-color);\n",
              "  }\n",
              "\n",
              "  .colab-df-quickchart-complete:disabled,\n",
              "  .colab-df-quickchart-complete:disabled:hover {\n",
              "    background-color: var(--disabled-bg-color);\n",
              "    fill: var(--disabled-fill-color);\n",
              "    box-shadow: none;\n",
              "  }\n",
              "\n",
              "  .colab-df-spinner {\n",
              "    border: 2px solid var(--fill-color);\n",
              "    border-color: transparent;\n",
              "    border-bottom-color: var(--fill-color);\n",
              "    animation:\n",
              "      spin 1s steps(1) infinite;\n",
              "  }\n",
              "\n",
              "  @keyframes spin {\n",
              "    0% {\n",
              "      border-color: transparent;\n",
              "      border-bottom-color: var(--fill-color);\n",
              "      border-left-color: var(--fill-color);\n",
              "    }\n",
              "    20% {\n",
              "      border-color: transparent;\n",
              "      border-left-color: var(--fill-color);\n",
              "      border-top-color: var(--fill-color);\n",
              "    }\n",
              "    30% {\n",
              "      border-color: transparent;\n",
              "      border-left-color: var(--fill-color);\n",
              "      border-top-color: var(--fill-color);\n",
              "      border-right-color: var(--fill-color);\n",
              "    }\n",
              "    40% {\n",
              "      border-color: transparent;\n",
              "      border-right-color: var(--fill-color);\n",
              "      border-top-color: var(--fill-color);\n",
              "    }\n",
              "    60% {\n",
              "      border-color: transparent;\n",
              "      border-right-color: var(--fill-color);\n",
              "    }\n",
              "    80% {\n",
              "      border-color: transparent;\n",
              "      border-right-color: var(--fill-color);\n",
              "      border-bottom-color: var(--fill-color);\n",
              "    }\n",
              "    90% {\n",
              "      border-color: transparent;\n",
              "      border-bottom-color: var(--fill-color);\n",
              "    }\n",
              "  }\n",
              "</style>\n",
              "\n",
              "  <script>\n",
              "    async function quickchart(key) {\n",
              "      const quickchartButtonEl =\n",
              "        document.querySelector('#' + key + ' button');\n",
              "      quickchartButtonEl.disabled = true;  // To prevent multiple clicks.\n",
              "      quickchartButtonEl.classList.add('colab-df-spinner');\n",
              "      try {\n",
              "        const charts = await google.colab.kernel.invokeFunction(\n",
              "            'suggestCharts', [key], {});\n",
              "      } catch (error) {\n",
              "        console.error('Error during call to suggestCharts:', error);\n",
              "      }\n",
              "      quickchartButtonEl.classList.remove('colab-df-spinner');\n",
              "      quickchartButtonEl.classList.add('colab-df-quickchart-complete');\n",
              "    }\n",
              "    (() => {\n",
              "      let quickchartButtonEl =\n",
              "        document.querySelector('#df-89a40764-0d81-4444-9076-8c69fb5025aa button');\n",
              "      quickchartButtonEl.style.display =\n",
              "        google.colab.kernel.accessAllowed ? 'block' : 'none';\n",
              "    })();\n",
              "  </script>\n",
              "</div>\n",
              "\n",
              "  <div id=\"id_3fb0511c-714b-49fe-a6b3-f9c4a7d74149\">\n",
              "    <style>\n",
              "      .colab-df-generate {\n",
              "        background-color: #E8F0FE;\n",
              "        border: none;\n",
              "        border-radius: 50%;\n",
              "        cursor: pointer;\n",
              "        display: none;\n",
              "        fill: #1967D2;\n",
              "        height: 32px;\n",
              "        padding: 0 0 0 0;\n",
              "        width: 32px;\n",
              "      }\n",
              "\n",
              "      .colab-df-generate:hover {\n",
              "        background-color: #E2EBFA;\n",
              "        box-shadow: 0px 1px 2px rgba(60, 64, 67, 0.3), 0px 1px 3px 1px rgba(60, 64, 67, 0.15);\n",
              "        fill: #174EA6;\n",
              "      }\n",
              "\n",
              "      [theme=dark] .colab-df-generate {\n",
              "        background-color: #3B4455;\n",
              "        fill: #D2E3FC;\n",
              "      }\n",
              "\n",
              "      [theme=dark] .colab-df-generate:hover {\n",
              "        background-color: #434B5C;\n",
              "        box-shadow: 0px 1px 3px 1px rgba(0, 0, 0, 0.15);\n",
              "        filter: drop-shadow(0px 1px 2px rgba(0, 0, 0, 0.3));\n",
              "        fill: #FFFFFF;\n",
              "      }\n",
              "    </style>\n",
              "    <button class=\"colab-df-generate\" onclick=\"generateWithVariable('sample_df')\"\n",
              "            title=\"Generate code using this dataframe.\"\n",
              "            style=\"display:none;\">\n",
              "\n",
              "  <svg xmlns=\"http://www.w3.org/2000/svg\" height=\"24px\"viewBox=\"0 0 24 24\"\n",
              "       width=\"24px\">\n",
              "    <path d=\"M7,19H8.4L18.45,9,17,7.55,7,17.6ZM5,21V16.75L18.45,3.32a2,2,0,0,1,2.83,0l1.4,1.43a1.91,1.91,0,0,1,.58,1.4,1.91,1.91,0,0,1-.58,1.4L9.25,21ZM18.45,9,17,7.55Zm-12,3A5.31,5.31,0,0,0,4.9,8.1,5.31,5.31,0,0,0,1,6.5,5.31,5.31,0,0,0,4.9,4.9,5.31,5.31,0,0,0,6.5,1,5.31,5.31,0,0,0,8.1,4.9,5.31,5.31,0,0,0,12,6.5,5.46,5.46,0,0,0,6.5,12Z\"/>\n",
              "  </svg>\n",
              "    </button>\n",
              "    <script>\n",
              "      (() => {\n",
              "      const buttonEl =\n",
              "        document.querySelector('#id_3fb0511c-714b-49fe-a6b3-f9c4a7d74149 button.colab-df-generate');\n",
              "      buttonEl.style.display =\n",
              "        google.colab.kernel.accessAllowed ? 'block' : 'none';\n",
              "\n",
              "      buttonEl.onclick = () => {\n",
              "        google.colab.notebook.generateWithVariable('sample_df');\n",
              "      }\n",
              "      })();\n",
              "    </script>\n",
              "  </div>\n",
              "\n",
              "    </div>\n",
              "  </div>\n"
            ],
            "application/vnd.google.colaboratory.intrinsic+json": {
              "type": "dataframe",
              "variable_name": "sample_df",
              "summary": "{\n  \"name\": \"sample_df\",\n  \"rows\": 5,\n  \"fields\": [\n    {\n      \"column\": \"CustomerId\",\n      \"properties\": {\n        \"dtype\": \"number\",\n        \"std\": 1,\n        \"min\": 1,\n        \"max\": 5,\n        \"num_unique_values\": 5,\n        \"samples\": [\n          2,\n          5,\n          3\n        ],\n        \"semantic_type\": \"\",\n        \"description\": \"\"\n      }\n    },\n    {\n      \"column\": \"FirstName\",\n      \"properties\": {\n        \"dtype\": \"string\",\n        \"num_unique_values\": 5,\n        \"samples\": [\n          \"Leonie\",\n          \"Franti\\u0161ek\",\n          \"Fran\\u00e7ois\"\n        ],\n        \"semantic_type\": \"\",\n        \"description\": \"\"\n      }\n    },\n    {\n      \"column\": \"LastName\",\n      \"properties\": {\n        \"dtype\": \"string\",\n        \"num_unique_values\": 5,\n        \"samples\": [\n          \"K\\u00f6hler\",\n          \"Wichterlov\\u00e1\",\n          \"Tremblay\"\n        ],\n        \"semantic_type\": \"\",\n        \"description\": \"\"\n      }\n    },\n    {\n      \"column\": \"Company\",\n      \"properties\": {\n        \"dtype\": \"category\",\n        \"num_unique_values\": 2,\n        \"samples\": [\n          \"JetBrains s.r.o.\",\n          \"Embraer - Empresa Brasileira de Aeron\\u00e1utica S.A.\"\n        ],\n        \"semantic_type\": \"\",\n        \"description\": \"\"\n      }\n    },\n    {\n      \"column\": \"Address\",\n      \"properties\": {\n        \"dtype\": \"string\",\n        \"num_unique_values\": 5,\n        \"samples\": [\n          \"Theodor-Heuss-Stra\\u00dfe 34\",\n          \"Klanova 9/506\"\n        ],\n        \"semantic_type\": \"\",\n        \"description\": \"\"\n      }\n    },\n    {\n      \"column\": \"City\",\n      \"properties\": {\n        \"dtype\": \"string\",\n        \"num_unique_values\": 5,\n        \"samples\": [\n          \"Stuttgart\",\n          \"Prague\"\n        ],\n        \"semantic_type\": \"\",\n        \"description\": \"\"\n      }\n    },\n    {\n      \"column\": \"State\",\n      \"properties\": {\n        \"dtype\": \"category\",\n        \"num_unique_values\": 2,\n        \"samples\": [\n          \"QC\",\n          \"SP\"\n        ],\n        \"semantic_type\": \"\",\n        \"description\": \"\"\n      }\n    },\n    {\n      \"column\": \"Country\",\n      \"properties\": {\n        \"dtype\": \"string\",\n        \"num_unique_values\": 5,\n        \"samples\": [\n          \"Germany\",\n          \"Czech Republic\"\n        ],\n        \"semantic_type\": \"\",\n        \"description\": \"\"\n      }\n    },\n    {\n      \"column\": \"PostalCode\",\n      \"properties\": {\n        \"dtype\": \"string\",\n        \"num_unique_values\": 5,\n        \"samples\": [\n          \"70174\",\n          \"14700\"\n        ],\n        \"semantic_type\": \"\",\n        \"description\": \"\"\n      }\n    },\n    {\n      \"column\": \"Phone\",\n      \"properties\": {\n        \"dtype\": \"string\",\n        \"num_unique_values\": 5,\n        \"samples\": [\n          \"+49 0711 2842222\",\n          \"+420 2 4172 5555\"\n        ],\n        \"semantic_type\": \"\",\n        \"description\": \"\"\n      }\n    },\n    {\n      \"column\": \"Fax\",\n      \"properties\": {\n        \"dtype\": \"category\",\n        \"num_unique_values\": 2,\n        \"samples\": [\n          \"+420 2 4172 5555\",\n          \"+55 (12) 3923-5566\"\n        ],\n        \"semantic_type\": \"\",\n        \"description\": \"\"\n      }\n    },\n    {\n      \"column\": \"Email\",\n      \"properties\": {\n        \"dtype\": \"string\",\n        \"num_unique_values\": 5,\n        \"samples\": [\n          \"leonekohler@surfeu.de\",\n          \"frantisekw@jetbrains.com\"\n        ],\n        \"semantic_type\": \"\",\n        \"description\": \"\"\n      }\n    },\n    {\n      \"column\": \"SupportRepId\",\n      \"properties\": {\n        \"dtype\": \"number\",\n        \"std\": 0,\n        \"min\": 3,\n        \"max\": 5,\n        \"num_unique_values\": 3,\n        \"samples\": [\n          3,\n          5\n        ],\n        \"semantic_type\": \"\",\n        \"description\": \"\"\n      }\n    }\n  ]\n}"
            }
          },
          "metadata": {}
        }
      ]
    },
    {
      "cell_type": "code",
      "source": [
        "all_table_schemas = {}\n",
        "schema_cols = ['cid', 'name', 'type', 'notnull', 'default_value', 'pk']\n",
        "for table_name in all_table_names:\n",
        "    # Get schema data\n",
        "    schema_query = f\"PRAGMA table_info({table_name});\"\n",
        "    schema_result = db.run(schema_query)\n",
        "    schema_data = ast.literal_eval(schema_result)\n",
        "\n",
        "    # Combine column names and schema data\n",
        "    schema = []\n",
        "    for i, data in enumerate(schema_data):\n",
        "        schema.append(dict(zip(schema_cols, data)))\n",
        "    all_table_schemas[table_name] = schema\n",
        "\n",
        "for k, v in all_table_schemas.items():\n",
        "  print(k)\n",
        "  print(v)\n",
        "  break"
      ],
      "metadata": {
        "id": "zpRtSjwI5e24",
        "outputId": "75ea45ed-61aa-457f-ad09-a57ceabc74f7",
        "colab": {
          "base_uri": "https://localhost:8080/"
        },
        "collapsed": true
      },
      "execution_count": 5,
      "outputs": [
        {
          "output_type": "stream",
          "name": "stdout",
          "text": [
            "Album\n",
            "[{'cid': 0, 'name': 'AlbumId', 'type': 'INTEGER', 'notnull': 1, 'default_value': None, 'pk': 1}, {'cid': 1, 'name': 'Title', 'type': 'NVARCHAR(160)', 'notnull': 1, 'default_value': None, 'pk': 0}, {'cid': 2, 'name': 'ArtistId', 'type': 'INTEGER', 'notnull': 1, 'default_value': None, 'pk': 0}]\n"
          ]
        }
      ]
    },
    {
      "cell_type": "markdown",
      "source": [
        "# Build Agent"
      ],
      "metadata": {
        "id": "b0jw9YiLuayp"
      }
    },
    {
      "cell_type": "markdown",
      "source": [
        "### The State of the Agent"
      ],
      "metadata": {
        "id": "eVfU8eHF0NVD"
      }
    },
    {
      "cell_type": "code",
      "source": [
        "from typing import List\n",
        "from typing import Annotated, Sequence\n",
        "from typing_extensions import TypedDict\n",
        "\n",
        "from langchain_core.messages import BaseMessage\n",
        "from langgraph.graph.message import add_messages\n",
        "\n",
        "\n",
        "class AgentState(TypedDict):\n",
        "    user_question: str\n",
        "    previous_node: str\n",
        "    selected_tables: List[str]\n",
        "    written_sql: str\n",
        "    executed_output: str"
      ],
      "metadata": {
        "id": "SLdN4KFDqtof"
      },
      "execution_count": 44,
      "outputs": []
    },
    {
      "cell_type": "markdown",
      "source": [
        "### Nodes & Edges"
      ],
      "metadata": {
        "id": "k-iTHueV0Us8"
      }
    },
    {
      "cell_type": "code",
      "source": [
        "from typing import Annotated, Literal, Sequence\n",
        "from typing_extensions import TypedDict\n",
        "from pydantic import BaseModel, Field\n",
        "\n",
        "from langchain import hub\n",
        "from langchain_core.messages import BaseMessage, HumanMessage, SystemMessage\n",
        "from langchain_core.output_parsers import StrOutputParser\n",
        "from langchain_core.prompts import PromptTemplate\n",
        "from langchain_openai import ChatOpenAI\n",
        "\n",
        "from langgraph.prebuilt import tools_condition\n",
        "\n",
        "\n",
        "model_str = \"gpt-4o-mini-2024-07-18\""
      ],
      "metadata": {
        "id": "kHSCdLyvFcSV"
      },
      "execution_count": 45,
      "outputs": []
    },
    {
      "cell_type": "code",
      "source": [
        "def select_tables(state):\n",
        "  \"\"\"\n",
        "    Given user's question, LLM to select tables that can solve the problem.\n",
        "  \"\"\"\n",
        "  print(\"---SELECT TABLES---\")\n",
        "  user_question =state['user_question']\n",
        "\n",
        "  class list_tables(BaseModel):\n",
        "        table_lst: Annotated[List[str], Field(description=\"A list of selected tables\")]\n",
        "\n",
        "  # LLM\n",
        "  model = ChatOpenAI(temperature=0, api_key=OPENAI_API_KEY,\n",
        "                       model=model_str, streaming=True)\n",
        "  # LLM to output required format\n",
        "  llm_with_formated_output = model.with_structured_output(list_tables)\n",
        "\n",
        "  # Prompt\n",
        "  prompt = PromptTemplate(\n",
        "        template=\"\"\"You're an expert of SQL to answer user's data questions. \\n\n",
        "        Here are the data schemas of all the tables in the database: \\n\\n {all_table_schemas} \\n\\n\n",
        "        Here is the user question: {user_question} \\n\n",
        "        If you can find all the tables that can answer user's questions, list all the tables' names,\n",
        "        otherwise output an empty list.\"\"\",\n",
        "        input_variables=[\"all_table_schemas\", \"user_question\"],\n",
        "    )\n",
        "\n",
        "  # Chain\n",
        "  chain = prompt | llm_with_formated_output\n",
        "\n",
        "  output = chain.invoke({\"all_table_schemas\": all_table_schemas,\n",
        "                                   \"user_question\": user_question})\n",
        "  output_table_lst = output.table_lst\n",
        "  print(output_table_lst)\n",
        "  return {\"selected_tables\": output_table_lst,\n",
        "          \"previous_node\": \"select_tables\"}\n",
        "\n",
        "\n",
        "def write_sql(state):\n",
        "  \"\"\"\n",
        "    Given user's question and selected tables, LLM to write SQL query.\n",
        "  \"\"\"\n",
        "  print(\"---WRITE SQL QUERY---\")\n",
        "  user_question =state['user_question']\n",
        "  selected_tables = state[\"selected_tables\"]\n",
        "\n",
        "  msg = [\n",
        "      SystemMessage(content=\"You are a helpful assistant that improves user questions.\"),\n",
        "      HumanMessage(\n",
        "          content=f\"\"\" \\n\n",
        "                  Look at the input and try to reason about the underlying semantic intent or meaning. \\n\n",
        "                  Here is the initial question:\n",
        "                  \\n ------- \\n\n",
        "                  {question}\n",
        "                  \\n ------- \\n\n",
        "                  Formulate an improved question: \"\"\",\n",
        "      )\n",
        "  ]\n",
        "  model = ChatOpenAI(temperature=0,\n",
        "                       model=model_str, streaming=True)\n",
        "  written_query = model.invoke(msg)\n",
        "\n",
        "\n",
        "\n",
        "\n",
        "def output_answer(state):\n",
        "  \"\"\"\n",
        "    * If there's no table found in `select_tables()`, then output answer.\n",
        "    * Otherwise, output the generated results.\n",
        "  \"\"\"\n",
        "  print(\"---OUTPUT ANSWER---\")\n",
        "\n",
        "  if state[\"previous_node\"] == \"select_tables\" and len(state['selected_tables']) == 0:\n",
        "    print(\"Can't find any available table to solve this problem\")\n",
        "  else:\n",
        "    print(\"Hanhan TEST: executed output to be added\")"
      ],
      "metadata": {
        "id": "_cTDfqAA0SDP"
      },
      "execution_count": 39,
      "outputs": []
    },
    {
      "cell_type": "markdown",
      "source": [
        "### Build Graph"
      ],
      "metadata": {
        "id": "Q0WFX7wsM8Xv"
      }
    },
    {
      "cell_type": "code",
      "source": [
        "from langgraph.graph import END, StateGraph, START\n",
        "\n",
        "# define a new graph\n",
        "workflow = StateGraph(AgentState)\n",
        "\n",
        "# add nodes\n",
        "workflow.add_node(\"select_tables\", select_tables)\n",
        "\n",
        "# add edges\n",
        "workflow.add_edge(START, \"select_tables\")\n",
        "workflow.add_edge(\"select_tables\", END)\n",
        "\n",
        "# compile\n",
        "graph = workflow.compile()"
      ],
      "metadata": {
        "id": "k_su2uRjVDc-"
      },
      "execution_count": 40,
      "outputs": []
    },
    {
      "cell_type": "code",
      "source": [
        "from IPython.display import Image, display\n",
        "\n",
        "try:\n",
        "    display(Image(graph.get_graph(xray=True).draw_mermaid_png()))\n",
        "except Exception:\n",
        "    # This requires some extra dependencies and is optional\n",
        "    pass"
      ],
      "metadata": {
        "id": "u-ItUQtPVFE8",
        "outputId": "17b61076-6d23-4ce2-9a6c-907af91b1555",
        "colab": {
          "base_uri": "https://localhost:8080/",
          "height": 251
        }
      },
      "execution_count": 41,
      "outputs": [
        {
          "output_type": "display_data",
          "data": {
            "image/png": "[encoded data removed]",
            "text/plain": [
              "<IPython.core.display.Image object>"
            ]
          },
          "metadata": {}
        }
      ]
    },
    {
      "cell_type": "markdown",
      "source": [
        "### Run SQL Agent"
      ],
      "metadata": {
        "id": "El4rTjUnXJxy"
      }
    },
    {
      "cell_type": "code",
      "source": [
        "import pprint\n",
        "from langchain_core.runnables import RunnableConfig\n",
        "from langgraph.errors import GraphRecursionError\n",
        "\n",
        "\n",
        "def run_graph(inputs):\n",
        "  graph_config = RunnableConfig(recursion_limit=5)  # stop if the cycle happened 5 times still can't hit END\n",
        "  try:\n",
        "    for output in graph.stream(inputs, config = graph_config):\n",
        "      print(output)\n",
        "  except GraphRecursionError as e:\n",
        "    print()\n",
        "    print(\"Can't find the answer\")"
      ],
      "metadata": {
        "id": "aq44-TzwW3EL"
      },
      "execution_count": 42,
      "outputs": []
    },
    {
      "cell_type": "code",
      "source": [
        "inputs = {\n",
        "     \"user_question\": \"Find me the unique number of customers and artists?\"\n",
        "}\n",
        "run_graph(inputs)"
      ],
      "metadata": {
        "id": "4fq8JgD0kwGP",
        "outputId": "53cb2574-fcd5-448c-9e2b-3ea1e1e3d213",
        "colab": {
          "base_uri": "https://localhost:8080/"
        }
      },
      "execution_count": 43,
      "outputs": [
        {
          "output_type": "stream",
          "name": "stdout",
          "text": [
            "---SELECT TABLES---\n",
            "['Customer', 'Artist']\n",
            "{'select_tables': {'selected_tables': ['Customer', 'Artist']}}\n"
          ]
        }
      ]
    },
    {
      "cell_type": "code",
      "source": [
        "inputs = {\n",
        "     \"user_question\": \"How's the weather tomorrow?\"\n",
        "}\n",
        "run_graph(inputs)"
      ],
      "metadata": {
        "id": "MqRAR2Z4Xa3D",
        "outputId": "f0d94b7b-286f-4092-e8b6-491b94c7d656",
        "colab": {
          "base_uri": "https://localhost:8080/"
        }
      },
      "execution_count": 12,
      "outputs": [
        {
          "output_type": "stream",
          "name": "stdout",
          "text": [
            "---SELECT TABLES---\n",
            "\n",
            "{'select_tables': {'messages': ['']}}\n"
          ]
        }
      ]
    },
    {
      "cell_type": "code",
      "source": [],
      "metadata": {
        "id": "GCgYUWaSWSkI"
      },
      "execution_count": null,
      "outputs": []
    }
  ]
}