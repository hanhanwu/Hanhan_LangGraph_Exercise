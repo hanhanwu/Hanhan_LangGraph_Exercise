{
  "nbformat": 4,
  "nbformat_minor": 0,
  "metadata": {
    "colab": {
      "provenance": [],
      "authorship_tag": "ABX9TyODqrL1SYvk+twPcxFa/kfD",
      "include_colab_link": true
    },
    "kernelspec": {
      "name": "python3",
      "display_name": "Python 3"
    },
    "language_info": {
      "name": "python"
    }
  },
  "cells": [
    {
      "cell_type": "markdown",
      "metadata": {
        "id": "view-in-github",
        "colab_type": "text"
      },
      "source": [
        "<a href=\"https://colab.research.google.com/github/hanhanwu/Hanhan_LangGraph_Exercise/blob/main/AI_for_BI/sql_agent.ipynb\" target=\"_parent\"><img src=\"https://colab.research.google.com/assets/colab-badge.svg\" alt=\"Open In Colab\"/></a>"
      ]
    },
    {
      "cell_type": "markdown",
      "source": [
        "# About this SQL Agent\n",
        "\n",
        "* After a user typed in a query, the agent is able to\n",
        "  * locate the tables\n",
        "  * write the SQL query to answer user's question\n",
        "  * execute the SQL query and rewrite the SQL query until LLM thinks it gets the correct output"
      ],
      "metadata": {
        "id": "ZQRdflQ4lNii"
      }
    },
    {
      "cell_type": "code",
      "execution_count": 1,
      "metadata": {
        "id": "5w26iZoUhfcE"
      },
      "outputs": [],
      "source": [
        "%%capture --no-stderr\n",
        "%pip install -U langgraph langchain_openai langchain_community"
      ]
    },
    {
      "cell_type": "code",
      "source": [
        "from google.colab import userdata\n",
        "\n",
        "# load the environment variables set in colab\n",
        "OPENAI_API_KEY = userdata.get('OPENAI_API_KEY')"
      ],
      "metadata": {
        "id": "bcJMnINAhmif"
      },
      "execution_count": 12,
      "outputs": []
    },
    {
      "cell_type": "markdown",
      "source": [
        "# About the Data\n",
        "\n",
        "* This is a SQLite example database \"chinook\", it has multiple tables: `['Album', 'Artist', 'Customer', 'Employee', 'Genre', 'Invoice', 'InvoiceLine', 'MediaType', 'Playlist', 'PlaylistTrack', 'Track']`"
      ],
      "metadata": {
        "id": "28y_aEQOliSu"
      }
    },
    {
      "cell_type": "code",
      "source": [
        "import requests\n",
        "\n",
        "url = \"https://storage.googleapis.com/benchmarks-artifacts/chinook/Chinook.db\"\n",
        "\n",
        "response = requests.get(url)\n",
        "\n",
        "if response.status_code == 200:\n",
        "    # Open a local file in binary write mode\n",
        "    with open(\"Chinook.db\", \"wb\") as file:\n",
        "        # Write the content of the response (the file) to the local file\n",
        "        file.write(response.content)\n",
        "    print(\"File downloaded and saved as Chinook.db\")\n",
        "else:\n",
        "    print(f\"Failed to download the file. Status code: {response.status_code}\")"
      ],
      "metadata": {
        "colab": {
          "base_uri": "https://localhost:8080/"
        },
        "id": "QUtqvKwbmQj7",
        "outputId": "0d9b00d3-36a4-43f6-f514-d487eee79121"
      },
      "execution_count": 2,
      "outputs": [
        {
          "output_type": "stream",
          "name": "stdout",
          "text": [
            "File downloaded and saved as Chinook.db\n"
          ]
        }
      ]
    },
    {
      "cell_type": "code",
      "source": [
        "from langchain_community.utilities import SQLDatabase\n",
        "import pandas as pd\n",
        "import pprint\n",
        "import json\n",
        "import ast\n",
        "\n",
        "\n",
        "db = SQLDatabase.from_uri(\"sqlite:///Chinook.db\")  # load the downloaded DB\n",
        "print(db.dialect)\n",
        "all_table_names = db.get_usable_table_names()\n",
        "print('All the Usable Tables:', all_table_names)\n",
        "print()\n",
        "\n",
        "print('Data Sample from Table Customer:')\n",
        "sample = ast.literal_eval(db.run(\"SELECT * FROM Customer LIMIT 5;\"))\n",
        "columns_query = \"\"\"SELECT name FROM pragma_table_info('Customer')\"\"\"\n",
        "cols = db.run(columns_query)\n",
        "sample_df = pd.DataFrame(sample, columns=[col[0] for col in ast.literal_eval(cols)])\n",
        "display(sample_df)"
      ],
      "metadata": {
        "id": "c4gJhWGKkiP7",
        "colab": {
          "base_uri": "https://localhost:8080/",
          "height": 488
        },
        "outputId": "e9ff6670-1536-4173-ceac-b00d55d0d22a"
      },
      "execution_count": 28,
      "outputs": [
        {
          "output_type": "stream",
          "name": "stdout",
          "text": [
            "sqlite\n",
            "All the Usable Tables: ['Album', 'Artist', 'Customer', 'Employee', 'Genre', 'Invoice', 'InvoiceLine', 'MediaType', 'Playlist', 'PlaylistTrack', 'Track']\n",
            "\n",
            "Data Sample from Table Customer:\n"
          ]
        },
        {
          "output_type": "display_data",
          "data": {
            "text/plain": [
              "   CustomerId  FirstName     LastName  \\\n",
              "0           1       Luís    Gonçalves   \n",
              "1           2     Leonie       Köhler   \n",
              "2           3   François     Tremblay   \n",
              "3           4      Bjørn       Hansen   \n",
              "4           5  František  Wichterlová   \n",
              "\n",
              "                                            Company  \\\n",
              "0  Embraer - Empresa Brasileira de Aeronáutica S.A.   \n",
              "1                                              None   \n",
              "2                                              None   \n",
              "3                                              None   \n",
              "4                                  JetBrains s.r.o.   \n",
              "\n",
              "                           Address                 City State         Country  \\\n",
              "0  Av. Brigadeiro Faria Lima, 2170  São José dos Campos    SP          Brazil   \n",
              "1          Theodor-Heuss-Straße 34            Stuttgart  None         Germany   \n",
              "2                1498 rue Bélanger             Montréal    QC          Canada   \n",
              "3                 Ullevålsveien 14                 Oslo  None          Norway   \n",
              "4                    Klanova 9/506               Prague  None  Czech Republic   \n",
              "\n",
              "  PostalCode               Phone                 Fax  \\\n",
              "0  12227-000  +55 (12) 3923-5555  +55 (12) 3923-5566   \n",
              "1      70174    +49 0711 2842222                None   \n",
              "2    H2G 1A7   +1 (514) 721-4711                None   \n",
              "3       0171     +47 22 44 22 22                None   \n",
              "4      14700    +420 2 4172 5555    +420 2 4172 5555   \n",
              "\n",
              "                      Email  SupportRepId  \n",
              "0      luisg@embraer.com.br             3  \n",
              "1     leonekohler@surfeu.de             5  \n",
              "2       ftremblay@gmail.com             3  \n",
              "3     bjorn.hansen@yahoo.no             4  \n",
              "4  frantisekw@jetbrains.com             4  "
            ],
            "text/html": [
              "\n",
              "  <div id=\"df-465905e0-63f2-4cb2-8522-7abd8d0dcb70\" class=\"colab-df-container\">\n",
              "    <div>\n",
              "<style scoped>\n",
              "    .dataframe tbody tr th:only-of-type {\n",
              "        vertical-align: middle;\n",
              "    }\n",
              "\n",
              "    .dataframe tbody tr th {\n",
              "        vertical-align: top;\n",
              "    }\n",
              "\n",
              "    .dataframe thead th {\n",
              "        text-align: right;\n",
              "    }\n",
              "</style>\n",
              "<table border=\"1\" class=\"dataframe\">\n",
              "  <thead>\n",
              "    <tr style=\"text-align: right;\">\n",
              "      <th></th>\n",
              "      <th>CustomerId</th>\n",
              "      <th>FirstName</th>\n",
              "      <th>LastName</th>\n",
              "      <th>Company</th>\n",
              "      <th>Address</th>\n",
              "      <th>City</th>\n",
              "      <th>State</th>\n",
              "      <th>Country</th>\n",
              "      <th>PostalCode</th>\n",
              "      <th>Phone</th>\n",
              "      <th>Fax</th>\n",
              "      <th>Email</th>\n",
              "      <th>SupportRepId</th>\n",
              "    </tr>\n",
              "  </thead>\n",
              "  <tbody>\n",
              "    <tr>\n",
              "      <th>0</th>\n",
              "      <td>1</td>\n",
              "      <td>Luís</td>\n",
              "      <td>Gonçalves</td>\n",
              "      <td>Embraer - Empresa Brasileira de Aeronáutica S.A.</td>\n",
              "      <td>Av. Brigadeiro Faria Lima, 2170</td>\n",
              "      <td>São José dos Campos</td>\n",
              "      <td>SP</td>\n",
              "      <td>Brazil</td>\n",
              "      <td>12227-000</td>\n",
              "      <td>+55 (12) 3923-5555</td>\n",
              "      <td>+55 (12) 3923-5566</td>\n",
              "      <td>luisg@embraer.com.br</td>\n",
              "      <td>3</td>\n",
              "    </tr>\n",
              "    <tr>\n",
              "      <th>1</th>\n",
              "      <td>2</td>\n",
              "      <td>Leonie</td>\n",
              "      <td>Köhler</td>\n",
              "      <td>None</td>\n",
              "      <td>Theodor-Heuss-Straße 34</td>\n",
              "      <td>Stuttgart</td>\n",
              "      <td>None</td>\n",
              "      <td>Germany</td>\n",
              "      <td>70174</td>\n",
              "      <td>+49 0711 2842222</td>\n",
              "      <td>None</td>\n",
              "      <td>leonekohler@surfeu.de</td>\n",
              "      <td>5</td>\n",
              "    </tr>\n",
              "    <tr>\n",
              "      <th>2</th>\n",
              "      <td>3</td>\n",
              "      <td>François</td>\n",
              "      <td>Tremblay</td>\n",
              "      <td>None</td>\n",
              "      <td>1498 rue Bélanger</td>\n",
              "      <td>Montréal</td>\n",
              "      <td>QC</td>\n",
              "      <td>Canada</td>\n",
              "      <td>H2G 1A7</td>\n",
              "      <td>+1 (514) 721-4711</td>\n",
              "      <td>None</td>\n",
              "      <td>ftremblay@gmail.com</td>\n",
              "      <td>3</td>\n",
              "    </tr>\n",
              "    <tr>\n",
              "      <th>3</th>\n",
              "      <td>4</td>\n",
              "      <td>Bjørn</td>\n",
              "      <td>Hansen</td>\n",
              "      <td>None</td>\n",
              "      <td>Ullevålsveien 14</td>\n",
              "      <td>Oslo</td>\n",
              "      <td>None</td>\n",
              "      <td>Norway</td>\n",
              "      <td>0171</td>\n",
              "      <td>+47 22 44 22 22</td>\n",
              "      <td>None</td>\n",
              "      <td>bjorn.hansen@yahoo.no</td>\n",
              "      <td>4</td>\n",
              "    </tr>\n",
              "    <tr>\n",
              "      <th>4</th>\n",
              "      <td>5</td>\n",
              "      <td>František</td>\n",
              "      <td>Wichterlová</td>\n",
              "      <td>JetBrains s.r.o.</td>\n",
              "      <td>Klanova 9/506</td>\n",
              "      <td>Prague</td>\n",
              "      <td>None</td>\n",
              "      <td>Czech Republic</td>\n",
              "      <td>14700</td>\n",
              "      <td>+420 2 4172 5555</td>\n",
              "      <td>+420 2 4172 5555</td>\n",
              "      <td>frantisekw@jetbrains.com</td>\n",
              "      <td>4</td>\n",
              "    </tr>\n",
              "  </tbody>\n",
              "</table>\n",
              "</div>\n",
              "    <div class=\"colab-df-buttons\">\n",
              "\n",
              "  <div class=\"colab-df-container\">\n",
              "    <button class=\"colab-df-convert\" onclick=\"convertToInteractive('df-465905e0-63f2-4cb2-8522-7abd8d0dcb70')\"\n",
              "            title=\"Convert this dataframe to an interactive table.\"\n",
              "            style=\"display:none;\">\n",
              "\n",
              "  <svg xmlns=\"http://www.w3.org/2000/svg\" height=\"24px\" viewBox=\"0 -960 960 960\">\n",
              "    <path d=\"M120-120v-720h720v720H120Zm60-500h600v-160H180v160Zm220 220h160v-160H400v160Zm0 220h160v-160H400v160ZM180-400h160v-160H180v160Zm440 0h160v-160H620v160ZM180-180h160v-160H180v160Zm440 0h160v-160H620v160Z\"/>\n",
              "  </svg>\n",
              "    </button>\n",
              "\n",
              "  <style>\n",
              "    .colab-df-container {\n",
              "      display:flex;\n",
              "      gap: 12px;\n",
              "    }\n",
              "\n",
              "    .colab-df-convert {\n",
              "      background-color: #E8F0FE;\n",
              "      border: none;\n",
              "      border-radius: 50%;\n",
              "      cursor: pointer;\n",
              "      display: none;\n",
              "      fill: #1967D2;\n",
              "      height: 32px;\n",
              "      padding: 0 0 0 0;\n",
              "      width: 32px;\n",
              "    }\n",
              "\n",
              "    .colab-df-convert:hover {\n",
              "      background-color: #E2EBFA;\n",
              "      box-shadow: 0px 1px 2px rgba(60, 64, 67, 0.3), 0px 1px 3px 1px rgba(60, 64, 67, 0.15);\n",
              "      fill: #174EA6;\n",
              "    }\n",
              "\n",
              "    .colab-df-buttons div {\n",
              "      margin-bottom: 4px;\n",
              "    }\n",
              "\n",
              "    [theme=dark] .colab-df-convert {\n",
              "      background-color: #3B4455;\n",
              "      fill: #D2E3FC;\n",
              "    }\n",
              "\n",
              "    [theme=dark] .colab-df-convert:hover {\n",
              "      background-color: #434B5C;\n",
              "      box-shadow: 0px 1px 3px 1px rgba(0, 0, 0, 0.15);\n",
              "      filter: drop-shadow(0px 1px 2px rgba(0, 0, 0, 0.3));\n",
              "      fill: #FFFFFF;\n",
              "    }\n",
              "  </style>\n",
              "\n",
              "    <script>\n",
              "      const buttonEl =\n",
              "        document.querySelector('#df-465905e0-63f2-4cb2-8522-7abd8d0dcb70 button.colab-df-convert');\n",
              "      buttonEl.style.display =\n",
              "        google.colab.kernel.accessAllowed ? 'block' : 'none';\n",
              "\n",
              "      async function convertToInteractive(key) {\n",
              "        const element = document.querySelector('#df-465905e0-63f2-4cb2-8522-7abd8d0dcb70');\n",
              "        const dataTable =\n",
              "          await google.colab.kernel.invokeFunction('convertToInteractive',\n",
              "                                                    [key], {});\n",
              "        if (!dataTable) return;\n",
              "\n",
              "        const docLinkHtml = 'Like what you see? Visit the ' +\n",
              "          '<a target=\"_blank\" href=https://colab.research.google.com/notebooks/data_table.ipynb>data table notebook</a>'\n",
              "          + ' to learn more about interactive tables.';\n",
              "        element.innerHTML = '';\n",
              "        dataTable['output_type'] = 'display_data';\n",
              "        await google.colab.output.renderOutput(dataTable, element);\n",
              "        const docLink = document.createElement('div');\n",
              "        docLink.innerHTML = docLinkHtml;\n",
              "        element.appendChild(docLink);\n",
              "      }\n",
              "    </script>\n",
              "  </div>\n",
              "\n",
              "\n",
              "<div id=\"df-dc0c92d8-b3f1-4dbb-8f52-67391d0c4014\">\n",
              "  <button class=\"colab-df-quickchart\" onclick=\"quickchart('df-dc0c92d8-b3f1-4dbb-8f52-67391d0c4014')\"\n",
              "            title=\"Suggest charts\"\n",
              "            style=\"display:none;\">\n",
              "\n",
              "<svg xmlns=\"http://www.w3.org/2000/svg\" height=\"24px\"viewBox=\"0 0 24 24\"\n",
              "     width=\"24px\">\n",
              "    <g>\n",
              "        <path d=\"M19 3H5c-1.1 0-2 .9-2 2v14c0 1.1.9 2 2 2h14c1.1 0 2-.9 2-2V5c0-1.1-.9-2-2-2zM9 17H7v-7h2v7zm4 0h-2V7h2v10zm4 0h-2v-4h2v4z\"/>\n",
              "    </g>\n",
              "</svg>\n",
              "  </button>\n",
              "\n",
              "<style>\n",
              "  .colab-df-quickchart {\n",
              "      --bg-color: #E8F0FE;\n",
              "      --fill-color: #1967D2;\n",
              "      --hover-bg-color: #E2EBFA;\n",
              "      --hover-fill-color: #174EA6;\n",
              "      --disabled-fill-color: #AAA;\n",
              "      --disabled-bg-color: #DDD;\n",
              "  }\n",
              "\n",
              "  [theme=dark] .colab-df-quickchart {\n",
              "      --bg-color: #3B4455;\n",
              "      --fill-color: #D2E3FC;\n",
              "      --hover-bg-color: #434B5C;\n",
              "      --hover-fill-color: #FFFFFF;\n",
              "      --disabled-bg-color: #3B4455;\n",
              "      --disabled-fill-color: #666;\n",
              "  }\n",
              "\n",
              "  .colab-df-quickchart {\n",
              "    background-color: var(--bg-color);\n",
              "    border: none;\n",
              "    border-radius: 50%;\n",
              "    cursor: pointer;\n",
              "    display: none;\n",
              "    fill: var(--fill-color);\n",
              "    height: 32px;\n",
              "    padding: 0;\n",
              "    width: 32px;\n",
              "  }\n",
              "\n",
              "  .colab-df-quickchart:hover {\n",
              "    background-color: var(--hover-bg-color);\n",
              "    box-shadow: 0 1px 2px rgba(60, 64, 67, 0.3), 0 1px 3px 1px rgba(60, 64, 67, 0.15);\n",
              "    fill: var(--button-hover-fill-color);\n",
              "  }\n",
              "\n",
              "  .colab-df-quickchart-complete:disabled,\n",
              "  .colab-df-quickchart-complete:disabled:hover {\n",
              "    background-color: var(--disabled-bg-color);\n",
              "    fill: var(--disabled-fill-color);\n",
              "    box-shadow: none;\n",
              "  }\n",
              "\n",
              "  .colab-df-spinner {\n",
              "    border: 2px solid var(--fill-color);\n",
              "    border-color: transparent;\n",
              "    border-bottom-color: var(--fill-color);\n",
              "    animation:\n",
              "      spin 1s steps(1) infinite;\n",
              "  }\n",
              "\n",
              "  @keyframes spin {\n",
              "    0% {\n",
              "      border-color: transparent;\n",
              "      border-bottom-color: var(--fill-color);\n",
              "      border-left-color: var(--fill-color);\n",
              "    }\n",
              "    20% {\n",
              "      border-color: transparent;\n",
              "      border-left-color: var(--fill-color);\n",
              "      border-top-color: var(--fill-color);\n",
              "    }\n",
              "    30% {\n",
              "      border-color: transparent;\n",
              "      border-left-color: var(--fill-color);\n",
              "      border-top-color: var(--fill-color);\n",
              "      border-right-color: var(--fill-color);\n",
              "    }\n",
              "    40% {\n",
              "      border-color: transparent;\n",
              "      border-right-color: var(--fill-color);\n",
              "      border-top-color: var(--fill-color);\n",
              "    }\n",
              "    60% {\n",
              "      border-color: transparent;\n",
              "      border-right-color: var(--fill-color);\n",
              "    }\n",
              "    80% {\n",
              "      border-color: transparent;\n",
              "      border-right-color: var(--fill-color);\n",
              "      border-bottom-color: var(--fill-color);\n",
              "    }\n",
              "    90% {\n",
              "      border-color: transparent;\n",
              "      border-bottom-color: var(--fill-color);\n",
              "    }\n",
              "  }\n",
              "</style>\n",
              "\n",
              "  <script>\n",
              "    async function quickchart(key) {\n",
              "      const quickchartButtonEl =\n",
              "        document.querySelector('#' + key + ' button');\n",
              "      quickchartButtonEl.disabled = true;  // To prevent multiple clicks.\n",
              "      quickchartButtonEl.classList.add('colab-df-spinner');\n",
              "      try {\n",
              "        const charts = await google.colab.kernel.invokeFunction(\n",
              "            'suggestCharts', [key], {});\n",
              "      } catch (error) {\n",
              "        console.error('Error during call to suggestCharts:', error);\n",
              "      }\n",
              "      quickchartButtonEl.classList.remove('colab-df-spinner');\n",
              "      quickchartButtonEl.classList.add('colab-df-quickchart-complete');\n",
              "    }\n",
              "    (() => {\n",
              "      let quickchartButtonEl =\n",
              "        document.querySelector('#df-dc0c92d8-b3f1-4dbb-8f52-67391d0c4014 button');\n",
              "      quickchartButtonEl.style.display =\n",
              "        google.colab.kernel.accessAllowed ? 'block' : 'none';\n",
              "    })();\n",
              "  </script>\n",
              "</div>\n",
              "\n",
              "  <div id=\"id_5288fe6d-f54f-4681-a18c-b17790a29bde\">\n",
              "    <style>\n",
              "      .colab-df-generate {\n",
              "        background-color: #E8F0FE;\n",
              "        border: none;\n",
              "        border-radius: 50%;\n",
              "        cursor: pointer;\n",
              "        display: none;\n",
              "        fill: #1967D2;\n",
              "        height: 32px;\n",
              "        padding: 0 0 0 0;\n",
              "        width: 32px;\n",
              "      }\n",
              "\n",
              "      .colab-df-generate:hover {\n",
              "        background-color: #E2EBFA;\n",
              "        box-shadow: 0px 1px 2px rgba(60, 64, 67, 0.3), 0px 1px 3px 1px rgba(60, 64, 67, 0.15);\n",
              "        fill: #174EA6;\n",
              "      }\n",
              "\n",
              "      [theme=dark] .colab-df-generate {\n",
              "        background-color: #3B4455;\n",
              "        fill: #D2E3FC;\n",
              "      }\n",
              "\n",
              "      [theme=dark] .colab-df-generate:hover {\n",
              "        background-color: #434B5C;\n",
              "        box-shadow: 0px 1px 3px 1px rgba(0, 0, 0, 0.15);\n",
              "        filter: drop-shadow(0px 1px 2px rgba(0, 0, 0, 0.3));\n",
              "        fill: #FFFFFF;\n",
              "      }\n",
              "    </style>\n",
              "    <button class=\"colab-df-generate\" onclick=\"generateWithVariable('sample_df')\"\n",
              "            title=\"Generate code using this dataframe.\"\n",
              "            style=\"display:none;\">\n",
              "\n",
              "  <svg xmlns=\"http://www.w3.org/2000/svg\" height=\"24px\"viewBox=\"0 0 24 24\"\n",
              "       width=\"24px\">\n",
              "    <path d=\"M7,19H8.4L18.45,9,17,7.55,7,17.6ZM5,21V16.75L18.45,3.32a2,2,0,0,1,2.83,0l1.4,1.43a1.91,1.91,0,0,1,.58,1.4,1.91,1.91,0,0,1-.58,1.4L9.25,21ZM18.45,9,17,7.55Zm-12,3A5.31,5.31,0,0,0,4.9,8.1,5.31,5.31,0,0,0,1,6.5,5.31,5.31,0,0,0,4.9,4.9,5.31,5.31,0,0,0,6.5,1,5.31,5.31,0,0,0,8.1,4.9,5.31,5.31,0,0,0,12,6.5,5.46,5.46,0,0,0,6.5,12Z\"/>\n",
              "  </svg>\n",
              "    </button>\n",
              "    <script>\n",
              "      (() => {\n",
              "      const buttonEl =\n",
              "        document.querySelector('#id_5288fe6d-f54f-4681-a18c-b17790a29bde button.colab-df-generate');\n",
              "      buttonEl.style.display =\n",
              "        google.colab.kernel.accessAllowed ? 'block' : 'none';\n",
              "\n",
              "      buttonEl.onclick = () => {\n",
              "        google.colab.notebook.generateWithVariable('sample_df');\n",
              "      }\n",
              "      })();\n",
              "    </script>\n",
              "  </div>\n",
              "\n",
              "    </div>\n",
              "  </div>\n"
            ],
            "application/vnd.google.colaboratory.intrinsic+json": {
              "type": "dataframe",
              "variable_name": "sample_df",
              "summary": "{\n  \"name\": \"sample_df\",\n  \"rows\": 5,\n  \"fields\": [\n    {\n      \"column\": \"CustomerId\",\n      \"properties\": {\n        \"dtype\": \"number\",\n        \"std\": 1,\n        \"min\": 1,\n        \"max\": 5,\n        \"num_unique_values\": 5,\n        \"samples\": [\n          2,\n          5,\n          3\n        ],\n        \"semantic_type\": \"\",\n        \"description\": \"\"\n      }\n    },\n    {\n      \"column\": \"FirstName\",\n      \"properties\": {\n        \"dtype\": \"string\",\n        \"num_unique_values\": 5,\n        \"samples\": [\n          \"Leonie\",\n          \"Franti\\u0161ek\",\n          \"Fran\\u00e7ois\"\n        ],\n        \"semantic_type\": \"\",\n        \"description\": \"\"\n      }\n    },\n    {\n      \"column\": \"LastName\",\n      \"properties\": {\n        \"dtype\": \"string\",\n        \"num_unique_values\": 5,\n        \"samples\": [\n          \"K\\u00f6hler\",\n          \"Wichterlov\\u00e1\",\n          \"Tremblay\"\n        ],\n        \"semantic_type\": \"\",\n        \"description\": \"\"\n      }\n    },\n    {\n      \"column\": \"Company\",\n      \"properties\": {\n        \"dtype\": \"category\",\n        \"num_unique_values\": 2,\n        \"samples\": [\n          \"JetBrains s.r.o.\",\n          \"Embraer - Empresa Brasileira de Aeron\\u00e1utica S.A.\"\n        ],\n        \"semantic_type\": \"\",\n        \"description\": \"\"\n      }\n    },\n    {\n      \"column\": \"Address\",\n      \"properties\": {\n        \"dtype\": \"string\",\n        \"num_unique_values\": 5,\n        \"samples\": [\n          \"Theodor-Heuss-Stra\\u00dfe 34\",\n          \"Klanova 9/506\"\n        ],\n        \"semantic_type\": \"\",\n        \"description\": \"\"\n      }\n    },\n    {\n      \"column\": \"City\",\n      \"properties\": {\n        \"dtype\": \"string\",\n        \"num_unique_values\": 5,\n        \"samples\": [\n          \"Stuttgart\",\n          \"Prague\"\n        ],\n        \"semantic_type\": \"\",\n        \"description\": \"\"\n      }\n    },\n    {\n      \"column\": \"State\",\n      \"properties\": {\n        \"dtype\": \"category\",\n        \"num_unique_values\": 2,\n        \"samples\": [\n          \"QC\",\n          \"SP\"\n        ],\n        \"semantic_type\": \"\",\n        \"description\": \"\"\n      }\n    },\n    {\n      \"column\": \"Country\",\n      \"properties\": {\n        \"dtype\": \"string\",\n        \"num_unique_values\": 5,\n        \"samples\": [\n          \"Germany\",\n          \"Czech Republic\"\n        ],\n        \"semantic_type\": \"\",\n        \"description\": \"\"\n      }\n    },\n    {\n      \"column\": \"PostalCode\",\n      \"properties\": {\n        \"dtype\": \"string\",\n        \"num_unique_values\": 5,\n        \"samples\": [\n          \"70174\",\n          \"14700\"\n        ],\n        \"semantic_type\": \"\",\n        \"description\": \"\"\n      }\n    },\n    {\n      \"column\": \"Phone\",\n      \"properties\": {\n        \"dtype\": \"string\",\n        \"num_unique_values\": 5,\n        \"samples\": [\n          \"+49 0711 2842222\",\n          \"+420 2 4172 5555\"\n        ],\n        \"semantic_type\": \"\",\n        \"description\": \"\"\n      }\n    },\n    {\n      \"column\": \"Fax\",\n      \"properties\": {\n        \"dtype\": \"category\",\n        \"num_unique_values\": 2,\n        \"samples\": [\n          \"+420 2 4172 5555\",\n          \"+55 (12) 3923-5566\"\n        ],\n        \"semantic_type\": \"\",\n        \"description\": \"\"\n      }\n    },\n    {\n      \"column\": \"Email\",\n      \"properties\": {\n        \"dtype\": \"string\",\n        \"num_unique_values\": 5,\n        \"samples\": [\n          \"leonekohler@surfeu.de\",\n          \"frantisekw@jetbrains.com\"\n        ],\n        \"semantic_type\": \"\",\n        \"description\": \"\"\n      }\n    },\n    {\n      \"column\": \"SupportRepId\",\n      \"properties\": {\n        \"dtype\": \"number\",\n        \"std\": 0,\n        \"min\": 3,\n        \"max\": 5,\n        \"num_unique_values\": 3,\n        \"samples\": [\n          3,\n          5\n        ],\n        \"semantic_type\": \"\",\n        \"description\": \"\"\n      }\n    }\n  ]\n}"
            }
          },
          "metadata": {}
        }
      ]
    },
    {
      "cell_type": "code",
      "source": [
        "all_table_schemas = {}\n",
        "schema_cols = ['cid', 'name', 'type', 'notnull', 'default_value', 'pk']\n",
        "for table_name in all_table_names:\n",
        "    # Get schema data\n",
        "    schema_query = f\"PRAGMA table_info({table_name});\"\n",
        "    schema_result = db.run(schema_query)\n",
        "    schema_data = ast.literal_eval(schema_result)\n",
        "\n",
        "    # Combine column names and schema data\n",
        "    schema = []\n",
        "    for i, data in enumerate(schema_data):\n",
        "        schema.append(dict(zip(schema_cols, data)))\n",
        "    all_table_schemas[table_name] = schema\n",
        "\n",
        "for k, v in all_table_schemas.items():\n",
        "  print(k)\n",
        "  print(v)\n",
        "  break"
      ],
      "metadata": {
        "id": "zpRtSjwI5e24",
        "outputId": "bba7df36-5ae7-4818-9ee2-6b5a404c30a3",
        "colab": {
          "base_uri": "https://localhost:8080/"
        },
        "collapsed": true
      },
      "execution_count": 4,
      "outputs": [
        {
          "output_type": "stream",
          "name": "stdout",
          "text": [
            "Album\n",
            "[{'cid': 0, 'name': 'AlbumId', 'type': 'INTEGER', 'notnull': 1, 'default_value': None, 'pk': 1}, {'cid': 1, 'name': 'Title', 'type': 'NVARCHAR(160)', 'notnull': 1, 'default_value': None, 'pk': 0}, {'cid': 2, 'name': 'ArtistId', 'type': 'INTEGER', 'notnull': 1, 'default_value': None, 'pk': 0}]\n"
          ]
        }
      ]
    },
    {
      "cell_type": "markdown",
      "source": [
        "# Build Agent"
      ],
      "metadata": {
        "id": "b0jw9YiLuayp"
      }
    },
    {
      "cell_type": "markdown",
      "source": [
        "### The State of the Agent"
      ],
      "metadata": {
        "id": "eVfU8eHF0NVD"
      }
    },
    {
      "cell_type": "code",
      "source": [
        "from typing import List\n",
        "from typing import Annotated, Sequence\n",
        "from typing_extensions import TypedDict\n",
        "\n",
        "from langchain_core.messages import BaseMessage\n",
        "from langgraph.graph.message import add_messages\n",
        "\n",
        "\n",
        "class AgentState(TypedDict):\n",
        "    messages: Annotated[Sequence[BaseMessage], add_messages]\n",
        "    correct_sql: bool"
      ],
      "metadata": {
        "id": "SLdN4KFDqtof"
      },
      "execution_count": 45,
      "outputs": []
    },
    {
      "cell_type": "markdown",
      "source": [
        "### Nodes & Edges"
      ],
      "metadata": {
        "id": "k-iTHueV0Us8"
      }
    },
    {
      "cell_type": "code",
      "source": [
        "import re\n",
        "from typing import Annotated, Literal, Sequence\n",
        "from typing_extensions import TypedDict\n",
        "from pydantic import BaseModel, Field\n",
        "\n",
        "from langchain import hub\n",
        "from langchain_core.messages import BaseMessage, HumanMessage, SystemMessage\n",
        "from langchain_core.output_parsers import StrOutputParser\n",
        "from langchain_core.prompts import PromptTemplate\n",
        "from langchain_openai import ChatOpenAI\n",
        "\n",
        "from langgraph.prebuilt import tools_condition\n",
        "\n",
        "\n",
        "model_str = \"gpt-4o-mini-2024-07-18\""
      ],
      "metadata": {
        "id": "kHSCdLyvFcSV"
      },
      "execution_count": 39,
      "outputs": []
    },
    {
      "cell_type": "code",
      "source": [
        "def extract_sql_str(raw_str):\n",
        "  pattern = r\"\"\"```sql\\n(.*?)\\n```\"\"\"\n",
        "  match = re.search(pattern, raw_str, re.DOTALL)  # re.DOTALL allows matching across lines.\n",
        "\n",
        "  if match:\n",
        "    return match.group(1).strip()  # Extract and clean the content.\n",
        "  else:\n",
        "    return None\n",
        "\n",
        "\n",
        "def write_sql(state):\n",
        "  \"\"\"\n",
        "    Given user's question,\n",
        "      1. LLM to check whether there's available table, if not generate the answer directly.\n",
        "      2. Otherwise, write the SQL query to answer user's question.\n",
        "  \"\"\"\n",
        "  print(\"---WRITE SQL---\")\n",
        "  msgs = state[\"messages\"]\n",
        "  user_question = msgs[0].content\n",
        "\n",
        "  model = ChatOpenAI(temperature=0, api_key=OPENAI_API_KEY,\n",
        "                       model=model_str, streaming=True)\n",
        "\n",
        "  prompt = [\n",
        "      SystemMessage(content=\"You are a SQL expert able to write SQL queries to answer user's questions.\"),\n",
        "      HumanMessage(\n",
        "          content=f\"\"\" \\n\n",
        "                  Given every table's schema in the database: {all_table_schemas} \\n\n",
        "                  and here's user's question: {user_question} \\n\n",
        "                  if there's no available table to answer's the user question, output 'No table found' \\n\n",
        "                  otherwise, output the SQL query to answer user's question: \"\"\",\n",
        "      )\n",
        "  ]\n",
        "\n",
        "  result = model.invoke(prompt).content\n",
        "  if 'No table found' in result:\n",
        "    output = 'No table found'\n",
        "  else:\n",
        "    output = extract_sql_str(result)\n",
        "\n",
        "  return {\"messages\": [output]}\n",
        "\n",
        "\n",
        "def execute_sql(state):\n",
        "  \"\"\"\n",
        "    Execute the generated SQL query.\n",
        "  \"\"\"\n",
        "  print(\"---EXECUTE SQL---\")\n",
        "  generated_sql = state[\"messages\"][-1].content\n",
        "\n",
        "  try:\n",
        "    result = db.run(generated_sql)\n",
        "    return {\"messages\": [result],\n",
        "            \"correct_sql\": False}\n",
        "  except:\n",
        "    print('SQL Execution Error')\n",
        "    return {\"messages\": [generated_sql],\n",
        "            \"correct_sql\": True}\n",
        "\n",
        "\n",
        "def rewrite_sql(state):\n",
        "  \"\"\"\n",
        "    Rewrite the generated SQL query.\n",
        "  \"\"\"\n",
        "  print(\"---REWRITE SQL---\")\n",
        "  msgs = state[\"messages\"]\n",
        "  error_sql = msgs[-1].content\n",
        "  user_question = msgs[0].content\n",
        "\n",
        "  model = ChatOpenAI(temperature=0, api_key=OPENAI_API_KEY,\n",
        "                       model=model_str, streaming=True)\n",
        "  prompt = [\n",
        "      SystemMessage(content=\"You are a SQL expert able to write SQL queries to answer user's questions.\"),\n",
        "      HumanMessage(\n",
        "          content=f\"\"\" \\n\n",
        "                  Given every table's schema in the database: {all_table_schemas} \\n\n",
        "                  and here's user's question: {user_question}. \\n\n",
        "                  Previously written SQL {error_sql} got execution error \\n\n",
        "                  please rewrite a correct SQL query to answer user's question: \"\"\",\n",
        "      )\n",
        "  ]\n",
        "  rewritten_sql = extract_sql_str(model.invoke(prompt).content)\n",
        "\n",
        "  return {\"messages\": [rewritten_sql]}\n",
        "\n",
        "\n",
        "def output_answer(state):\n",
        "  \"\"\"\n",
        "    Output the final results\n",
        "  \"\"\"\n",
        "  print(\"---OUTPUT ANSWER---\")\n",
        "  msgs = state[\"messages\"]\n",
        "  final_output = msgs[-1].content\n",
        "\n",
        "  return {\"messages\": [final_output]}"
      ],
      "metadata": {
        "id": "_cTDfqAA0SDP"
      },
      "execution_count": 46,
      "outputs": []
    },
    {
      "cell_type": "markdown",
      "source": [
        "### Build Graph"
      ],
      "metadata": {
        "id": "Q0WFX7wsM8Xv"
      }
    },
    {
      "cell_type": "code",
      "source": [
        "from langgraph.graph import END, StateGraph, START\n",
        "\n",
        "# define a new graph\n",
        "workflow = StateGraph(AgentState)\n",
        "\n",
        "# add nodes\n",
        "workflow.add_node(\"write_sql\", write_sql)\n",
        "workflow.add_node(\"execute_sql\", execute_sql)\n",
        "workflow.add_node(\"rewrite_sql\", execute_sql)\n",
        "workflow.add_node(\"output_answer\", output_answer)\n",
        "\n",
        "# add edges\n",
        "workflow.add_edge(START, \"write_sql\")\n",
        "workflow.add_conditional_edges(\n",
        "    \"write_sql\",\n",
        "    lambda state: state[\"messages\"][-1].content == \"No table found\",\n",
        "    {True: \"output_answer\", False: \"execute_sql\"}\n",
        ")\n",
        "workflow.add_conditional_edges(\n",
        "    \"execute_sql\",\n",
        "    lambda state: state[\"correct_sql\"],\n",
        "    {True: \"rewrite_sql\", False: \"output_answer\"}\n",
        ")\n",
        "workflow.add_edge(\"rewrite_sql\", \"execute_sql\")\n",
        "\n",
        "# compile\n",
        "graph = workflow.compile()"
      ],
      "metadata": {
        "id": "k_su2uRjVDc-"
      },
      "execution_count": 50,
      "outputs": []
    },
    {
      "cell_type": "code",
      "source": [
        "from IPython.display import Image, display\n",
        "\n",
        "try:\n",
        "    display(Image(graph.get_graph(xray=True).draw_mermaid_png()))\n",
        "except Exception:\n",
        "    # This requires some extra dependencies and is optional\n",
        "    pass"
      ],
      "metadata": {
        "id": "u-ItUQtPVFE8",
        "outputId": "c8a18ffa-f6e6-4264-90b8-1648c7253839",
        "colab": {
          "base_uri": "https://localhost:8080/",
          "height": 413
        }
      },
      "execution_count": 51,
      "outputs": [
        {
          "output_type": "display_data",
          "data": {
            "image/png": "[encoded data removed]",
            "text/plain": [
              "<IPython.core.display.Image object>"
            ]
          },
          "metadata": {}
        }
      ]
    },
    {
      "cell_type": "markdown",
      "source": [
        "### Run SQL Agent"
      ],
      "metadata": {
        "id": "El4rTjUnXJxy"
      }
    },
    {
      "cell_type": "code",
      "source": [
        "import pprint\n",
        "from langchain_core.runnables import RunnableConfig\n",
        "from langgraph.errors import GraphRecursionError\n",
        "\n",
        "\n",
        "def run_graph(inputs):\n",
        "  graph_config = RunnableConfig(recursion_limit=5)  # stop if the cycle happened 5 times still can't hit END\n",
        "  try:\n",
        "    for output in graph.stream(inputs, config = graph_config):\n",
        "      for key, value in output.items():\n",
        "          pprint.pprint(f\"Output from node '{key}':\")\n",
        "          pprint.pprint(value, indent=2, width=80, depth=None)\n",
        "  except GraphRecursionError as e:\n",
        "    print()\n",
        "    print(\"Can't find the answer\")"
      ],
      "metadata": {
        "id": "aq44-TzwW3EL"
      },
      "execution_count": 32,
      "outputs": []
    },
    {
      "cell_type": "code",
      "source": [
        "inputs = {\n",
        "    \"messages\": [\n",
        "        (\"user\", \"\"\"Find me the unique number of customers and artists,\n",
        "                    output as a table with column names?\"\"\"),\n",
        "    ]\n",
        "}\n",
        "run_graph(inputs)"
      ],
      "metadata": {
        "id": "4fq8JgD0kwGP",
        "outputId": "396e4f62-cdef-417f-b63c-1a57acc8ce37",
        "colab": {
          "base_uri": "https://localhost:8080/"
        }
      },
      "execution_count": 35,
      "outputs": [
        {
          "output_type": "stream",
          "name": "stdout",
          "text": [
            "---WRITE SQL---\n",
            "\"Output from node 'write_sql':\"\n",
            "{ 'messages': [ 'SELECT \\n'\n",
            "                \"    'Customers' AS Category, \\n\"\n",
            "                '    COUNT(DISTINCT CustomerId) AS UniqueCount \\n'\n",
            "                'FROM \\n'\n",
            "                '    Customer\\n'\n",
            "                'UNION ALL\\n'\n",
            "                'SELECT \\n'\n",
            "                \"    'Artists' AS Category, \\n\"\n",
            "                '    COUNT(DISTINCT ArtistId) AS UniqueCount \\n'\n",
            "                'FROM \\n'\n",
            "                '    Artist;']}\n",
            "---EXECUTE SQL---\n",
            "[('Customers', 59), ('Artists', 275)]\n",
            "\"Output from node 'execute_sql':\"\n",
            "None\n"
          ]
        }
      ]
    },
    {
      "cell_type": "code",
      "source": [
        "inputs = {\n",
        "    \"messages\": [\n",
        "        (\"user\", \"How's the weather tomorrow?\"),\n",
        "    ]\n",
        "}\n",
        "run_graph(inputs)"
      ],
      "metadata": {
        "id": "MqRAR2Z4Xa3D",
        "outputId": "45c7b7fb-7a1f-4e6d-ae8c-a9d0b17bbd11",
        "colab": {
          "base_uri": "https://localhost:8080/"
        }
      },
      "execution_count": 26,
      "outputs": [
        {
          "output_type": "stream",
          "name": "stdout",
          "text": [
            "---WRITE SQL---\n",
            "\"Output from node 'write_sql':\"\n",
            "{'messages': ['No table found']}\n",
            "---OUTPUT ANSWER---\n",
            "\"Output from node 'output_answer':\"\n",
            "{'messages': ['No table found']}\n"
          ]
        }
      ]
    },
    {
      "cell_type": "code",
      "source": [],
      "metadata": {
        "id": "GCgYUWaSWSkI"
      },
      "execution_count": null,
      "outputs": []
    }
  ]
}