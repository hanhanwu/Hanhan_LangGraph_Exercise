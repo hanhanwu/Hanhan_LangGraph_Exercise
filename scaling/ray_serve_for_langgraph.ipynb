{
  "nbformat": 4,
  "nbformat_minor": 0,
  "metadata": {
    "colab": {
      "provenance": [],
      "authorship_tag": "ABX9TyNqiQFWAPdKM6qJTVTGM27u",
      "include_colab_link": true
    },
    "kernelspec": {
      "name": "python3",
      "display_name": "Python 3"
    },
    "language_info": {
      "name": "python"
    }
  },
  "cells": [
    {
      "cell_type": "markdown",
      "metadata": {
        "id": "view-in-github",
        "colab_type": "text"
      },
      "source": [
        "<a href=\"https://colab.research.google.com/github/hanhanwu/Hanhan_LangGraph_Exercise/blob/main/scaling/ray_serve_for_langgraph.ipynb\" target=\"_parent\"><img src=\"https://colab.research.google.com/assets/colab-badge.svg\" alt=\"Open In Colab\"/></a>"
      ]
    },
    {
      "cell_type": "code",
      "execution_count": null,
      "metadata": {
        "id": "dWvk5nGvLWjG"
      },
      "outputs": [],
      "source": [
        "%%capture --no-stderr\n",
        "%pip install -U --quiet langchain-community tiktoken langchain-openai langchainhub chromadb langchain langgraph langchain-text-splitters playwright unstructured\n",
        "!playwright install\n",
        "%pip install -U --quiet rank_bm25 faiss-cpu\n",
        "%pip install \"ray[serve]\""
      ]
    },
    {
      "cell_type": "code",
      "source": [
        "from google.colab import userdata\n",
        "\n",
        "# load the environment variables set in colab\n",
        "OPENAI_API_KEY = userdata.get('OPENAI_API_KEY')\n",
        "LANGSMITH_API_KEY = userdata.get('LANGSMITH_API_KEY')  # used to pull rlm/rag-prompt"
      ],
      "metadata": {
        "id": "DaOYEIiGOQv4"
      },
      "execution_count": null,
      "outputs": []
    },
    {
      "cell_type": "code",
      "source": [
        "import time\n",
        "import requests\n",
        "from starlette.requests import Request\n",
        "from typing import Dict\n",
        "\n",
        "from langchain_community.document_loaders import PlaywrightURLLoader\n",
        "from langchain_community.vectorstores import Chroma\n",
        "from langchain.retrievers import EnsembleRetriever\n",
        "from langchain_community.retrievers import BM25Retriever\n",
        "from langchain_community.vectorstores import FAISS\n",
        "from langchain_openai import OpenAIEmbeddings\n",
        "from langchain_text_splitters import RecursiveCharacterTextSplitter\n",
        "from langchain.tools.retriever import create_retriever_tool\n",
        "\n",
        "from ray import serve\n",
        "\n",
        "import nltk\n",
        "nltk_resources = [\n",
        "    'averaged_perceptron_tagger_eng',\n",
        "    'wordnet',\n",
        "    'stopwords',\n",
        "    'punkt_tab'\n",
        "]\n",
        "for resource in nltk_resources:\n",
        "    try:\n",
        "        nltk.download(resource)\n",
        "    except Exception as e:\n",
        "        print(f\"Error downloading {resource}: {e}\")"
      ],
      "metadata": {
        "colab": {
          "base_uri": "https://localhost:8080/"
        },
        "id": "egStTkmxWyLc",
        "outputId": "a45ad990-c0c1-4247-c010-64e10101fc4b"
      },
      "execution_count": null,
      "outputs": [
        {
          "output_type": "stream",
          "name": "stderr",
          "text": [
            "[nltk_data] Downloading package averaged_perceptron_tagger_eng to\n",
            "[nltk_data]     /root/nltk_data...\n",
            "[nltk_data]   Package averaged_perceptron_tagger_eng is already up-to-\n",
            "[nltk_data]       date!\n",
            "[nltk_data] Downloading package wordnet to /root/nltk_data...\n",
            "[nltk_data]   Package wordnet is already up-to-date!\n",
            "[nltk_data] Downloading package stopwords to /root/nltk_data...\n",
            "[nltk_data]   Package stopwords is already up-to-date!\n",
            "[nltk_data] Downloading package punkt_tab to /root/nltk_data...\n",
            "[nltk_data]   Package punkt_tab is already up-to-date!\n"
          ]
        }
      ]
    },
    {
      "cell_type": "code",
      "source": [
        "start_time = time.time()\n",
        "\n",
        "urls = [\n",
        "   \"https://langchain-ai.github.io/langgraph/tutorials/introduction/\",\n",
        "]\n",
        "\n",
        "loader = PlaywrightURLLoader(urls=urls, remove_selectors=[\"header\", \"footer\"])\n",
        "docs = await loader.aload()  # returns \"Document\" type\n",
        "\n",
        "text_splitter = RecursiveCharacterTextSplitter.from_tiktoken_encoder(\n",
        "    chunk_size=500, chunk_overlap=200\n",
        ")\n",
        "doc_splits = text_splitter.split_documents(docs)  # split into chunks with overlap\n",
        "\n",
        "# choose retriever type based on the number of chunks\n",
        "chunks_ct = len(doc_splits)\n",
        "if chunks_ct < 30:\n",
        "  print(chunks_ct, 'choose vectorstore based retriever')\n",
        "  # use Vectorstore-backed retriever (the simplest retriever in LangChain)\n",
        "  vectorstore = Chroma.from_documents(\n",
        "      documents=doc_splits,\n",
        "      collection_name=\"rag-chroma\",\n",
        "      embedding=OpenAIEmbeddings(api_key=OPENAI_API_KEY),\n",
        "  )\n",
        "  retriever = vectorstore.as_retriever()\n",
        "else:\n",
        "  print(chunks_ct, 'choose ensemble retriever')\n",
        "  # use emsemble retriever\n",
        "  # initialize the bm25 retriever and faiss retriever\n",
        "  bm25_retriever = BM25Retriever.from_texts(\n",
        "      [doc.page_content for doc in doc_splits], metadatas=[{\"source\": 1}] * len(doc_splits)\n",
        "  )\n",
        "  bm25_retriever.k = 2\n",
        "  embedding = OpenAIEmbeddings(api_key=OPENAI_API_KEY)\n",
        "  faiss_vectorstore = FAISS.from_texts(\n",
        "      [doc.page_content for doc in doc_splits], embedding, metadatas=[{\"source\": 2}] * len(doc_splits)\n",
        "  )\n",
        "  faiss_retriever = faiss_vectorstore.as_retriever(search_kwargs={\"k\": 2})\n",
        "  # initialize the ensemble retriever\n",
        "  retriever = EnsembleRetriever(\n",
        "      retrievers=[bm25_retriever, faiss_retriever], weights=[0.5, 0.5]\n",
        "  )\n",
        "\n",
        "end_time = time.time()\n",
        "running_time = round(end_time - start_time, 4)\n",
        "print(f\"Running time: {running_time} seconds\")"
      ],
      "metadata": {
        "colab": {
          "base_uri": "https://localhost:8080/"
        },
        "id": "jCJP66B-RFyh",
        "outputId": "0889573b-4947-4d54-d727-589401f8aecf"
      },
      "execution_count": null,
      "outputs": [
        {
          "output_type": "stream",
          "name": "stdout",
          "text": [
            "60 choose ensemble retriever\n",
            "Running time: 17.3064 seconds\n"
          ]
        }
      ]
    },
    {
      "cell_type": "code",
      "source": [
        "import asyncio\n",
        "import json\n",
        "\n",
        "start_time = time.time()\n",
        "\n",
        "@serve.deployment\n",
        "class MyAppDeployment:\n",
        "    def __init__(self, urls: list[str],\n",
        "                       openai_api_key: str):\n",
        "        self.urls = urls\n",
        "        self.openai_api_key = openai_api_key\n",
        "\n",
        "    def load_and_split_docs(self):\n",
        "        loader = PlaywrightURLLoader(urls=self.urls, remove_selectors=[\"header\", \"footer\"])\n",
        "        docs = loader.load() # Load synchronously\n",
        "\n",
        "        text_splitter = RecursiveCharacterTextSplitter.from_tiktoken_encoder(\n",
        "            chunk_size=500, chunk_overlap=200\n",
        "        )\n",
        "        return text_splitter.split_documents(docs)\n",
        "\n",
        "    async def __retrieve__(self, request: Request):\n",
        "        loop = asyncio.get_event_loop()\n",
        "        docs = await loop.run_in_executor(None, self.load_and_split_docs)\n",
        "\n",
        "        # choose retriever type based on the number of chunks\n",
        "        chunks_ct = len(doc_splits)\n",
        "        if chunks_ct < 30:\n",
        "          print(chunks_ct, 'choose vectorstore based retriever')\n",
        "          # use Vectorstore-backed retriever (the simplest retriever in LangChain)\n",
        "          vectorstore = Chroma.from_documents(\n",
        "              documents=doc_splits,\n",
        "              collection_name=\"rag-chroma\",\n",
        "              embedding=OpenAIEmbeddings(api_key=self.openai_api_key),\n",
        "          )\n",
        "          retriever = vectorstore.as_retriever()\n",
        "        else:\n",
        "          print(chunks_ct, 'choose ensemble retriever')\n",
        "          # use emsemble retriever\n",
        "          # initialize the bm25 retriever and faiss retriever\n",
        "          bm25_retriever = BM25Retriever.from_texts(\n",
        "              [doc.page_content for doc in doc_splits], metadatas=[{\"source\": 1}] * len(doc_splits)\n",
        "          )\n",
        "          bm25_retriever.k = 2\n",
        "          embedding = OpenAIEmbeddings(api_key=self.openai_api_key)\n",
        "          faiss_vectorstore = FAISS.from_texts(\n",
        "              [doc.page_content for doc in doc_splits], embedding, metadatas=[{\"source\": 2}] * len(doc_splits)\n",
        "          )\n",
        "          faiss_retriever = faiss_vectorstore.as_retriever(search_kwargs={\"k\": 2})\n",
        "          # initialize the ensemble retriever\n",
        "          retriever = EnsembleRetriever(\n",
        "              retrievers=[bm25_retriever, faiss_retriever], weights=[0.5, 0.5]\n",
        "          )\n",
        "\n",
        "        return retriever.weights\n",
        "\n",
        "urls = [\n",
        "   \"https://langchain-ai.github.io/langgraph/tutorials/introduction/\",\n",
        "]\n",
        "app = MyAppDeployment.bind(urls,\n",
        "                           openai_api_key=OPENAI_API_KEY)\n",
        "serve.run(app, route_prefix=\"/\")\n",
        "try:\n",
        "    response = requests.get(\"http://localhost:8000/\")\n",
        "    # Check if the request was successful\n",
        "    response.raise_for_status()\n",
        "    print(response.json())\n",
        "except requests.exceptions.RequestException as e:\n",
        "    print(f\"Error fetching data: {e}\")\n",
        "\n",
        "\n",
        "\n",
        "end_time = time.time()\n",
        "running_time = round(end_time - start_time, 4)\n",
        "print(f\"Running time: {running_time} seconds\")"
      ],
      "metadata": {
        "id": "U2fGzYjfReEf",
        "outputId": "dc74dda2-b96f-422c-cdc7-00267d2ee545",
        "colab": {
          "base_uri": "https://localhost:8080/"
        }
      },
      "execution_count": null,
      "outputs": [
        {
          "output_type": "stream",
          "name": "stderr",
          "text": [
            "INFO 2025-02-14 03:36:27,536 serve 181 -- Connecting to existing Serve app in namespace \"serve\". New http options will not be applied.\n",
            "\u001b[36m(ServeController pid=8657)\u001b[0m INFO 2025-02-14 03:36:27,614 controller 8657 -- Deploying new version of Deployment(name='MyAppDeployment', app='default') (initial target replicas: 1).\n",
            "\u001b[36m(ServeController pid=8657)\u001b[0m INFO 2025-02-14 03:36:27,720 controller 8657 -- Stopping 1 replicas of Deployment(name='MyAppDeployment', app='default') with outdated versions.\n",
            "\u001b[36m(ServeController pid=8657)\u001b[0m INFO 2025-02-14 03:36:27,721 controller 8657 -- Adding 1 replica to Deployment(name='MyAppDeployment', app='default').\n",
            "\u001b[36m(ServeController pid=8657)\u001b[0m INFO 2025-02-14 03:36:29,770 controller 8657 -- Replica(id='f1axs419', deployment='MyAppDeployment', app='default') is stopped.\n",
            "INFO 2025-02-14 03:36:31,570 serve 181 -- Application 'default' is ready at http://127.0.0.1:8000/.\n",
            "INFO 2025-02-14 03:36:31,571 serve 181 -- Deployed app 'default' successfully.\n"
          ]
        },
        {
          "output_type": "stream",
          "name": "stdout",
          "text": [
            "Error fetching data: 500 Server Error: Internal Server Error for url: http://localhost:8000/\n",
            "Running time: 4.067 seconds\n"
          ]
        }
      ]
    },
    {
      "cell_type": "code",
      "source": [
        "# check examples here: https://www.ray.io/"
      ],
      "metadata": {
        "id": "dxNHZE7kjflN"
      },
      "execution_count": null,
      "outputs": []
    },
    {
      "cell_type": "code",
      "source": [
        "import requests\n",
        "from starlette.requests import Request\n",
        "from typing import Dict\n",
        "\n",
        "from ray import serve\n",
        "\n",
        "\n",
        "# 1: Define a Ray Serve application.\n",
        "@serve.deployment\n",
        "class MyModelDeployment:\n",
        "    def __init__(self, msg: str):\n",
        "        # Initialize model state: could be very large neural net weights.\n",
        "        self._msg = msg\n",
        "\n",
        "    def __call__(self, request: Request):\n",
        "        return [self._msg]\n",
        "\n",
        "\n",
        "app = MyModelDeployment.bind(msg=\"Hello world!\")\n",
        "\n",
        "# 2: Deploy the application locally.\n",
        "serve.run(app, route_prefix=\"/\")\n",
        "\n",
        "# 3: Query the application and print the result.\n",
        "print(requests.get(\"http://localhost:8000/\").json())"
      ],
      "metadata": {
        "id": "QNIve9L3baKm",
        "outputId": "f51679b0-6988-41d9-d94d-1664a910293a",
        "colab": {
          "base_uri": "https://localhost:8080/"
        }
      },
      "execution_count": null,
      "outputs": [
        {
          "output_type": "stream",
          "name": "stderr",
          "text": [
            "INFO 2025-02-14 03:37:44,423 serve 181 -- Connecting to existing Serve app in namespace \"serve\". New http options will not be applied.\n",
            "\u001b[36m(ServeController pid=8657)\u001b[0m INFO 2025-02-14 03:37:44,615 controller 8657 -- Deploying new version of Deployment(name='MyModelDeployment', app='default') (initial target replicas: 1).\n",
            "\u001b[36m(ServeController pid=8657)\u001b[0m INFO 2025-02-14 03:37:44,743 controller 8657 -- Stopping 1 replicas of Deployment(name='MyModelDeployment', app='default') with outdated versions.\n",
            "\u001b[36m(ServeController pid=8657)\u001b[0m INFO 2025-02-14 03:37:44,745 controller 8657 -- Adding 1 replica to Deployment(name='MyModelDeployment', app='default').\n",
            "\u001b[36m(ServeController pid=8657)\u001b[0m INFO 2025-02-14 03:37:46,798 controller 8657 -- Replica(id='j5imtln0', deployment='MyModelDeployment', app='default') is stopped.\n",
            "INFO 2025-02-14 03:37:47,529 serve 181 -- Application 'default' is ready at http://127.0.0.1:8000/.\n",
            "INFO 2025-02-14 03:37:47,531 serve 181 -- Deployed app 'default' successfully.\n"
          ]
        },
        {
          "output_type": "stream",
          "name": "stdout",
          "text": [
            "['Hello world!']\n"
          ]
        },
        {
          "output_type": "stream",
          "name": "stderr",
          "text": [
            "\u001b[36m(ServeReplica:default:MyModelDeployment pid=16650)\u001b[0m /usr/local/lib/python3.11/dist-packages/ray/serve/_private/replica.py:1305: UserWarning: Calling sync method '__call__' directly on the asyncio loop. In a future version, sync methods will be run in a threadpool by default. Ensure your sync methods are thread safe or keep the existing behavior by making them `async def`. Opt into the new behavior by setting RAY_SERVE_RUN_SYNC_IN_THREADPOOL=1.\n",
            "\u001b[36m(ServeReplica:default:MyModelDeployment pid=16650)\u001b[0m   warnings.warn(\n",
            "\u001b[36m(ServeReplica:default:MyModelDeployment pid=16650)\u001b[0m INFO 2025-02-14 03:37:47,543 default_MyModelDeployment kiu61vdp 183eeea7-45ea-4f65-b251-ad70c11b2c07 -- GET / 200 3.2ms\n"
          ]
        }
      ]
    },
    {
      "cell_type": "code",
      "source": [],
      "metadata": {
        "id": "jaH8w78vgY_e"
      },
      "execution_count": null,
      "outputs": []
    }
  ]
}