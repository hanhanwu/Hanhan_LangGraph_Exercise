{
  "nbformat": 4,
  "nbformat_minor": 0,
  "metadata": {
    "colab": {
      "provenance": [],
      "authorship_tag": "ABX9TyO+ncnJtbYJoWGh8UroZl97",
      "include_colab_link": true
    },
    "kernelspec": {
      "name": "python3",
      "display_name": "Python 3"
    },
    "language_info": {
      "name": "python"
    }
  },
  "cells": [
    {
      "cell_type": "markdown",
      "metadata": {
        "id": "view-in-github",
        "colab_type": "text"
      },
      "source": [
        "<a href=\"https://colab.research.google.com/github/hanhanwu/Hanhan_LangGraph_Exercise/blob/main/scaling/ray_serve_for_langgraph.ipynb\" target=\"_parent\"><img src=\"https://colab.research.google.com/assets/colab-badge.svg\" alt=\"Open In Colab\"/></a>"
      ]
    },
    {
      "cell_type": "code",
      "execution_count": 1,
      "metadata": {
        "id": "dWvk5nGvLWjG"
      },
      "outputs": [],
      "source": [
        "%%capture --no-stderr\n",
        "%pip install -U --quiet langchain-community tiktoken langchain-openai langchainhub chromadb langchain langgraph langchain-text-splitters playwright unstructured\n",
        "!playwright install\n",
        "%pip install -U --quiet rank_bm25 faiss-cpu\n",
        "%pip install \"ray[serve]\""
      ]
    },
    {
      "cell_type": "code",
      "source": [
        "from google.colab import userdata\n",
        "\n",
        "# load the environment variables set in colab\n",
        "OPENAI_API_KEY = userdata.get('OPENAI_API_KEY')\n",
        "LANGSMITH_API_KEY = userdata.get('LANGSMITH_API_KEY')  # used to pull rlm/rag-prompt"
      ],
      "metadata": {
        "id": "DaOYEIiGOQv4"
      },
      "execution_count": 2,
      "outputs": []
    },
    {
      "cell_type": "code",
      "source": [
        "import time\n",
        "import requests\n",
        "from starlette.requests import Request\n",
        "from typing import Dict\n",
        "\n",
        "from langchain_community.document_loaders import PlaywrightURLLoader\n",
        "from langchain_community.vectorstores import Chroma\n",
        "from langchain.retrievers import EnsembleRetriever\n",
        "from langchain_community.retrievers import BM25Retriever\n",
        "from langchain_community.vectorstores import FAISS\n",
        "from langchain_openai import OpenAIEmbeddings\n",
        "from langchain_text_splitters import RecursiveCharacterTextSplitter\n",
        "from langchain.tools.retriever import create_retriever_tool\n",
        "\n",
        "from ray import serve\n",
        "\n",
        "import nltk\n",
        "nltk_resources = [\n",
        "    'averaged_perceptron_tagger_eng',\n",
        "    'wordnet',\n",
        "    'stopwords',\n",
        "    'punkt_tab'\n",
        "]\n",
        "for resource in nltk_resources:\n",
        "    try:\n",
        "        nltk.download(resource)\n",
        "    except Exception as e:\n",
        "        print(f\"Error downloading {resource}: {e}\")"
      ],
      "metadata": {
        "colab": {
          "base_uri": "https://localhost:8080/"
        },
        "id": "egStTkmxWyLc",
        "outputId": "85e4b010-56a0-4551-ef88-266ec6596009"
      },
      "execution_count": 3,
      "outputs": [
        {
          "output_type": "stream",
          "name": "stderr",
          "text": [
            "[nltk_data] Downloading package averaged_perceptron_tagger_eng to\n",
            "[nltk_data]     /root/nltk_data...\n",
            "[nltk_data]   Unzipping taggers/averaged_perceptron_tagger_eng.zip.\n",
            "[nltk_data] Downloading package wordnet to /root/nltk_data...\n",
            "[nltk_data] Downloading package stopwords to /root/nltk_data...\n",
            "[nltk_data]   Unzipping corpora/stopwords.zip.\n",
            "[nltk_data] Downloading package punkt_tab to /root/nltk_data...\n",
            "[nltk_data]   Unzipping tokenizers/punkt_tab.zip.\n"
          ]
        }
      ]
    },
    {
      "cell_type": "code",
      "source": [
        "start_time = time.time()\n",
        "\n",
        "urls = [\n",
        "   \"https://langchain-ai.github.io/langgraph/tutorials/introduction/\",\n",
        "]\n",
        "\n",
        "loader = PlaywrightURLLoader(urls=urls, remove_selectors=[\"header\", \"footer\"])\n",
        "docs = await loader.aload()  # returns \"Document\" type\n",
        "\n",
        "text_splitter = RecursiveCharacterTextSplitter.from_tiktoken_encoder(\n",
        "    chunk_size=500, chunk_overlap=200\n",
        ")\n",
        "doc_splits = text_splitter.split_documents(docs)  # split into chunks with overlap\n",
        "\n",
        "# choose retriever type based on the number of chunks\n",
        "chunks_ct = len(doc_splits)\n",
        "if chunks_ct < 30:\n",
        "  print(chunks_ct, 'choose vectorstore based retriever')\n",
        "  # use Vectorstore-backed retriever (the simplest retriever in LangChain)\n",
        "  vectorstore = Chroma.from_documents(\n",
        "      documents=doc_splits,\n",
        "      collection_name=\"rag-chroma\",\n",
        "      embedding=OpenAIEmbeddings(api_key=OPENAI_API_KEY),\n",
        "  )\n",
        "  retriever = vectorstore.as_retriever()\n",
        "else:\n",
        "  print(chunks_ct, 'choose ensemble retriever')\n",
        "  # use emsemble retriever\n",
        "  # initialize the bm25 retriever and faiss retriever\n",
        "  bm25_retriever = BM25Retriever.from_texts(\n",
        "      [doc.page_content for doc in doc_splits], metadatas=[{\"source\": 1}] * len(doc_splits)\n",
        "  )\n",
        "  bm25_retriever.k = 2\n",
        "  embedding = OpenAIEmbeddings(api_key=OPENAI_API_KEY)\n",
        "  faiss_vectorstore = FAISS.from_texts(\n",
        "      [doc.page_content for doc in doc_splits], embedding, metadatas=[{\"source\": 2}] * len(doc_splits)\n",
        "  )\n",
        "  faiss_retriever = faiss_vectorstore.as_retriever(search_kwargs={\"k\": 2})\n",
        "  # initialize the ensemble retriever\n",
        "  retriever = EnsembleRetriever(\n",
        "      retrievers=[bm25_retriever, faiss_retriever], weights=[0.5, 0.5]\n",
        "  )\n",
        "\n",
        "end_time = time.time()\n",
        "running_time = round(end_time - start_time, 4)\n",
        "print(f\"Running time: {running_time} seconds\")"
      ],
      "metadata": {
        "colab": {
          "base_uri": "https://localhost:8080/"
        },
        "id": "jCJP66B-RFyh",
        "outputId": "761a4f52-3f4e-4ccc-a49e-ffab7430eeb6"
      },
      "execution_count": 4,
      "outputs": [
        {
          "output_type": "stream",
          "name": "stdout",
          "text": [
            "60 choose ensemble retriever\n",
            "Running time: 18.6149 seconds\n"
          ]
        }
      ]
    },
    {
      "cell_type": "code",
      "source": [
        "retriever"
      ],
      "metadata": {
        "id": "f74XsR4wlNUt",
        "outputId": "77ea08dc-84c1-4953-d75a-75d818867ac7",
        "colab": {
          "base_uri": "https://localhost:8080/"
        }
      },
      "execution_count": 5,
      "outputs": [
        {
          "output_type": "execute_result",
          "data": {
            "text/plain": [
              "EnsembleRetriever(retrievers=[BM25Retriever(vectorizer=<rank_bm25.BM25Okapi object at 0x7d3c0014abd0>, k=2), VectorStoreRetriever(tags=['FAISS', 'OpenAIEmbeddings'], vectorstore=<langchain_community.vectorstores.faiss.FAISS object at 0x7d3c046e22d0>, search_kwargs={'k': 2})], weights=[0.5, 0.5])"
            ]
          },
          "metadata": {},
          "execution_count": 5
        }
      ]
    },
    {
      "cell_type": "code",
      "source": [
        "import asyncio\n",
        "import json\n",
        "\n",
        "start_time = time.time()\n",
        "\n",
        "@serve.deployment\n",
        "class MyAppDeployment:\n",
        "    def __init__(self, urls: list[str],\n",
        "                       openai_api_key: str):\n",
        "        self.urls = urls\n",
        "        self.openai_api_key = openai_api_key\n",
        "\n",
        "    # the function has to be named as \"__call__\"\n",
        "    async def __call__(self, request: Request):\n",
        "      loader = PlaywrightURLLoader(urls=urls, remove_selectors=[\"header\", \"footer\"])\n",
        "      docs = await loader.aload()  # returns \"Document\" type\n",
        "\n",
        "      text_splitter = RecursiveCharacterTextSplitter.from_tiktoken_encoder(\n",
        "            chunk_size=500, chunk_overlap=200\n",
        "        )\n",
        "      doc_splits = text_splitter.split_documents(docs)  # split into chunks with overlap\n",
        "\n",
        "      # choose retriever type based on the number of chunks\n",
        "      chunks_ct = len(doc_splits)\n",
        "      if chunks_ct < 30:\n",
        "        print(chunks_ct, 'choose vectorstore based retriever')\n",
        "          # use Vectorstore-backed retriever (the simplest retriever in LangChain)\n",
        "        vectorstore = Chroma.from_documents(\n",
        "              documents=doc_splits,\n",
        "              collection_name=\"rag-chroma\",\n",
        "              embedding=OpenAIEmbeddings(api_key=self.openai_api_key),\n",
        "          )\n",
        "        retriever = vectorstore.as_retriever()\n",
        "      else:\n",
        "        print(chunks_ct, 'choose ensemble retriever')\n",
        "        # use emsemble retriever\n",
        "        # initialize the bm25 retriever and faiss retriever\n",
        "        bm25_retriever = BM25Retriever.from_texts(\n",
        "              [doc.page_content for doc in doc_splits], metadatas=[{\"source\": 1}] * len(doc_splits)\n",
        "          )\n",
        "        bm25_retriever.k = 2\n",
        "        embedding = OpenAIEmbeddings(api_key=self.openai_api_key)\n",
        "        faiss_vectorstore = FAISS.from_texts(\n",
        "              [doc.page_content for doc in doc_splits], embedding, metadatas=[{\"source\": 2}] * len(doc_splits)\n",
        "          )\n",
        "        faiss_retriever = faiss_vectorstore.as_retriever(search_kwargs={\"k\": 2})\n",
        "          # initialize the ensemble retriever\n",
        "        retriever = EnsembleRetriever(\n",
        "              retrievers=[bm25_retriever, faiss_retriever], weights=[0.5, 0.5]\n",
        "          )\n",
        "\n",
        "      return retriever.weights\n",
        "\n",
        "\n",
        "urls = [\n",
        "   \"https://langchain-ai.github.io/langgraph/tutorials/introduction/\",\n",
        "]\n",
        "app = MyAppDeployment.bind(urls, OPENAI_API_KEY)\n",
        "serve.run(app, route_prefix=\"/\")\n",
        "try:\n",
        "    response = requests.get(\"http://localhost:8000/\")\n",
        "    # Check if the request was successful\n",
        "    response.raise_for_status()\n",
        "    print(response.json())\n",
        "except requests.exceptions.RequestException as e:\n",
        "    print(f\"Error fetching data: {e}\")\n",
        "\n",
        "\n",
        "end_time = time.time()\n",
        "running_time = round(end_time - start_time, 4)\n",
        "print(f\"Running time: {running_time} seconds\")"
      ],
      "metadata": {
        "id": "U2fGzYjfReEf",
        "outputId": "6011ed1f-ad31-4455-9bdd-d9af807ae2f2",
        "colab": {
          "base_uri": "https://localhost:8080/"
        }
      },
      "execution_count": 6,
      "outputs": [
        {
          "output_type": "stream",
          "name": "stderr",
          "text": [
            "2025-02-15 03:18:55,117\tINFO worker.py:1832 -- Started a local Ray instance. View the dashboard at \u001b[1m\u001b[32mhttp://127.0.0.1:8265 \u001b[39m\u001b[22m\n",
            "\u001b[36m(ProxyActor pid=6361)\u001b[0m INFO 2025-02-15 03:19:00,096 proxy 172.28.0.12 -- Proxy starting on node 6fc4dd278c279bccbe29d22ef10bc4760a4256f6b1cee55e91678ca0 (HTTP port: 8000).\n",
            "INFO 2025-02-15 03:19:00,285 serve 3804 -- Started Serve in namespace \"serve\".\n",
            "\u001b[36m(ServeController pid=6362)\u001b[0m INFO 2025-02-15 03:19:00,309 controller 6362 -- Deploying new version of Deployment(name='MyAppDeployment', app='default') (initial target replicas: 1).\n",
            "\u001b[36m(ProxyActor pid=6361)\u001b[0m INFO 2025-02-15 03:19:00,272 proxy 172.28.0.12 -- Got updated endpoints: {}.\n",
            "\u001b[36m(ProxyActor pid=6361)\u001b[0m INFO 2025-02-15 03:19:00,312 proxy 172.28.0.12 -- Got updated endpoints: {Deployment(name='MyAppDeployment', app='default'): EndpointInfo(route='/', app_is_cross_language=False)}.\n",
            "\u001b[36m(ProxyActor pid=6361)\u001b[0m INFO 2025-02-15 03:19:00,323 proxy 172.28.0.12 -- Started <ray.serve._private.router.SharedRouterLongPollClient object at 0x7ec2180c0850>.\n",
            "\u001b[36m(ServeController pid=6362)\u001b[0m INFO 2025-02-15 03:19:00,412 controller 6362 -- Adding 1 replica to Deployment(name='MyAppDeployment', app='default').\n",
            "INFO 2025-02-15 03:19:04,416 serve 3804 -- Application 'default' is ready at http://127.0.0.1:8000/.\n",
            "INFO 2025-02-15 03:19:04,419 serve 3804 -- Deployed app 'default' successfully.\n"
          ]
        },
        {
          "output_type": "stream",
          "name": "stdout",
          "text": [
            "\u001b[36m(ServeReplica:default:MyAppDeployment pid=6507)\u001b[0m 60 choose ensemble retriever\n",
            "[0.5, 0.5]\n",
            "Running time: 29.7438 seconds\n"
          ]
        }
      ]
    }
  ]
}