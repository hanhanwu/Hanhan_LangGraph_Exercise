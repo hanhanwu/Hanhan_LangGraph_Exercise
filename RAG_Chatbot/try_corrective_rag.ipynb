{
  "nbformat": 4,
  "nbformat_minor": 0,
  "metadata": {
    "colab": {
      "provenance": [],
      "authorship_tag": "ABX9TyNpgFclTtgaGh30/BhSMtfY",
      "include_colab_link": true
    },
    "kernelspec": {
      "name": "python3",
      "display_name": "Python 3"
    },
    "language_info": {
      "name": "python"
    }
  },
  "cells": [
    {
      "cell_type": "markdown",
      "metadata": {
        "id": "view-in-github",
        "colab_type": "text"
      },
      "source": [
        "<a href=\"https://colab.research.google.com/github/hanhanwu/Hanhan_LangGraph_Exercise/blob/main/RAG_Chatbot/try_corrective_rag.ipynb\" target=\"_parent\"><img src=\"https://colab.research.google.com/assets/colab-badge.svg\" alt=\"Open In Colab\"/></a>"
      ]
    },
    {
      "cell_type": "code",
      "execution_count": 1,
      "metadata": {
        "id": "h3aMkxRFnx04"
      },
      "outputs": [],
      "source": [
        "%%capture --no-stderr\n",
        "%pip install -U --quiet langchain-community tiktoken langchain-openai langchainhub chromadb langchain langgraph langchain-text-splitters playwright unstructured tavily-python\n",
        "!playwright install\n",
        "%pip install -U --quiet rank_bm25 faiss-cpu"
      ]
    },
    {
      "cell_type": "code",
      "source": [
        "from google.colab import userdata\n",
        "import os\n",
        "\n",
        "def _set_env(key_name: str, key_value: str):\n",
        "    if key_name not in os.environ:\n",
        "      os.environ[key_name] = key_value\n",
        "\n",
        "# load the environment variables set in colab\n",
        "_set_env('OPENAI_API_KEY', userdata.get('OPENAI_API_KEY'))\n",
        "_set_env('LANGSMITH_API_KEY', userdata.get('LANGSMITH_API_KEY'))\n",
        "_set_env('TAVILY_API_KEY', userdata.get('TAVILY_API_KEY'))  # TAVILY_API_KEY has to be environment variable...."
      ],
      "metadata": {
        "id": "qQungM0dl4zZ"
      },
      "execution_count": 7,
      "outputs": []
    },
    {
      "cell_type": "markdown",
      "source": [
        "## Retriever"
      ],
      "metadata": {
        "id": "e9KTEnlImF4A"
      }
    },
    {
      "cell_type": "code",
      "source": [
        "from langchain_community.document_loaders import PlaywrightURLLoader\n",
        "from langchain_community.vectorstores import Chroma\n",
        "from langchain.retrievers import EnsembleRetriever\n",
        "from langchain_community.retrievers import BM25Retriever\n",
        "from langchain_community.vectorstores import FAISS\n",
        "from langchain_openai import OpenAIEmbeddings\n",
        "from langchain_text_splitters import RecursiveCharacterTextSplitter\n",
        "from langchain.tools.retriever import create_retriever_tool\n",
        "\n",
        "\n",
        "urls = [\n",
        "   \"https://www.ana.co.jp/en/us/travel-information/customers-with-disabilities/walking-disabilities/\",\n",
        "   \"https://www.ana.co.jp/en/us/travel-information/customers-with-disabilities/visual-disabilities/\",\n",
        "]\n",
        "\n",
        "loader = PlaywrightURLLoader(urls=urls, remove_selectors=[\"header\", \"footer\"])\n",
        "docs = await loader.aload()  # returns \"Document\" type\n",
        "\n",
        "text_splitter = RecursiveCharacterTextSplitter.from_tiktoken_encoder(\n",
        "    chunk_size=200, chunk_overlap=80\n",
        ")\n",
        "doc_splits = text_splitter.split_documents(docs)  # split into chunks with overlap\n",
        "\n",
        "# choose retriever type based on the number of chunks\n",
        "chunks_ct = len(doc_splits)\n",
        "if chunks_ct < 30:\n",
        "  print(chunks_ct, 'choose vectorstore based retriever')\n",
        "  # use Vectorstore-backed retriever (the simplest retriever in LangChain)\n",
        "  vectorstore = Chroma.from_documents(\n",
        "      documents=doc_splits,\n",
        "      collection_name=\"rag-chroma\",\n",
        "      embedding=OpenAIEmbeddings(),  # OPENAI_API_KEY is env variable, no need to be specified here\n",
        "  )\n",
        "  retriever = vectorstore.as_retriever()\n",
        "else:\n",
        "  print(chunks_ct, 'choose ensemble retriever')\n",
        "  # use emsemble retriever\n",
        "  # initialize the bm25 retriever and faiss retriever\n",
        "  bm25_retriever = BM25Retriever.from_texts(\n",
        "      [doc.page_content for doc in doc_splits], metadatas=[{\"source\": 1}] * len(doc_splits)\n",
        "  )\n",
        "  bm25_retriever.k = 2\n",
        "  embedding = OpenAIEmbeddings()\n",
        "  faiss_vectorstore = FAISS.from_texts(\n",
        "      [doc.page_content for doc in doc_splits], embedding, metadatas=[{\"source\": 2}] * len(doc_splits)\n",
        "  )\n",
        "  faiss_retriever = faiss_vectorstore.as_retriever(search_kwargs={\"k\": 2})\n",
        "  # initialize the ensemble retriever\n",
        "  retriever = EnsembleRetriever(\n",
        "      retrievers=[bm25_retriever, faiss_retriever], weights=[0.5, 0.5]\n",
        "  )"
      ],
      "metadata": {
        "colab": {
          "base_uri": "https://localhost:8080/"
        },
        "id": "EmOV4tq5lsuU",
        "outputId": "14118af5-b1a4-47cb-b8de-29ddcf3cdf21"
      },
      "execution_count": 8,
      "outputs": [
        {
          "output_type": "stream",
          "name": "stdout",
          "text": [
            "44 choose ensemble retriever\n"
          ]
        }
      ]
    },
    {
      "cell_type": "markdown",
      "source": [
        "## State of Graph"
      ],
      "metadata": {
        "id": "A5QoiJCXqpLP"
      }
    },
    {
      "cell_type": "code",
      "source": [
        "from typing import List\n",
        "from typing_extensions import TypedDict\n",
        "\n",
        "\n",
        "class GraphState(TypedDict):\n",
        "    question: str\n",
        "    generated_answer: str\n",
        "    needs_web_search: str  # \"yes\" or \"no\" decides whether needs web search\n",
        "    docs: List[str]"
      ],
      "metadata": {
        "id": "h-0ngP6PqtR1"
      },
      "execution_count": 27,
      "outputs": []
    },
    {
      "cell_type": "markdown",
      "source": [
        "## Nodes & Edges\n",
        "\n",
        "* When all the retrieved documents are relevant, generate the answer directly\n",
        "* Otherwise, question will be updated to search from the web, searched document will be added to relevant documents, and all the docuemnts will be used to generate the answer"
      ],
      "metadata": {
        "id": "U7rGw-BLrmYw"
      }
    },
    {
      "cell_type": "code",
      "source": [
        "from typing_extensions import TypedDict\n",
        "from pydantic import BaseModel, Field\n",
        "\n",
        "from langchain import hub\n",
        "from langchain_core.messages import HumanMessage\n",
        "from langchain_core.output_parsers import StrOutputParser\n",
        "from langchain_core.prompts import PromptTemplate\n",
        "from langchain_openai import ChatOpenAI\n",
        "from langchain.schema import Document\n",
        "from langchain_community.tools.tavily_search import TavilySearchResults\n",
        "\n",
        "\n",
        "model_str = \"gpt-4o-mini-2024-07-18\"\n",
        "web_search_tool = TavilySearchResults(k=3)  # return 3 search results"
      ],
      "metadata": {
        "id": "hR5lMP_Oq2vm"
      },
      "execution_count": 28,
      "outputs": []
    },
    {
      "cell_type": "markdown",
      "source": [
        "#### nodes"
      ],
      "metadata": {
        "id": "7ioH-yEDKihY"
      }
    },
    {
      "cell_type": "code",
      "source": [
        "def retrieve(state):\n",
        "    \"\"\"\n",
        "    Retrieve documents\n",
        "\n",
        "    Args:\n",
        "        state (dict): The current graph state\n",
        "    Returns:\n",
        "        state (dict): retrieved documents added to the graph state; question stays the same\n",
        "    \"\"\"\n",
        "    print(\"---RETRIEVE---\")\n",
        "    question = state[\"question\"]\n",
        "\n",
        "    # Retrieval\n",
        "    documents = retriever.invoke(question)\n",
        "    return {\"docs\": documents, \"question\": question}\n",
        "\n",
        "\n",
        "def grade_documents(state):\n",
        "    \"\"\"\n",
        "    Check each retrieved document, if there is any un-relevant document, set \"needs_web_search\" as \"yes\".\n",
        "    All the relevant documents will be saved too.\n",
        "\n",
        "    Args:\n",
        "        state (dict): The current state\n",
        "    Returns:\n",
        "        state (dict): retrieved relevant documents; the decison on \"needs_web_search\"; question stays the same\n",
        "    \"\"\"\n",
        "    print(\"---CHECK RELEVANCE---\")\n",
        "\n",
        "    # Data model\n",
        "    class grade(BaseModel):\n",
        "        \"\"\"Binary score for relevance check.\"\"\"\n",
        "        binary_score: str = Field(description=\"Relevance score 'yes' or 'no'\")\n",
        "\n",
        "    # LLM\n",
        "    model = ChatOpenAI(temperature=0,\n",
        "                       model=model_str, streaming=True)\n",
        "    # LLM with tool and validation\n",
        "    llm_with_tool = model.with_structured_output(grade)\n",
        "\n",
        "    # Prompt\n",
        "    prompt = PromptTemplate(\n",
        "        template=\"\"\"You are a grader assessing relevance of a retrieved document to a user question. \\n\n",
        "        Here is the retrieved document: \\n\\n {context} \\n\\n\n",
        "        Here is the user question: {question} \\n\n",
        "        If the document contains keyword(s) or semantic meaning related to the user question, grade it as relevant. \\n\n",
        "        Give a binary score 'yes' or 'no' score to indicate whether the document is relevant to the question.\"\"\",\n",
        "        input_variables=[\"context\", \"question\"],\n",
        "    )\n",
        "\n",
        "    # Relevancy Grader\n",
        "    grader = prompt | llm_with_tool\n",
        "\n",
        "    question = state['question']\n",
        "    retrieved_docs = state['docs']\n",
        "\n",
        "    relevant_docs = []\n",
        "    needs_web_search = 'no'\n",
        "    for doc in retrieved_docs:\n",
        "      scored_result = grader.invoke({'question': question, 'context': doc.page_content})\n",
        "      score = scored_result.binary_score\n",
        "\n",
        "      if score == 'yes':\n",
        "          relevant_docs.append(doc)\n",
        "      else:\n",
        "          needs_web_search = 'yes'\n",
        "\n",
        "    print(f\"---% OF RELEVANT DOCS: {len(relevant_docs) * 100 / len(retrieved_docs)}---\")\n",
        "    return {'docs': relevant_docs,\n",
        "            'question': question,\n",
        "            'needs_web_search': needs_web_search}\n",
        "\n",
        "\n",
        "def rewrite_query(state):\n",
        "    \"\"\"\n",
        "    Transform the query to produce a better query.\n",
        "\n",
        "    Args:\n",
        "        state (dict): The current state\n",
        "    Returns:\n",
        "        dict: The updated state with re-phrased query\n",
        "    \"\"\"\n",
        "    print(\"---REWRITE QUERY---\")\n",
        "    question = state['question']\n",
        "\n",
        "    msg = [\n",
        "        HumanMessage(\n",
        "            content=f\"\"\" \\n\n",
        "                    Look at the input and try to reason about the underlying semantic intent or meaning. \\n\n",
        "                    Here is the initial question:\n",
        "                    \\n ------- \\n\n",
        "                    {question}\n",
        "                    \\n ------- \\n\n",
        "                    Formulate an improved question: \"\"\",\n",
        "        )\n",
        "    ]\n",
        "\n",
        "    # Grader\n",
        "    model = ChatOpenAI(temperature=0,\n",
        "                       model=model_str, streaming=True)\n",
        "    updated_query = model.invoke(msg)\n",
        "    return {'question': updated_query.content}\n",
        "\n",
        "\n",
        "def search_web(state):\n",
        "  \"\"\"\n",
        "  Search web with updated query, add searched answers into docs.\n",
        "\n",
        "  Args:\n",
        "      state (dict): The current state\n",
        "  Returns:\n",
        "      dict: The updated state with searched answers\n",
        "  \"\"\"\n",
        "  print(\"---SEARCH WEB---\")\n",
        "  question = state['question']\n",
        "  docs = state['docs']\n",
        "  searched_docs = web_search_tool.invoke({'query': question})\n",
        "  web_results = '\\n'.join([d['content'] for d in searched_docs])\n",
        "  web_results = Document(page_content=web_results)\n",
        "  docs.append(web_results)\n",
        "  return {'docs': docs}\n",
        "\n",
        "\n",
        "def generate_answer(state):\n",
        "    \"\"\"\n",
        "    Generate answer\n",
        "\n",
        "    Args:\n",
        "        state (dict): The current state\n",
        "    Returns:\n",
        "         dict: The updated state with generated answer\n",
        "    \"\"\"\n",
        "    print(\"---GENERATE ANSWER---\")\n",
        "    question = state['question']\n",
        "    docs = state['docs']\n",
        "\n",
        "    # Prompt\n",
        "    prompt = hub.pull(\"rlm/rag-prompt\")\n",
        "\n",
        "    # LLM\n",
        "    llm = ChatOpenAI(model_name=model_str,\n",
        "                     temperature=0, streaming=True)\n",
        "\n",
        "    # Chain\n",
        "    rag_chain = prompt | llm | StrOutputParser()\n",
        "\n",
        "    # Run\n",
        "    response = rag_chain.invoke({\"context\": docs, \"question\": question})\n",
        "    return {\"generated_answer\": response, 'question': question}\n",
        ""
      ],
      "metadata": {
        "id": "15omxS_JrpA-"
      },
      "execution_count": 48,
      "outputs": []
    },
    {
      "cell_type": "markdown",
      "source": [
        "#### conditional edges"
      ],
      "metadata": {
        "id": "dv8MtWEtKfVl"
      }
    },
    {
      "cell_type": "code",
      "source": [
        "def decide_answer_generation(state):\n",
        "  \"\"\"\n",
        "  Based on the value of \"needs_web_search\" from grade_documents, decide to go to generate_answer node or rewrite_query node.\n",
        "\n",
        "  Args:\n",
        "      state (dict): The current state\n",
        "  Returns:\n",
        "      str: The decision node name\n",
        "  \"\"\"\n",
        "  needs_web_search = state['needs_web_search']\n",
        "\n",
        "  if needs_web_search == 'yes':\n",
        "    print('---DECIDE TO REWRITE QUERY---')\n",
        "    return 'rewrite_query'\n",
        "  else:\n",
        "    print('---DECIDE TO GENERATE ANSWER---')\n",
        "    return 'generate_answer'"
      ],
      "metadata": {
        "id": "qkWo9vwSKej3"
      },
      "execution_count": 49,
      "outputs": []
    },
    {
      "cell_type": "markdown",
      "source": [
        "## Build Graph"
      ],
      "metadata": {
        "id": "trTUi-WZIw6z"
      }
    },
    {
      "cell_type": "code",
      "source": [
        "from langgraph.graph import END, StateGraph, START\n",
        "from langgraph.prebuilt import ToolNode\n",
        "\n",
        "# Define a new graph\n",
        "workflow = StateGraph(GraphState)\n",
        "\n",
        "# Define the nodes we will cycle between\n",
        "workflow.add_node(\"retrieve\", retrieve)\n",
        "workflow.add_node(\"grade_documents\", grade_documents)\n",
        "workflow.add_node(\"rewrite_query\", rewrite_query)\n",
        "workflow.add_node(\"search_web\", search_web)\n",
        "workflow.add_node(\"generate_answer\", generate_answer)\n",
        "\n",
        "workflow.add_edge(START, 'retrieve')\n",
        "workflow.add_edge('retrieve', 'grade_documents')\n",
        "workflow.add_conditional_edges(\n",
        "    'grade_documents',\n",
        "    decide_answer_generation,\n",
        "    {\n",
        "        'rewrite_query': 'rewrite_query',\n",
        "        'generate_answer': 'generate_answer'\n",
        "    },\n",
        ")\n",
        "workflow.add_edge(\"rewrite_query\", \"search_web\")\n",
        "workflow.add_edge(\"search_web\", \"generate_answer\")\n",
        "workflow.add_edge(\"generate_answer\", END)\n",
        "\n",
        "# Compile\n",
        "graph = workflow.compile()"
      ],
      "metadata": {
        "id": "liJr3xZAIS1N"
      },
      "execution_count": 50,
      "outputs": []
    },
    {
      "cell_type": "code",
      "source": [
        "from IPython.display import Image, display\n",
        "\n",
        "try:\n",
        "    display(Image(graph.get_graph(xray=True).draw_mermaid_png()))\n",
        "except Exception:\n",
        "    # This requires some extra dependencies and is optional\n",
        "    pass"
      ],
      "metadata": {
        "id": "d_TfhUVlNJBv",
        "outputId": "556be8cc-ae34-4b37-b18a-d1726adea243",
        "colab": {
          "base_uri": "https://localhost:8080/",
          "height": 647
        }
      },
      "execution_count": 51,
      "outputs": [
        {
          "output_type": "display_data",
          "data": {
            "image/png": "[encoded data removed]",
            "text/plain": [
              "<IPython.core.display.Image object>"
            ]
          },
          "metadata": {}
        }
      ]
    },
    {
      "cell_type": "markdown",
      "source": [
        "## Build Corrective RAG"
      ],
      "metadata": {
        "id": "BGWWmaqmR3rt"
      }
    },
    {
      "cell_type": "code",
      "source": [
        "import pprint\n",
        "from langchain_core.runnables import RunnableConfig\n",
        "from langgraph.errors import GraphRecursionError\n",
        "\n",
        "\n",
        "def run_graph(inputs):\n",
        "  graph_config = RunnableConfig(recursion_limit=10)  # Increase if necessary\n",
        "  try:\n",
        "    output = list(graph.stream(inputs, config=graph_config))[-1] # Get the last element from the stream\n",
        "    pprint.pprint(output.get('generate_answer', \"Answer not found.\")) # Use get to avoid KeyError and provide default message\n",
        "\n",
        "  except GraphRecursionError as e:\n",
        "    print()\n",
        "    print(\"Can't find relevant answer\")"
      ],
      "metadata": {
        "id": "0Qd30Xl4Neo-"
      },
      "execution_count": 56,
      "outputs": []
    },
    {
      "cell_type": "code",
      "source": [
        "inputs = {'question': 'What are the battery types?'}\n",
        "run_graph(inputs)"
      ],
      "metadata": {
        "id": "vA0O4K8gSE-W",
        "outputId": "850440ed-4161-4010-f768-c2292555f163",
        "colab": {
          "base_uri": "https://localhost:8080/"
        }
      },
      "execution_count": 57,
      "outputs": [
        {
          "output_type": "stream",
          "name": "stdout",
          "text": [
            "---RETRIEVE---\n",
            "---CHECK RELEVANCE---\n",
            "---% OF RELEVANT DOCS: 50.0---\n",
            "---DECIDE TO REWRITE QUERY---\n",
            "---REWRITE QUERY---\n",
            "---SEARCH WEB---\n",
            "---GENERATE ANSWER---\n",
            "{'generated_answer': 'Different types of batteries include lithium-ion, '\n",
            "                     'nickel-cadmium (NiCd), nickel-metal hydride (NiMH), '\n",
            "                     'lead-acid, and alkaline batteries. Lithium-ion batteries '\n",
            "                     'are commonly used in portable electronics like '\n",
            "                     'smartphones and laptops due to their high energy '\n",
            "                     'density, while lead-acid batteries are typically found '\n",
            "                     'in vehicles and backup power systems. Alkaline batteries '\n",
            "                     'are often used in low-drain devices such as remote '\n",
            "                     'controls and clocks.',\n",
            " 'question': 'What are the different types of batteries and their specific '\n",
            "             'applications?'}\n"
          ]
        }
      ]
    },
    {
      "cell_type": "code",
      "source": [
        "inputs = {'question': 'Who is Hanhan Wu?'}\n",
        "run_graph(inputs)"
      ],
      "metadata": {
        "id": "1bGtH6WpUrnx",
        "outputId": "ab1a49dc-de87-4627-e496-16f4f5fd7866",
        "colab": {
          "base_uri": "https://localhost:8080/"
        }
      },
      "execution_count": 59,
      "outputs": [
        {
          "output_type": "stream",
          "name": "stdout",
          "text": [
            "---RETRIEVE---\n",
            "---CHECK RELEVANCE---\n",
            "---% OF RELEVANT DOCS: 0.0---\n",
            "---DECIDE TO REWRITE QUERY---\n",
            "---REWRITE QUERY---\n",
            "---SEARCH WEB---\n",
            "---GENERATE ANSWER---\n",
            "{'generated_answer': 'Hanhan Wu, also known as Emperor Wu of Han or Liu Che, '\n",
            "                     'was a significant ruler of the Han Dynasty, reigning '\n",
            "                     'from 141 BC to 87 BC. He is noted for expanding the '\n",
            "                     'empire, establishing Confucianism as the state '\n",
            "                     'philosophy, and setting up Confucian academies. His '\n",
            "                     '54-year rule is marked by numerous achievements that had '\n",
            "                     'a lasting impact on Chinese history.',\n",
            " 'question': 'What are the notable achievements and background of Hanhan Wu?'}\n"
          ]
        }
      ]
    }
  ]
}