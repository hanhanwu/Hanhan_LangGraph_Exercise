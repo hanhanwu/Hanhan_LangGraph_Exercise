{
  "nbformat": 4,
  "nbformat_minor": 0,
  "metadata": {
    "colab": {
      "provenance": [],
      "authorship_tag": "ABX9TyOmOAncvoA42sDoqhuiLSOs",
      "include_colab_link": true
    },
    "kernelspec": {
      "name": "python3",
      "display_name": "Python 3"
    },
    "language_info": {
      "name": "python"
    }
  },
  "cells": [
    {
      "cell_type": "markdown",
      "metadata": {
        "id": "view-in-github",
        "colab_type": "text"
      },
      "source": [
        "<a href=\"https://colab.research.google.com/github/hanhanwu/Hanhan_LangGraph_Exercise/blob/main/RAG_Chatbot/try_corrective_rag.ipynb\" target=\"_parent\"><img src=\"https://colab.research.google.com/assets/colab-badge.svg\" alt=\"Open In Colab\"/></a>"
      ]
    },
    {
      "cell_type": "code",
      "execution_count": 1,
      "metadata": {
        "id": "h3aMkxRFnx04"
      },
      "outputs": [],
      "source": [
        "%%capture --no-stderr\n",
        "%pip install -U --quiet langchain-community tiktoken langchain-openai langchainhub chromadb langchain langgraph langchain-text-splitters playwright unstructured tavily-python\n",
        "!playwright install\n",
        "%pip install -U --quiet rank_bm25 faiss-cpu"
      ]
    },
    {
      "cell_type": "code",
      "source": [
        "from google.colab import userdata\n",
        "\n",
        "# load the environment variables set in colab\n",
        "OPENAI_API_KEY = userdata.get('OPENAI_API_KEY')\n",
        "LANGSMITH_API_KEY = userdata.get('LANGSMITH_API_KEY')\n",
        "TAVILY_API_KEY = userdata.get('TAVILY_API_KEY')"
      ],
      "metadata": {
        "id": "qQungM0dl4zZ"
      },
      "execution_count": 3,
      "outputs": []
    },
    {
      "cell_type": "markdown",
      "source": [
        "## Retriever"
      ],
      "metadata": {
        "id": "e9KTEnlImF4A"
      }
    },
    {
      "cell_type": "code",
      "source": [
        "from langchain_community.document_loaders import PlaywrightURLLoader\n",
        "from langchain_community.vectorstores import Chroma\n",
        "from langchain.retrievers import EnsembleRetriever\n",
        "from langchain_community.retrievers import BM25Retriever\n",
        "from langchain_community.vectorstores import FAISS\n",
        "from langchain_openai import OpenAIEmbeddings\n",
        "from langchain_text_splitters import RecursiveCharacterTextSplitter\n",
        "from langchain.tools.retriever import create_retriever_tool\n",
        "\n",
        "\n",
        "urls = [\n",
        "   \"https://www.ana.co.jp/en/us/travel-information/customers-with-disabilities/walking-disabilities/\",\n",
        "   \"https://www.ana.co.jp/en/us/travel-information/customers-with-disabilities/visual-disabilities/\",\n",
        "]\n",
        "\n",
        "loader = PlaywrightURLLoader(urls=urls, remove_selectors=[\"header\", \"footer\"])\n",
        "docs = await loader.aload()  # returns \"Document\" type\n",
        "\n",
        "text_splitter = RecursiveCharacterTextSplitter.from_tiktoken_encoder(\n",
        "    chunk_size=200, chunk_overlap=80\n",
        ")\n",
        "doc_splits = text_splitter.split_documents(docs)  # split into chunks with overlap\n",
        "\n",
        "# choose retriever type based on the number of chunks\n",
        "chunks_ct = len(doc_splits)\n",
        "if chunks_ct < 30:\n",
        "  print(chunks_ct, 'choose vectorstore based retriever')\n",
        "  # use Vectorstore-backed retriever (the simplest retriever in LangChain)\n",
        "  vectorstore = Chroma.from_documents(\n",
        "      documents=doc_splits,\n",
        "      collection_name=\"rag-chroma\",\n",
        "      embedding=OpenAIEmbeddings(api_key=OPENAI_API_KEY),\n",
        "  )\n",
        "  retriever = vectorstore.as_retriever()\n",
        "else:\n",
        "  print(chunks_ct, 'choose ensemble retriever')\n",
        "  # use emsemble retriever\n",
        "  # initialize the bm25 retriever and faiss retriever\n",
        "  bm25_retriever = BM25Retriever.from_texts(\n",
        "      [doc.page_content for doc in doc_splits], metadatas=[{\"source\": 1}] * len(doc_splits)\n",
        "  )\n",
        "  bm25_retriever.k = 2\n",
        "  embedding = OpenAIEmbeddings(api_key=OPENAI_API_KEY)\n",
        "  faiss_vectorstore = FAISS.from_texts(\n",
        "      [doc.page_content for doc in doc_splits], embedding, metadatas=[{\"source\": 2}] * len(doc_splits)\n",
        "  )\n",
        "  faiss_retriever = faiss_vectorstore.as_retriever(search_kwargs={\"k\": 2})\n",
        "  # initialize the ensemble retriever\n",
        "  retriever = EnsembleRetriever(\n",
        "      retrievers=[bm25_retriever, faiss_retriever], weights=[0.5, 0.5]\n",
        "  )"
      ],
      "metadata": {
        "colab": {
          "base_uri": "https://localhost:8080/"
        },
        "id": "EmOV4tq5lsuU",
        "outputId": "f98d77de-4e33-4ba9-93ef-04e46b80dcfa"
      },
      "execution_count": 4,
      "outputs": [
        {
          "output_type": "stream",
          "name": "stdout",
          "text": [
            "44 choose ensemble retriever\n"
          ]
        }
      ]
    },
    {
      "cell_type": "markdown",
      "source": [
        "## State of Graph"
      ],
      "metadata": {
        "id": "A5QoiJCXqpLP"
      }
    },
    {
      "cell_type": "code",
      "source": [
        "from typing import List\n",
        "from typing_extensions import TypedDict\n",
        "\n",
        "\n",
        "class GraphState(TypedDict):\n",
        "    question: str\n",
        "    generated_answer: str\n",
        "    needs_web_search: str  # \"yes\" or \"no\" decides whether needs web search\n",
        "    docs: List[str]"
      ],
      "metadata": {
        "id": "h-0ngP6PqtR1"
      },
      "execution_count": 9,
      "outputs": []
    },
    {
      "cell_type": "markdown",
      "source": [
        "## Nodes"
      ],
      "metadata": {
        "id": "U7rGw-BLrmYw"
      }
    },
    {
      "cell_type": "code",
      "source": [
        "from typing_extensions import TypedDict\n",
        "from pydantic import BaseModel, Field\n",
        "\n",
        "from langchain import hub\n",
        "from langchain_core.messages import HumanMessage\n",
        "from langchain_core.output_parsers import StrOutputParser\n",
        "from langchain_core.prompts import PromptTemplate\n",
        "from langchain_openai import ChatOpenAI\n",
        "\n",
        "\n",
        "model_str = \"gpt-4o-mini-2024-07-18\""
      ],
      "metadata": {
        "id": "hR5lMP_Oq2vm"
      },
      "execution_count": 6,
      "outputs": []
    },
    {
      "cell_type": "code",
      "source": [
        "def retrieve(state):\n",
        "    \"\"\"\n",
        "    Retrieve documents\n",
        "\n",
        "    Args:\n",
        "        state (dict): The current graph state\n",
        "    Returns:\n",
        "        state (dict): retrieved documents added to the graph state; question stays the same\n",
        "    \"\"\"\n",
        "    print(\"---RETRIEVE---\")\n",
        "    question = state[\"question\"]\n",
        "\n",
        "    # Retrieval\n",
        "    documents = retriever.invoke(question)\n",
        "    return {\"documents\": documents, \"question\": question}\n",
        "\n",
        "\n",
        "def grade_documents(state):\n",
        "    \"\"\"\n",
        "    Check each retrieved document, if there is any un-relevant document, set \"needs_web_search\" as \"yes\".\n",
        "    All the relevant documents will be saved too.\n",
        "\n",
        "    Args:\n",
        "        state (dict): The current state\n",
        "    Returns:\n",
        "        state (dict): retrieved relevant documents; the decison on \"needs_web_search\"; question stays the same\n",
        "    \"\"\"\n",
        "\n",
        "    print(\"---CHECK RELEVANCE---\")\n",
        "\n",
        "    # Data model\n",
        "    class grade(BaseModel):\n",
        "        \"\"\"Binary score for relevance check.\"\"\"\n",
        "        binary_score: str = Field(description=\"Relevance score 'yes' or 'no'\")\n",
        "\n",
        "    # LLM\n",
        "    model = ChatOpenAI(temperature=0, api_key=OPENAI_API_KEY,\n",
        "                       model=model_str, streaming=True)\n",
        "    # LLM with tool and validation\n",
        "    llm_with_tool = model.with_structured_output(grade)\n",
        "\n",
        "    # Prompt\n",
        "    prompt = PromptTemplate(\n",
        "        template=\"\"\"You are a grader assessing relevance of a retrieved document to a user question. \\n\n",
        "        Here is the retrieved document: \\n\\n {context} \\n\\n\n",
        "        Here is the user question: {question} \\n\n",
        "        If the document contains keyword(s) or semantic meaning related to the user question, grade it as relevant. \\n\n",
        "        Give a binary score 'yes' or 'no' score to indicate whether the document is relevant to the question.\"\"\",\n",
        "        input_variables=[\"context\", \"question\"],\n",
        "    )\n",
        "\n",
        "    # Relevancy Grader\n",
        "    grader = prompt | llm_with_tool\n",
        "\n",
        "    question = state['question']\n",
        "    retrieved_docs = state['docs']\n",
        "\n",
        "    relevant_docs = []\n",
        "    needs_web_search = 'no'\n",
        "    for doc in retrieved_docs:\n",
        "      scored_result = grader.invoke({'question': question, 'document': doc.page_content})\n",
        "      score = scored_result.binary_score\n",
        "\n",
        "      if score == 'yes':\n",
        "          relevant_docs.append(doc)\n",
        "      else:\n",
        "          needs_web_search = 'yes'\n",
        "\n",
        "    return {'document': relevant_docs,\n",
        "            'question': question,\n",
        "            'needs_web_search': needs_web_search}"
      ],
      "metadata": {
        "id": "15omxS_JrpA-"
      },
      "execution_count": null,
      "outputs": []
    }
  ]
}