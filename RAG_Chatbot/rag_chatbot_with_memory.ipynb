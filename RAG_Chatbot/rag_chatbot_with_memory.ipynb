{
  "nbformat": 4,
  "nbformat_minor": 0,
  "metadata": {
    "colab": {
      "provenance": [],
      "authorship_tag": "ABX9TyOUk/ujAkY8jQ2cy25pS4IM",
      "include_colab_link": true
    },
    "kernelspec": {
      "name": "python3",
      "display_name": "Python 3"
    },
    "language_info": {
      "name": "python"
    }
  },
  "cells": [
    {
      "cell_type": "markdown",
      "metadata": {
        "id": "view-in-github",
        "colab_type": "text"
      },
      "source": [
        "<a href=\"https://colab.research.google.com/github/hanhanwu/Hanhan_LangGraph_Exercise/blob/main/RAG_Chatbot/rag_chatbot_with_memory.ipynb\" target=\"_parent\"><img src=\"https://colab.research.google.com/assets/colab-badge.svg\" alt=\"Open In Colab\"/></a>"
      ]
    },
    {
      "cell_type": "markdown",
      "source": [
        "## About\n",
        "\n",
        "* LangGraph allows you to build chatbot with memory using `MemorySaver`\n",
        "* Basic Agentic RAG & Chatbot"
      ],
      "metadata": {
        "id": "GpmrN-j2jvP8"
      }
    },
    {
      "cell_type": "code",
      "execution_count": 1,
      "metadata": {
        "id": "6nerf7eAjSBK"
      },
      "outputs": [],
      "source": [
        "%%capture --no-stderr\n",
        "%pip install -U --quiet langchain-community tiktoken langchain-openai langchainhub chromadb langchain langgraph langchain-text-splitters playwright unstructured\n",
        "!playwright install\n",
        "%pip install -U --quiet rank_bm25 faiss-cpu"
      ]
    },
    {
      "cell_type": "code",
      "source": [
        "from google.colab import userdata\n",
        "\n",
        "# load the environment variables set in colab\n",
        "OPENAI_API_KEY = userdata.get('OPENAI_API_KEY')\n",
        "LANGSMITH_API_KEY = userdata.get('LANGSMITH_API_KEY')"
      ],
      "metadata": {
        "id": "8hinL5b9muLQ"
      },
      "execution_count": 2,
      "outputs": []
    },
    {
      "cell_type": "markdown",
      "source": [
        "## RAG\n",
        "\n",
        "#### Retriever"
      ],
      "metadata": {
        "id": "tQO5FkLkulwU"
      }
    },
    {
      "cell_type": "code",
      "source": [
        "from langchain_community.document_loaders import PlaywrightURLLoader\n",
        "from langchain_community.vectorstores import Chroma\n",
        "from langchain.retrievers import EnsembleRetriever\n",
        "from langchain_community.retrievers import BM25Retriever\n",
        "from langchain_community.vectorstores import FAISS\n",
        "from langchain_openai import OpenAIEmbeddings\n",
        "from langchain_text_splitters import RecursiveCharacterTextSplitter\n",
        "from langchain.tools.retriever import create_retriever_tool\n",
        "\n",
        "\n",
        "urls = [\n",
        "   \"https://langchain-ai.github.io/langgraph/tutorials/introduction/#part-3-adding-memory-to-the-chatbot\",\n",
        "]\n",
        "\n",
        "loader = PlaywrightURLLoader(urls=urls, remove_selectors=[\"header\", \"footer\"])\n",
        "docs = await loader.aload()  # returns \"Document\" type\n",
        "\n",
        "text_splitter = RecursiveCharacterTextSplitter.from_tiktoken_encoder(\n",
        "    chunk_size=500, chunk_overlap=200\n",
        ")\n",
        "doc_splits = text_splitter.split_documents(docs)  # split into chunks with overlap\n",
        "\n",
        "# choose retriever type based on the number of chunks\n",
        "chunks_ct = len(doc_splits)\n",
        "if chunks_ct < 30:\n",
        "  print(chunks_ct, 'choose vectorstore based retriever')\n",
        "  # use Vectorstore-backed retriever (the simplest retriever in LangChain)\n",
        "  vectorstore = Chroma.from_documents(\n",
        "      documents=doc_splits,\n",
        "      collection_name=\"rag-chroma\",\n",
        "      embedding=OpenAIEmbeddings(api_key=OPENAI_API_KEY),\n",
        "  )\n",
        "  retriever = vectorstore.as_retriever()\n",
        "else:\n",
        "  print(chunks_ct, 'choose ensemble retriever')\n",
        "  # use emsemble retriever\n",
        "  # initialize the bm25 retriever and faiss retriever\n",
        "  bm25_retriever = BM25Retriever.from_texts(\n",
        "      [doc.page_content for doc in doc_splits], metadatas=[{\"source\": 1}] * len(doc_splits)\n",
        "  )\n",
        "  bm25_retriever.k = 2\n",
        "  embedding = OpenAIEmbeddings(api_key=OPENAI_API_KEY)\n",
        "  faiss_vectorstore = FAISS.from_texts(\n",
        "      [doc.page_content for doc in doc_splits], embedding, metadatas=[{\"source\": 2}] * len(doc_splits)\n",
        "  )\n",
        "  faiss_retriever = faiss_vectorstore.as_retriever(search_kwargs={\"k\": 2})\n",
        "  # initialize the ensemble retriever\n",
        "  retriever = EnsembleRetriever(\n",
        "      retrievers=[bm25_retriever, faiss_retriever], weights=[0.5, 0.5]\n",
        "  )"
      ],
      "metadata": {
        "colab": {
          "base_uri": "https://localhost:8080/"
        },
        "id": "wyl-AAWOuaRC",
        "outputId": "fcb30670-0a05-4e58-9cdd-a9ada3d6fab8"
      },
      "execution_count": 3,
      "outputs": [
        {
          "output_type": "stream",
          "name": "stdout",
          "text": [
            "80 choose ensemble retriever\n"
          ]
        }
      ]
    },
    {
      "cell_type": "code",
      "source": [
        "# create a retriever tool\n",
        "retriever_tool = create_retriever_tool(\n",
        "    retriever,\n",
        "    \"retrieve_urls\",\n",
        "    \"Search and return information about the info in provided URLs.\",\n",
        ")\n",
        "\n",
        "tools = [retriever_tool]"
      ],
      "metadata": {
        "id": "3zOr1V8CvM1a"
      },
      "execution_count": 4,
      "outputs": []
    },
    {
      "cell_type": "markdown",
      "source": [
        "#### Agent State"
      ],
      "metadata": {
        "id": "0LiilWiGvi_q"
      }
    },
    {
      "cell_type": "code",
      "source": [
        "from typing import Annotated, Sequence\n",
        "from typing_extensions import TypedDict\n",
        "\n",
        "from langchain_core.messages import BaseMessage\n",
        "from langgraph.graph.message import add_messages\n",
        "\n",
        "\n",
        "class AgentState(TypedDict):\n",
        "    # The add_messages function defines how an update should be processed\n",
        "    # Default is to replace. add_messages says \"append\"\n",
        "    messages: Annotated[Sequence[BaseMessage], add_messages]"
      ],
      "metadata": {
        "id": "wxe5v8-gvf0p"
      },
      "execution_count": 5,
      "outputs": []
    },
    {
      "cell_type": "markdown",
      "source": [
        "#### Nodes & Edges"
      ],
      "metadata": {
        "id": "2fEvjzG7voFQ"
      }
    },
    {
      "cell_type": "code",
      "source": [
        "from typing import Annotated, Literal, Sequence\n",
        "from typing_extensions import TypedDict\n",
        "from pydantic import BaseModel, Field\n",
        "\n",
        "from langchain import hub\n",
        "from langchain_core.messages import BaseMessage, HumanMessage\n",
        "from langchain_core.output_parsers import StrOutputParser\n",
        "from langchain_core.prompts import PromptTemplate\n",
        "from langchain_openai import ChatOpenAI\n",
        "\n",
        "from langgraph.prebuilt import tools_condition\n",
        "\n",
        "\n",
        "model_str = \"gpt-4o-mini-2024-07-18\""
      ],
      "metadata": {
        "id": "xJlWlu0lvlsX"
      },
      "execution_count": 6,
      "outputs": []
    },
    {
      "cell_type": "code",
      "source": [
        "def grade_documents(state) -> Literal[\"generate_answer\", \"rewrite_query\"]:\n",
        "    \"\"\"\n",
        "    Determines whether the retrieved documents are relevant to the question.\n",
        "\n",
        "    Args:\n",
        "        state (messages): The current state\n",
        "    Returns:\n",
        "        str: A decision for whether the documents are relevant or not\n",
        "    \"\"\"\n",
        "\n",
        "    print(\"---CHECK RELEVANCE---\")\n",
        "\n",
        "    # Data model\n",
        "    class grade(BaseModel):\n",
        "        \"\"\"Binary score for relevance check.\"\"\"\n",
        "        binary_score: str = Field(description=\"Relevance score 'yes' or 'no'\")\n",
        "\n",
        "    # LLM\n",
        "    model = ChatOpenAI(temperature=0, api_key=OPENAI_API_KEY,\n",
        "                       model=model_str, streaming=True)\n",
        "    # LLM with tool and validation\n",
        "    llm_with_tool = model.with_structured_output(grade)\n",
        "\n",
        "    # Prompt\n",
        "    prompt = PromptTemplate(\n",
        "        template=\"\"\"You are a grader assessing relevance of a retrieved document to a user question. \\n\n",
        "        Here is the retrieved document: \\n\\n {context} \\n\\n\n",
        "        Here is the user question: {question} \\n\n",
        "        If the document contains keyword(s) or semantic meaning related to the user question, grade it as relevant. \\n\n",
        "        Give a binary score 'yes' or 'no' score to indicate whether the document is relevant to the question.\"\"\",\n",
        "        input_variables=[\"context\", \"question\"],\n",
        "    )\n",
        "\n",
        "    # Chain\n",
        "    chain = prompt | llm_with_tool  # the output of \"prompt\" will be passed as the input of \"llm_with_tool\"\n",
        "\n",
        "    messages = state[\"messages\"]\n",
        "    last_message = messages[-1]\n",
        "\n",
        "    question = messages[0].content\n",
        "    docs = last_message.content\n",
        "\n",
        "    scored_result = chain.invoke({\"question\": question, \"context\": docs})\n",
        "    score = scored_result.binary_score\n",
        "\n",
        "    if score == \"yes\":\n",
        "        print(\"---DECISION: DOCS RELEVANT---\")\n",
        "        return \"generate_answer\"\n",
        "    else:\n",
        "        print(\"---DECISION: DOCS NOT RELEVANT---\")\n",
        "        return \"rewrite_query\""
      ],
      "metadata": {
        "id": "DzskXgjxvuK_"
      },
      "execution_count": 7,
      "outputs": []
    },
    {
      "cell_type": "code",
      "source": [
        "def agent(state):\n",
        "    \"\"\"\n",
        "    Invokes the agent model to generate a response based on the current state. Given\n",
        "    the question, it will decide to retrieve using the retriever tool, or simply end.\n",
        "\n",
        "    Args:\n",
        "        state (messages): The current state\n",
        "    Returns:\n",
        "        dict: The updated state with the agent response appended to messages\n",
        "    \"\"\"\n",
        "    print(\"---CALL AGENT---\")\n",
        "    messages = state[\"messages\"]\n",
        "    model = ChatOpenAI(temperature=0, api_key=OPENAI_API_KEY,\n",
        "                       streaming=True, model=model_str)\n",
        "    model = model.bind_tools(tools)  # in this case, tools only have retriever_tool\n",
        "    response = model.invoke(messages)\n",
        "    return {\"messages\": [response]}  # add the response to the existing list\n",
        "\n",
        "\n",
        "def rewrite_query(state):\n",
        "    \"\"\"\n",
        "    Transform the query to produce a better query.\n",
        "\n",
        "    Args:\n",
        "        state (messages): The current state\n",
        "    Returns:\n",
        "        dict: The updated state with re-phrased query\n",
        "    \"\"\"\n",
        "    print(\"---TRANSFORM QUERY---\")\n",
        "    messages = state[\"messages\"]\n",
        "    question = messages[0].content\n",
        "\n",
        "    msg = [\n",
        "        HumanMessage(\n",
        "            content=f\"\"\" \\n\n",
        "                    Look at the input and try to reason about the underlying semantic intent or meaning. \\n\n",
        "                    Here is the initial question:\n",
        "                    \\n ------- \\n\n",
        "                    {question}\n",
        "                    \\n ------- \\n\n",
        "                    Formulate an improved question: \"\"\",\n",
        "        )\n",
        "    ]\n",
        "\n",
        "    # Grader\n",
        "    model = ChatOpenAI(temperature=0, api_key=OPENAI_API_KEY,\n",
        "                       model=model_str, streaming=True)\n",
        "    response = model.invoke(msg)\n",
        "    return {\"messages\": [response]}\n",
        "\n",
        "\n",
        "def generate_answer(state):\n",
        "    \"\"\"\n",
        "    Generate answer\n",
        "\n",
        "    Args:\n",
        "        state (messages): The current state\n",
        "    Returns:\n",
        "         dict: The updated state with re-phrased question\n",
        "    \"\"\"\n",
        "    print(\"---GENERATE ANSWER---\")\n",
        "    messages = state[\"messages\"]\n",
        "    question = messages[0].content\n",
        "    last_message = messages[-1]\n",
        "\n",
        "    docs = last_message.content\n",
        "\n",
        "    # Prompt\n",
        "    prompt = hub.pull(\"rlm/rag-prompt\",\n",
        "                      api_key=LANGSMITH_API_KEY)  # from LangChain hub: https://smith.langchain.com/hub/\n",
        "\n",
        "    # LLM\n",
        "    llm = ChatOpenAI(model_name=model_str, api_key=OPENAI_API_KEY,\n",
        "                     temperature=0, streaming=True)\n",
        "\n",
        "    # Chain\n",
        "    rag_chain = prompt | llm | StrOutputParser()  # output most likely str\n",
        "\n",
        "    # Run\n",
        "    response = rag_chain.invoke({\"context\": docs, \"question\": question})\n",
        "    return {\"messages\": [response]}"
      ],
      "metadata": {
        "id": "dMN_ZSVAvzHv"
      },
      "execution_count": 8,
      "outputs": []
    },
    {
      "cell_type": "markdown",
      "source": [
        "#### Graph with Memory"
      ],
      "metadata": {
        "id": "-si3CAprwKPz"
      }
    },
    {
      "cell_type": "code",
      "source": [
        "from langgraph.graph import END, StateGraph, START\n",
        "from langgraph.prebuilt import ToolNode\n",
        "from langgraph.checkpoint.memory import MemorySaver\n",
        "\n",
        "# Define a new graph\n",
        "workflow = StateGraph(AgentState)\n",
        "\n",
        "# Define the nodes we will cycle between\n",
        "workflow.add_node(\"agent\", agent)  # agent\n",
        "retrieve = ToolNode([retriever_tool])\n",
        "workflow.add_node(\"retrieve\", retrieve)  # retrieval\n",
        "workflow.add_node(\"rewrite_query\", rewrite_query)  # Re-writing the query\n",
        "workflow.add_node(\"generate_answer\", generate_answer)  # Generating a response after we know the documents are relevant\n",
        "\n",
        "# Call agent node to decide to retrieve or not\n",
        "workflow.add_edge(START, \"agent\")\n",
        "# decide whether to retrieve\n",
        "workflow.add_conditional_edges(\n",
        "    \"agent\",\n",
        "    tools_condition,  # decides retrieve or END\n",
        "    {\n",
        "        # translate the condition outputs to nodes in our graph\n",
        "        \"tools\": \"retrieve\",\n",
        "        END: END,\n",
        "    },\n",
        ")\n",
        "\n",
        "# Edges taken after the `action` node is called.\n",
        "workflow.add_conditional_edges(\n",
        "    \"retrieve\",\n",
        "    # assess agent decision\n",
        "    grade_documents,\n",
        ")\n",
        "workflow.add_edge(\"generate_answer\", END)\n",
        "workflow.add_edge(\"rewrite_query\", \"agent\")\n",
        "\n",
        "# Compile\n",
        "memory = MemorySaver()\n",
        "graph = workflow.compile(checkpointer=memory)  # adds memory to chatbot"
      ],
      "metadata": {
        "id": "xR3CUj6Kv35B"
      },
      "execution_count": 9,
      "outputs": []
    },
    {
      "cell_type": "code",
      "source": [
        "from IPython.display import Image, display\n",
        "\n",
        "try:\n",
        "    display(Image(graph.get_graph(xray=True).draw_mermaid_png()))\n",
        "except Exception:\n",
        "    # This requires some extra dependencies and is optional\n",
        "    pass"
      ],
      "metadata": {
        "colab": {
          "base_uri": "https://localhost:8080/",
          "height": 473
        },
        "id": "38DL7jFLwSAv",
        "outputId": "a5c06dd4-12e3-4bed-ea01-568504a9a20e"
      },
      "execution_count": 10,
      "outputs": [
        {
          "output_type": "display_data",
          "data": {
            "image/png": "[encoded data removed]",
            "text/plain": [
              "<IPython.core.display.Image object>"
            ]
          },
          "metadata": {}
        }
      ]
    },
    {
      "cell_type": "code",
      "source": [
        "import pprint\n",
        "from langchain_core.runnables import RunnableConfig\n",
        "from langgraph.errors import GraphRecursionError\n",
        "from collections import deque\n",
        "\n",
        "\n",
        "def run_graph(user_input):\n",
        "  graph_config = {\"configurable\": {\"thread_id\": \"1\"}}\n",
        "  events = graph.stream(\n",
        "      {\"messages\": [(\"user\", user_input)]}, graph_config, stream_mode=\"values\"\n",
        "    )\n",
        "  try:\n",
        "    answer = deque(events, maxlen=1).pop()[\"messages\"][-1]\n",
        "    return answer\n",
        "  except:\n",
        "    return \"Didn't get any answer\""
      ],
      "metadata": {
        "id": "5JN2iSZiwS9m"
      },
      "execution_count": 11,
      "outputs": []
    },
    {
      "cell_type": "code",
      "source": [
        "user_input = 'What is time travel'\n",
        "run_graph(user_input)"
      ],
      "metadata": {
        "id": "d68KfiUmtsja",
        "outputId": "5143e040-fd70-47d6-d3d6-7b53e7ff0392",
        "colab": {
          "base_uri": "https://localhost:8080/"
        }
      },
      "execution_count": 12,
      "outputs": [
        {
          "output_type": "stream",
          "name": "stdout",
          "text": [
            "---CALL AGENT---\n",
            "---CHECK RELEVANCE---\n",
            "---DECISION: DOCS NOT RELEVANT---\n",
            "---TRANSFORM QUERY---\n",
            "---CALL AGENT---\n",
            "---CHECK RELEVANCE---\n",
            "---DECISION: DOCS RELEVANT---\n",
            "---GENERATE ANSWER---\n"
          ]
        },
        {
          "output_type": "execute_result",
          "data": {
            "text/plain": [
              "HumanMessage(content='Time travel, in the context of LangGraph, refers to the ability to \"rewind\" a chatbot\\'s state to a previous point in time, allowing users to explore different outcomes or correct mistakes. This functionality is achieved by fetching a checkpoint using the graph\\'s get_state_history method and resuming execution from that saved state. It enhances user interaction by enabling branching paths in conversations and error recovery.', additional_kwargs={}, response_metadata={}, id='4fbf1d7b-b4ce-4dbc-9ca0-88c1d67b1b6f')"
            ]
          },
          "metadata": {},
          "execution_count": 12
        }
      ]
    },
    {
      "cell_type": "code",
      "source": [
        "user_input = 'How to use it?'\n",
        "run_graph(user_input)"
      ],
      "metadata": {
        "id": "exa9VPaluGat",
        "outputId": "c62a6971-70fc-4b5f-9ade-dd1952f07deb",
        "colab": {
          "base_uri": "https://localhost:8080/"
        }
      },
      "execution_count": 14,
      "outputs": [
        {
          "output_type": "stream",
          "name": "stdout",
          "text": [
            "---CALL AGENT---\n"
          ]
        },
        {
          "output_type": "execute_result",
          "data": {
            "text/plain": [
              "AIMessage(content='Using time travel, particularly in the context of science fiction or theoretical physics, can vary widely depending on the framework or narrative being discussed. Here are some general ways time travel is portrayed and how it can be \"used\" in different contexts:\\n\\n### 1. **In Science Fiction**\\n   - **Time Machines**: Many stories feature devices or machines that allow characters to travel through time. For example, H.G. Wells\\' \"The Time Machine\" describes a device that enables the user to move to any point in time.\\n   - **Time Travel Devices**: In movies like \"Back to the Future,\" characters use a modified car (the DeLorean) to travel through time when it reaches a specific speed.\\n   - **Magic or Supernatural Means**: Some narratives use magical elements or supernatural abilities to allow characters to travel through time, such as in \"Doctor Who\" with the TARDIS.\\n\\n### 2. **In Theoretical Physics**\\n   - **Understanding Relativity**: To theoretically \"use\" time travel, one would need to understand concepts like time dilation from Einstein\\'s theory of relativity. This involves traveling at speeds close to the speed of light or being in strong gravitational fields.\\n   - **Exploring Wormholes**: Theoretical physicists discuss the possibility of using wormholes as shortcuts through space-time, although this remains purely speculative and unproven.\\n\\n### 3. **In Interactive Media**\\n   - **Video Games**: Many video games incorporate time travel mechanics, allowing players to manipulate time to solve puzzles or change outcomes. For example, games like \"Chrono Trigger\" allow players to travel to different time periods to affect the game\\'s story.\\n   - **Choose Your Own Adventure**: Some narrative-driven games or stories allow players to make choices that lead to different timelines or outcomes, effectively simulating a form of time travel.\\n\\n### 4. **In Personal Reflection**\\n   - **Metaphorical Time Travel**: People often use the concept of time travel metaphorically to reflect on past decisions or future possibilities. This can involve journaling, meditation, or therapy to explore how past experiences shape current choices.\\n\\n### 5. **In Research and Theory**\\n   - **Studying Time**: Physicists and philosophers study the implications of time travel through theoretical research, exploring the nature of time, causality, and the universe.\\n\\n### Conclusion\\nWhile actual time travel as depicted in fiction is not currently possible according to our understanding of physics, the concept serves as a rich source of inspiration for storytelling, philosophical inquiry, and scientific exploration. Whether through literature, film, or theoretical discussions, time travel invites us to think about the nature of time and our place within it.', additional_kwargs={}, response_metadata={'finish_reason': 'stop', 'model_name': 'gpt-4o-mini-2024-07-18', 'system_fingerprint': 'fp_0aa8d3e20b'}, id='run-f7f654b2-7278-4667-9288-1bbaffbd8677-0')"
            ]
          },
          "metadata": {},
          "execution_count": 14
        }
      ]
    },
    {
      "cell_type": "code",
      "source": [
        "user_input = 'What is human in the loop?'\n",
        "run_graph(user_input)"
      ],
      "metadata": {
        "id": "qo7yaMUhueW_",
        "outputId": "30c18c1b-2cf2-4434-a79f-134d2b7bbf66",
        "colab": {
          "base_uri": "https://localhost:8080/"
        }
      },
      "execution_count": 15,
      "outputs": [
        {
          "output_type": "stream",
          "name": "stdout",
          "text": [
            "---CALL AGENT---\n"
          ]
        },
        {
          "output_type": "execute_result",
          "data": {
            "text/plain": [
              "AIMessage(content='\"Human in the loop\" (HITL) is a concept used in various fields, particularly in artificial intelligence (AI), machine learning, and automation. It refers to the involvement of human oversight or intervention in processes that are typically automated or driven by algorithms. Here are some key aspects of the human-in-the-loop approach:\\n\\n### 1. **Definition**\\n   - HITL involves integrating human judgment, expertise, or decision-making into automated systems. This can occur at various stages of a process, from data collection and analysis to decision-making and feedback.\\n\\n### 2. **Applications**\\n   - **Machine Learning**: In machine learning, human input is often necessary for tasks such as labeling data, refining algorithms, and validating results. For example, humans may review and correct the outputs of an AI model to improve its accuracy.\\n   - **Autonomous Systems**: In autonomous vehicles or drones, human operators may intervene in critical situations to ensure safety and proper functioning.\\n   - **Content Moderation**: Social media platforms often use HITL for content moderation, where algorithms flag potentially harmful content, but human moderators make the final decisions on whether to remove it.\\n\\n### 3. **Benefits**\\n   - **Improved Accuracy**: Human oversight can enhance the accuracy and reliability of automated systems, especially in complex or nuanced situations where human judgment is essential.\\n   - **Error Correction**: Humans can identify and correct errors that algorithms may overlook, leading to better outcomes.\\n   - **Ethical Considerations**: In sensitive areas, such as healthcare or criminal justice, human involvement ensures that ethical considerations are taken into account.\\n\\n### 4. **Challenges**\\n   - **Scalability**: Relying on human input can limit the scalability of automated systems, as human resources are finite.\\n   - **Bias**: Human decisions can introduce bias, which may affect the outcomes of automated processes.\\n   - **Cost**: Involving humans in the loop can increase operational costs and complexity.\\n\\n### 5. **Examples**\\n   - **AI Training**: In training AI models, humans may label images or text to help the model learn to recognize patterns.\\n   - **Feedback Loops**: In systems that learn from user interactions, human feedback can be used to refine algorithms and improve performance over time.\\n\\n### Conclusion\\nThe human-in-the-loop approach emphasizes the importance of human judgment and expertise in enhancing the effectiveness and ethical considerations of automated systems. By combining the strengths of both humans and machines, organizations can achieve better outcomes in various applications.', additional_kwargs={}, response_metadata={'finish_reason': 'stop', 'model_name': 'gpt-4o-mini-2024-07-18', 'system_fingerprint': 'fp_0aa8d3e20b'}, id='run-c3dbdf05-5098-4afa-b0dd-8be41faba27c-0')"
            ]
          },
          "metadata": {},
          "execution_count": 15
        }
      ]
    },
    {
      "cell_type": "code",
      "source": [
        "user_input = 'How to use it?'\n",
        "run_graph(user_input)"
      ],
      "metadata": {
        "colab": {
          "base_uri": "https://localhost:8080/"
        },
        "id": "g2aRRHMYy3eQ",
        "outputId": "5feac1fa-f23d-4241-bb7d-81c913318b42"
      },
      "execution_count": 16,
      "outputs": [
        {
          "output_type": "stream",
          "name": "stdout",
          "text": [
            "---CALL AGENT---\n"
          ]
        },
        {
          "output_type": "execute_result",
          "data": {
            "text/plain": [
              "AIMessage(content='Using the \"human in the loop\" (HITL) approach involves integrating human oversight and decision-making into automated systems or processes. Here are steps and considerations for effectively implementing HITL in various contexts:\\n\\n### 1. **Identify the Process**\\n   - Determine which processes or systems would benefit from human oversight. This could include areas where decisions are complex, require ethical considerations, or where accuracy is critical.\\n\\n### 2. **Define Roles and Responsibilities**\\n   - Clearly outline the roles of human participants in the process. Define what tasks they will perform, such as reviewing outputs, providing feedback, or making final decisions.\\n\\n### 3. **Integrate Human Feedback Mechanisms**\\n   - Develop systems that allow humans to provide input easily. This could involve:\\n     - **Review Interfaces**: Create user-friendly interfaces for humans to review and approve or reject automated outputs.\\n     - **Feedback Loops**: Implement mechanisms for humans to give feedback on the performance of algorithms, which can be used to improve future outputs.\\n\\n### 4. **Training and Onboarding**\\n   - Train human participants on the system and their specific roles. Ensure they understand how to interact with the automated system and the importance of their input.\\n\\n### 5. **Monitor and Evaluate Performance**\\n   - Continuously monitor the performance of the automated system and the effectiveness of human input. Evaluate metrics such as accuracy, efficiency, and user satisfaction.\\n   - Use this data to identify areas for improvement in both the automated system and the human involvement process.\\n\\n### 6. **Iterate and Improve**\\n   - Based on feedback and performance evaluations, make iterative improvements to the system. This could involve refining algorithms, enhancing user interfaces, or adjusting the roles of human participants.\\n\\n### 7. **Ensure Ethical Considerations**\\n   - Incorporate ethical guidelines into the HITL process, especially in sensitive areas like healthcare, finance, or criminal justice. Ensure that human decisions are made with consideration of fairness, transparency, and accountability.\\n\\n### 8. **Scalability Considerations**\\n   - Plan for scalability by considering how to efficiently integrate human input as the system grows. This may involve automating certain aspects of human involvement or using crowdsourcing for larger tasks.\\n\\n### 9. **Documentation and Communication**\\n   - Maintain clear documentation of processes, decisions, and changes made based on human input. Ensure open communication among team members to facilitate collaboration and knowledge sharing.\\n\\n### 10. **Use Cases**\\n   - **Machine Learning**: In machine learning projects, use HITL for data labeling, model validation, and error correction.\\n   - **Content Moderation**: Implement HITL in content moderation systems where algorithms flag content, but human moderators make final decisions.\\n   - **Autonomous Systems**: In autonomous vehicles, use HITL for safety oversight, allowing human operators to intervene in critical situations.\\n\\n### Conclusion\\nImplementing a human-in-the-loop approach requires careful planning, clear communication, and ongoing evaluation. By effectively integrating human oversight into automated systems, organizations can enhance accuracy, improve decision-making, and address ethical considerations, leading to better overall outcomes.', additional_kwargs={}, response_metadata={'finish_reason': 'stop', 'model_name': 'gpt-4o-mini-2024-07-18', 'system_fingerprint': 'fp_0aa8d3e20b'}, id='run-1c26c8cd-4ae7-4f6e-a586-31d6372af2eb-0')"
            ]
          },
          "metadata": {},
          "execution_count": 16
        }
      ]
    },
    {
      "cell_type": "code",
      "source": [],
      "metadata": {
        "id": "waoXWE1I4wy5"
      },
      "execution_count": null,
      "outputs": []
    }
  ]
}