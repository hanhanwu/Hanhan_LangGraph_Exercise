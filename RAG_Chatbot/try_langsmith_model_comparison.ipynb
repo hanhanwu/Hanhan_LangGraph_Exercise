{
  "nbformat": 4,
  "nbformat_minor": 0,
  "metadata": {
    "colab": {
      "provenance": [],
      "authorship_tag": "ABX9TyN4vxoZ/4IWDQqdFNuRSU+E",
      "include_colab_link": true
    },
    "kernelspec": {
      "name": "python3",
      "display_name": "Python 3"
    },
    "language_info": {
      "name": "python"
    },
    "widgets": {
      "application/vnd.jupyter.widget-state+json": {
        "f04d4ab0699f4f939aaa66f66b7a086e": {
          "model_module": "@jupyter-widgets/controls",
          "model_name": "HBoxModel",
          "model_module_version": "1.5.0",
          "state": {
            "_dom_classes": [],
            "_model_module": "@jupyter-widgets/controls",
            "_model_module_version": "1.5.0",
            "_model_name": "HBoxModel",
            "_view_count": null,
            "_view_module": "@jupyter-widgets/controls",
            "_view_module_version": "1.5.0",
            "_view_name": "HBoxView",
            "box_style": "",
            "children": [
              "IPY_MODEL_0c7fbe48af114d8e9e1d34994547536a",
              "IPY_MODEL_b321db4ed44146f3aa28a33242ebd81c",
              "IPY_MODEL_d055c017652f4f26ab5f9cb0c46a7782"
            ],
            "layout": "IPY_MODEL_19e44d7b402f46fc85a5ab0e96b42e76"
          }
        },
        "0c7fbe48af114d8e9e1d34994547536a": {
          "model_module": "@jupyter-widgets/controls",
          "model_name": "HTMLModel",
          "model_module_version": "1.5.0",
          "state": {
            "_dom_classes": [],
            "_model_module": "@jupyter-widgets/controls",
            "_model_module_version": "1.5.0",
            "_model_name": "HTMLModel",
            "_view_count": null,
            "_view_module": "@jupyter-widgets/controls",
            "_view_module_version": "1.5.0",
            "_view_name": "HTMLView",
            "description": "",
            "description_tooltip": null,
            "layout": "IPY_MODEL_eaa94bbaa095468f837a1d6c0f3acd67",
            "placeholder": "​",
            "style": "IPY_MODEL_0099bb604fd64a36976cf59fbda5eaae",
            "value": ""
          }
        },
        "b321db4ed44146f3aa28a33242ebd81c": {
          "model_module": "@jupyter-widgets/controls",
          "model_name": "FloatProgressModel",
          "model_module_version": "1.5.0",
          "state": {
            "_dom_classes": [],
            "_model_module": "@jupyter-widgets/controls",
            "_model_module_version": "1.5.0",
            "_model_name": "FloatProgressModel",
            "_view_count": null,
            "_view_module": "@jupyter-widgets/controls",
            "_view_module_version": "1.5.0",
            "_view_name": "ProgressView",
            "bar_style": "success",
            "description": "",
            "description_tooltip": null,
            "layout": "IPY_MODEL_6eae4bcb14534141be25aae6fe124bd1",
            "max": 1,
            "min": 0,
            "orientation": "horizontal",
            "style": "IPY_MODEL_433fed22bf2b44608cc76b86352d3e07",
            "value": 1
          }
        },
        "d055c017652f4f26ab5f9cb0c46a7782": {
          "model_module": "@jupyter-widgets/controls",
          "model_name": "HTMLModel",
          "model_module_version": "1.5.0",
          "state": {
            "_dom_classes": [],
            "_model_module": "@jupyter-widgets/controls",
            "_model_module_version": "1.5.0",
            "_model_name": "HTMLModel",
            "_view_count": null,
            "_view_module": "@jupyter-widgets/controls",
            "_view_module_version": "1.5.0",
            "_view_name": "HTMLView",
            "description": "",
            "description_tooltip": null,
            "layout": "IPY_MODEL_b0245a8ef8244995ac897b885574ec12",
            "placeholder": "​",
            "style": "IPY_MODEL_fff4093431cc45dab76daf7b9e08b0e9",
            "value": " 7/? [00:11&lt;00:00,  1.53s/it]"
          }
        },
        "19e44d7b402f46fc85a5ab0e96b42e76": {
          "model_module": "@jupyter-widgets/base",
          "model_name": "LayoutModel",
          "model_module_version": "1.2.0",
          "state": {
            "_model_module": "@jupyter-widgets/base",
            "_model_module_version": "1.2.0",
            "_model_name": "LayoutModel",
            "_view_count": null,
            "_view_module": "@jupyter-widgets/base",
            "_view_module_version": "1.2.0",
            "_view_name": "LayoutView",
            "align_content": null,
            "align_items": null,
            "align_self": null,
            "border": null,
            "bottom": null,
            "display": null,
            "flex": null,
            "flex_flow": null,
            "grid_area": null,
            "grid_auto_columns": null,
            "grid_auto_flow": null,
            "grid_auto_rows": null,
            "grid_column": null,
            "grid_gap": null,
            "grid_row": null,
            "grid_template_areas": null,
            "grid_template_columns": null,
            "grid_template_rows": null,
            "height": null,
            "justify_content": null,
            "justify_items": null,
            "left": null,
            "margin": null,
            "max_height": null,
            "max_width": null,
            "min_height": null,
            "min_width": null,
            "object_fit": null,
            "object_position": null,
            "order": null,
            "overflow": null,
            "overflow_x": null,
            "overflow_y": null,
            "padding": null,
            "right": null,
            "top": null,
            "visibility": null,
            "width": null
          }
        },
        "eaa94bbaa095468f837a1d6c0f3acd67": {
          "model_module": "@jupyter-widgets/base",
          "model_name": "LayoutModel",
          "model_module_version": "1.2.0",
          "state": {
            "_model_module": "@jupyter-widgets/base",
            "_model_module_version": "1.2.0",
            "_model_name": "LayoutModel",
            "_view_count": null,
            "_view_module": "@jupyter-widgets/base",
            "_view_module_version": "1.2.0",
            "_view_name": "LayoutView",
            "align_content": null,
            "align_items": null,
            "align_self": null,
            "border": null,
            "bottom": null,
            "display": null,
            "flex": null,
            "flex_flow": null,
            "grid_area": null,
            "grid_auto_columns": null,
            "grid_auto_flow": null,
            "grid_auto_rows": null,
            "grid_column": null,
            "grid_gap": null,
            "grid_row": null,
            "grid_template_areas": null,
            "grid_template_columns": null,
            "grid_template_rows": null,
            "height": null,
            "justify_content": null,
            "justify_items": null,
            "left": null,
            "margin": null,
            "max_height": null,
            "max_width": null,
            "min_height": null,
            "min_width": null,
            "object_fit": null,
            "object_position": null,
            "order": null,
            "overflow": null,
            "overflow_x": null,
            "overflow_y": null,
            "padding": null,
            "right": null,
            "top": null,
            "visibility": null,
            "width": null
          }
        },
        "0099bb604fd64a36976cf59fbda5eaae": {
          "model_module": "@jupyter-widgets/controls",
          "model_name": "DescriptionStyleModel",
          "model_module_version": "1.5.0",
          "state": {
            "_model_module": "@jupyter-widgets/controls",
            "_model_module_version": "1.5.0",
            "_model_name": "DescriptionStyleModel",
            "_view_count": null,
            "_view_module": "@jupyter-widgets/base",
            "_view_module_version": "1.2.0",
            "_view_name": "StyleView",
            "description_width": ""
          }
        },
        "6eae4bcb14534141be25aae6fe124bd1": {
          "model_module": "@jupyter-widgets/base",
          "model_name": "LayoutModel",
          "model_module_version": "1.2.0",
          "state": {
            "_model_module": "@jupyter-widgets/base",
            "_model_module_version": "1.2.0",
            "_model_name": "LayoutModel",
            "_view_count": null,
            "_view_module": "@jupyter-widgets/base",
            "_view_module_version": "1.2.0",
            "_view_name": "LayoutView",
            "align_content": null,
            "align_items": null,
            "align_self": null,
            "border": null,
            "bottom": null,
            "display": null,
            "flex": null,
            "flex_flow": null,
            "grid_area": null,
            "grid_auto_columns": null,
            "grid_auto_flow": null,
            "grid_auto_rows": null,
            "grid_column": null,
            "grid_gap": null,
            "grid_row": null,
            "grid_template_areas": null,
            "grid_template_columns": null,
            "grid_template_rows": null,
            "height": null,
            "justify_content": null,
            "justify_items": null,
            "left": null,
            "margin": null,
            "max_height": null,
            "max_width": null,
            "min_height": null,
            "min_width": null,
            "object_fit": null,
            "object_position": null,
            "order": null,
            "overflow": null,
            "overflow_x": null,
            "overflow_y": null,
            "padding": null,
            "right": null,
            "top": null,
            "visibility": null,
            "width": "20px"
          }
        },
        "433fed22bf2b44608cc76b86352d3e07": {
          "model_module": "@jupyter-widgets/controls",
          "model_name": "ProgressStyleModel",
          "model_module_version": "1.5.0",
          "state": {
            "_model_module": "@jupyter-widgets/controls",
            "_model_module_version": "1.5.0",
            "_model_name": "ProgressStyleModel",
            "_view_count": null,
            "_view_module": "@jupyter-widgets/base",
            "_view_module_version": "1.2.0",
            "_view_name": "StyleView",
            "bar_color": null,
            "description_width": ""
          }
        },
        "b0245a8ef8244995ac897b885574ec12": {
          "model_module": "@jupyter-widgets/base",
          "model_name": "LayoutModel",
          "model_module_version": "1.2.0",
          "state": {
            "_model_module": "@jupyter-widgets/base",
            "_model_module_version": "1.2.0",
            "_model_name": "LayoutModel",
            "_view_count": null,
            "_view_module": "@jupyter-widgets/base",
            "_view_module_version": "1.2.0",
            "_view_name": "LayoutView",
            "align_content": null,
            "align_items": null,
            "align_self": null,
            "border": null,
            "bottom": null,
            "display": null,
            "flex": null,
            "flex_flow": null,
            "grid_area": null,
            "grid_auto_columns": null,
            "grid_auto_flow": null,
            "grid_auto_rows": null,
            "grid_column": null,
            "grid_gap": null,
            "grid_row": null,
            "grid_template_areas": null,
            "grid_template_columns": null,
            "grid_template_rows": null,
            "height": null,
            "justify_content": null,
            "justify_items": null,
            "left": null,
            "margin": null,
            "max_height": null,
            "max_width": null,
            "min_height": null,
            "min_width": null,
            "object_fit": null,
            "object_position": null,
            "order": null,
            "overflow": null,
            "overflow_x": null,
            "overflow_y": null,
            "padding": null,
            "right": null,
            "top": null,
            "visibility": null,
            "width": null
          }
        },
        "fff4093431cc45dab76daf7b9e08b0e9": {
          "model_module": "@jupyter-widgets/controls",
          "model_name": "DescriptionStyleModel",
          "model_module_version": "1.5.0",
          "state": {
            "_model_module": "@jupyter-widgets/controls",
            "_model_module_version": "1.5.0",
            "_model_name": "DescriptionStyleModel",
            "_view_count": null,
            "_view_module": "@jupyter-widgets/base",
            "_view_module_version": "1.2.0",
            "_view_name": "StyleView",
            "description_width": ""
          }
        },
        "0006b726ecab4452b9e95065b32f1177": {
          "model_module": "@jupyter-widgets/controls",
          "model_name": "HBoxModel",
          "model_module_version": "1.5.0",
          "state": {
            "_dom_classes": [],
            "_model_module": "@jupyter-widgets/controls",
            "_model_module_version": "1.5.0",
            "_model_name": "HBoxModel",
            "_view_count": null,
            "_view_module": "@jupyter-widgets/controls",
            "_view_module_version": "1.5.0",
            "_view_name": "HBoxView",
            "box_style": "",
            "children": [
              "IPY_MODEL_502567c866994c34a4af6c336d8be9fe",
              "IPY_MODEL_709f656917164ac7b2cd1da0d397722a",
              "IPY_MODEL_314d4a9b65b04d5a9597fb3429270fcc"
            ],
            "layout": "IPY_MODEL_51b231a4f4d94d1dbf0fe18903731fd7"
          }
        },
        "502567c866994c34a4af6c336d8be9fe": {
          "model_module": "@jupyter-widgets/controls",
          "model_name": "HTMLModel",
          "model_module_version": "1.5.0",
          "state": {
            "_dom_classes": [],
            "_model_module": "@jupyter-widgets/controls",
            "_model_module_version": "1.5.0",
            "_model_name": "HTMLModel",
            "_view_count": null,
            "_view_module": "@jupyter-widgets/controls",
            "_view_module_version": "1.5.0",
            "_view_name": "HTMLView",
            "description": "",
            "description_tooltip": null,
            "layout": "IPY_MODEL_63095d8cde51411b97afc7ea847b5754",
            "placeholder": "​",
            "style": "IPY_MODEL_f8ba471085d746e9bfaf7ea90e26bba1",
            "value": ""
          }
        },
        "709f656917164ac7b2cd1da0d397722a": {
          "model_module": "@jupyter-widgets/controls",
          "model_name": "FloatProgressModel",
          "model_module_version": "1.5.0",
          "state": {
            "_dom_classes": [],
            "_model_module": "@jupyter-widgets/controls",
            "_model_module_version": "1.5.0",
            "_model_name": "FloatProgressModel",
            "_view_count": null,
            "_view_module": "@jupyter-widgets/controls",
            "_view_module_version": "1.5.0",
            "_view_name": "ProgressView",
            "bar_style": "success",
            "description": "",
            "description_tooltip": null,
            "layout": "IPY_MODEL_18b7a50ec79d47f7bd55d9f0ebc427b0",
            "max": 1,
            "min": 0,
            "orientation": "horizontal",
            "style": "IPY_MODEL_4dcd67c102974b01ae50dfcee7a0e58d",
            "value": 1
          }
        },
        "314d4a9b65b04d5a9597fb3429270fcc": {
          "model_module": "@jupyter-widgets/controls",
          "model_name": "HTMLModel",
          "model_module_version": "1.5.0",
          "state": {
            "_dom_classes": [],
            "_model_module": "@jupyter-widgets/controls",
            "_model_module_version": "1.5.0",
            "_model_name": "HTMLModel",
            "_view_count": null,
            "_view_module": "@jupyter-widgets/controls",
            "_view_module_version": "1.5.0",
            "_view_name": "HTMLView",
            "description": "",
            "description_tooltip": null,
            "layout": "IPY_MODEL_91115f2179bc46b487cdc340527cddfe",
            "placeholder": "​",
            "style": "IPY_MODEL_9181cd5f11664ce1826448253db90328",
            "value": " 7/? [00:19&lt;00:00,  2.85s/it]"
          }
        },
        "51b231a4f4d94d1dbf0fe18903731fd7": {
          "model_module": "@jupyter-widgets/base",
          "model_name": "LayoutModel",
          "model_module_version": "1.2.0",
          "state": {
            "_model_module": "@jupyter-widgets/base",
            "_model_module_version": "1.2.0",
            "_model_name": "LayoutModel",
            "_view_count": null,
            "_view_module": "@jupyter-widgets/base",
            "_view_module_version": "1.2.0",
            "_view_name": "LayoutView",
            "align_content": null,
            "align_items": null,
            "align_self": null,
            "border": null,
            "bottom": null,
            "display": null,
            "flex": null,
            "flex_flow": null,
            "grid_area": null,
            "grid_auto_columns": null,
            "grid_auto_flow": null,
            "grid_auto_rows": null,
            "grid_column": null,
            "grid_gap": null,
            "grid_row": null,
            "grid_template_areas": null,
            "grid_template_columns": null,
            "grid_template_rows": null,
            "height": null,
            "justify_content": null,
            "justify_items": null,
            "left": null,
            "margin": null,
            "max_height": null,
            "max_width": null,
            "min_height": null,
            "min_width": null,
            "object_fit": null,
            "object_position": null,
            "order": null,
            "overflow": null,
            "overflow_x": null,
            "overflow_y": null,
            "padding": null,
            "right": null,
            "top": null,
            "visibility": null,
            "width": null
          }
        },
        "63095d8cde51411b97afc7ea847b5754": {
          "model_module": "@jupyter-widgets/base",
          "model_name": "LayoutModel",
          "model_module_version": "1.2.0",
          "state": {
            "_model_module": "@jupyter-widgets/base",
            "_model_module_version": "1.2.0",
            "_model_name": "LayoutModel",
            "_view_count": null,
            "_view_module": "@jupyter-widgets/base",
            "_view_module_version": "1.2.0",
            "_view_name": "LayoutView",
            "align_content": null,
            "align_items": null,
            "align_self": null,
            "border": null,
            "bottom": null,
            "display": null,
            "flex": null,
            "flex_flow": null,
            "grid_area": null,
            "grid_auto_columns": null,
            "grid_auto_flow": null,
            "grid_auto_rows": null,
            "grid_column": null,
            "grid_gap": null,
            "grid_row": null,
            "grid_template_areas": null,
            "grid_template_columns": null,
            "grid_template_rows": null,
            "height": null,
            "justify_content": null,
            "justify_items": null,
            "left": null,
            "margin": null,
            "max_height": null,
            "max_width": null,
            "min_height": null,
            "min_width": null,
            "object_fit": null,
            "object_position": null,
            "order": null,
            "overflow": null,
            "overflow_x": null,
            "overflow_y": null,
            "padding": null,
            "right": null,
            "top": null,
            "visibility": null,
            "width": null
          }
        },
        "f8ba471085d746e9bfaf7ea90e26bba1": {
          "model_module": "@jupyter-widgets/controls",
          "model_name": "DescriptionStyleModel",
          "model_module_version": "1.5.0",
          "state": {
            "_model_module": "@jupyter-widgets/controls",
            "_model_module_version": "1.5.0",
            "_model_name": "DescriptionStyleModel",
            "_view_count": null,
            "_view_module": "@jupyter-widgets/base",
            "_view_module_version": "1.2.0",
            "_view_name": "StyleView",
            "description_width": ""
          }
        },
        "18b7a50ec79d47f7bd55d9f0ebc427b0": {
          "model_module": "@jupyter-widgets/base",
          "model_name": "LayoutModel",
          "model_module_version": "1.2.0",
          "state": {
            "_model_module": "@jupyter-widgets/base",
            "_model_module_version": "1.2.0",
            "_model_name": "LayoutModel",
            "_view_count": null,
            "_view_module": "@jupyter-widgets/base",
            "_view_module_version": "1.2.0",
            "_view_name": "LayoutView",
            "align_content": null,
            "align_items": null,
            "align_self": null,
            "border": null,
            "bottom": null,
            "display": null,
            "flex": null,
            "flex_flow": null,
            "grid_area": null,
            "grid_auto_columns": null,
            "grid_auto_flow": null,
            "grid_auto_rows": null,
            "grid_column": null,
            "grid_gap": null,
            "grid_row": null,
            "grid_template_areas": null,
            "grid_template_columns": null,
            "grid_template_rows": null,
            "height": null,
            "justify_content": null,
            "justify_items": null,
            "left": null,
            "margin": null,
            "max_height": null,
            "max_width": null,
            "min_height": null,
            "min_width": null,
            "object_fit": null,
            "object_position": null,
            "order": null,
            "overflow": null,
            "overflow_x": null,
            "overflow_y": null,
            "padding": null,
            "right": null,
            "top": null,
            "visibility": null,
            "width": "20px"
          }
        },
        "4dcd67c102974b01ae50dfcee7a0e58d": {
          "model_module": "@jupyter-widgets/controls",
          "model_name": "ProgressStyleModel",
          "model_module_version": "1.5.0",
          "state": {
            "_model_module": "@jupyter-widgets/controls",
            "_model_module_version": "1.5.0",
            "_model_name": "ProgressStyleModel",
            "_view_count": null,
            "_view_module": "@jupyter-widgets/base",
            "_view_module_version": "1.2.0",
            "_view_name": "StyleView",
            "bar_color": null,
            "description_width": ""
          }
        },
        "91115f2179bc46b487cdc340527cddfe": {
          "model_module": "@jupyter-widgets/base",
          "model_name": "LayoutModel",
          "model_module_version": "1.2.0",
          "state": {
            "_model_module": "@jupyter-widgets/base",
            "_model_module_version": "1.2.0",
            "_model_name": "LayoutModel",
            "_view_count": null,
            "_view_module": "@jupyter-widgets/base",
            "_view_module_version": "1.2.0",
            "_view_name": "LayoutView",
            "align_content": null,
            "align_items": null,
            "align_self": null,
            "border": null,
            "bottom": null,
            "display": null,
            "flex": null,
            "flex_flow": null,
            "grid_area": null,
            "grid_auto_columns": null,
            "grid_auto_flow": null,
            "grid_auto_rows": null,
            "grid_column": null,
            "grid_gap": null,
            "grid_row": null,
            "grid_template_areas": null,
            "grid_template_columns": null,
            "grid_template_rows": null,
            "height": null,
            "justify_content": null,
            "justify_items": null,
            "left": null,
            "margin": null,
            "max_height": null,
            "max_width": null,
            "min_height": null,
            "min_width": null,
            "object_fit": null,
            "object_position": null,
            "order": null,
            "overflow": null,
            "overflow_x": null,
            "overflow_y": null,
            "padding": null,
            "right": null,
            "top": null,
            "visibility": null,
            "width": null
          }
        },
        "9181cd5f11664ce1826448253db90328": {
          "model_module": "@jupyter-widgets/controls",
          "model_name": "DescriptionStyleModel",
          "model_module_version": "1.5.0",
          "state": {
            "_model_module": "@jupyter-widgets/controls",
            "_model_module_version": "1.5.0",
            "_model_name": "DescriptionStyleModel",
            "_view_count": null,
            "_view_module": "@jupyter-widgets/base",
            "_view_module_version": "1.2.0",
            "_view_name": "StyleView",
            "description_width": ""
          }
        }
      }
    }
  },
  "cells": [
    {
      "cell_type": "markdown",
      "metadata": {
        "id": "view-in-github",
        "colab_type": "text"
      },
      "source": [
        "<a href=\"https://colab.research.google.com/github/hanhanwu/Hanhan_LangGraph_Exercise/blob/main/RAG_Chatbot/try_langsmith_model_comparison.ipynb\" target=\"_parent\"><img src=\"https://colab.research.google.com/assets/colab-badge.svg\" alt=\"Open In Colab\"/></a>"
      ]
    },
    {
      "cell_type": "markdown",
      "source": [
        "## About\n",
        "\n",
        "* Compare 2 LLM solutions' performance\n",
        "* Performance evaluation uses a testset with questions and their correct answer\n",
        "* See comparison on LangSmith dashboard"
      ],
      "metadata": {
        "id": "uoBFloOqEUjp"
      }
    },
    {
      "cell_type": "code",
      "source": [
        "%%capture --no-stderr\n",
        "%pip install -U --quiet langsmith langchain_openai"
      ],
      "metadata": {
        "id": "8nwDFRMaFdFS"
      },
      "execution_count": 1,
      "outputs": []
    },
    {
      "cell_type": "code",
      "source": [
        "import pandas as pd\n",
        "import os\n",
        "from google.colab import userdata\n",
        "\n",
        "def _set_env(key_name: str, key_value: str):\n",
        "    if key_name not in os.environ:\n",
        "      os.environ[key_name] = key_value\n",
        "\n",
        "# load the environment variables set in colab\n",
        "_set_env('OPENAI_API_KEY', userdata.get('OPENAI_API_KEY'))\n",
        "_set_env('LANGSMITH_API_KEY', userdata.get('LANGSMITH_API_KEY'))"
      ],
      "metadata": {
        "id": "Mr6xNLlgFYb1"
      },
      "execution_count": 2,
      "outputs": []
    },
    {
      "cell_type": "markdown",
      "source": [
        "## Upload Testet to LangSmith\n",
        "\n",
        "* Testset is saved [here][1]\n",
        "* The dataset is uploaded to LangSmith UI [like this][2]\n",
        "  * `dataset_name` was defined in this process\n",
        "  * Only choose \"question\" as LangSmith dataset input, and choose \"answer\" as output, otherwise LangSmith might print out ValueError\n",
        "\n",
        "[1]:https://github.com/hanhanwu/Hanhan_LangGraph_Exercise/blob/main/RAG_Chatbot/model_eval_testset.csv\n",
        "[2]:https://docs.smith.langchain.com/old/evaluation/faq/manage-datasets"
      ],
      "metadata": {
        "id": "mYfix6GNFLDj"
      }
    },
    {
      "cell_type": "code",
      "execution_count": 3,
      "metadata": {
        "colab": {
          "base_uri": "https://localhost:8080/"
        },
        "id": "9qKSUHIBBv2i",
        "outputId": "fadadc8f-2224-40d5-f6dd-f52f64ecf018"
      },
      "outputs": [
        {
          "output_type": "execute_result",
          "data": {
            "text/plain": [
              "<generator object Client.list_examples at 0x7f3da698f370>"
            ]
          },
          "metadata": {},
          "execution_count": 3
        }
      ],
      "source": [
        "from langsmith import Client\n",
        "client = Client(api_key=os.environ['LANGSMITH_API_KEY'])\n",
        "dataset_name = 'model_eval_testset'\n",
        "\n",
        "client.list_examples(dataset_name)"
      ]
    },
    {
      "cell_type": "markdown",
      "source": [
        "## Define Metrics"
      ],
      "metadata": {
        "id": "V0iS3UnUj09f"
      }
    },
    {
      "cell_type": "code",
      "source": [
        "from langchain_openai import ChatOpenAI\n",
        "from langchain_core.prompts.prompt import PromptTemplate\n",
        "from langsmith.evaluation import LangChainStringEvaluator\n",
        "\n",
        "\n",
        "_PROMPT_TEMPLATE = \"\"\"You are an ANA (All Nippon Airways) accessibility policy expert.\n",
        "                      Now you need to evaluate answers of customers' questions related to accessibility policy.\n",
        "                    Here's customer' question:\n",
        "                    {query}\n",
        "                    Here is the real answer:\n",
        "                    {answer}\n",
        "                    You are evaluating the following predicted answer:\n",
        "                    {result}\n",
        "                    Respond with CORRECT or INCORRECT:\n",
        "                    Evaluate:\n",
        "                  \"\"\"\n",
        "\n",
        "PROMPT = PromptTemplate(template=_PROMPT_TEMPLATE,\n",
        "    input_variables=[\"query\", \"answer\", \"result\"],  # names here matter\n",
        ")\n",
        "eval_llm = ChatOpenAI(temperature=0.0)\n",
        "qa_evaluator = LangChainStringEvaluator(\"qa\",\n",
        "                                        config={\"llm\": eval_llm,\n",
        "                                                \"prompt\": PROMPT})"
      ],
      "metadata": {
        "id": "9cEC3ejEjgfS"
      },
      "execution_count": 4,
      "outputs": []
    },
    {
      "cell_type": "markdown",
      "source": [
        "## Run Evaluations"
      ],
      "metadata": {
        "id": "6GkE0EqNvUsC"
      }
    },
    {
      "cell_type": "code",
      "source": [
        "def eval_query(question, openai_model_name):\n",
        "    return openai_client.chat.completions.create(\n",
        "        model=openai_model_name,\n",
        "        temperature=0,\n",
        "        messages=[\n",
        "            {\n",
        "                \"role\": \"system\",\n",
        "                \"content\": \"Respond to customer's question about All Nippon Airways' accessibility policy.\"\n",
        "            },\n",
        "            {\n",
        "                \"role\": \"user\",\n",
        "                \"content\": question,\n",
        "            }\n",
        "        ],\n",
        "    ).choices[0].message.content\n",
        "\n",
        "\n",
        "def langsmith_eval_all_queries(inputs, openai_model_name):\n",
        "    output = eval_query(inputs[\"question\"], openai_model_name)\n",
        "    return {\"result\": output}"
      ],
      "metadata": {
        "id": "cMQT9OvPweqU"
      },
      "execution_count": 5,
      "outputs": []
    },
    {
      "cell_type": "code",
      "source": [
        "import openai\n",
        "from langsmith import evaluate\n",
        "from functools import partial\n",
        "\n",
        "openai_client = openai.Client()\n",
        "model1_name = 'gpt-3.5-turbo'\n",
        "model2_name = 'gpt-4o-mini'\n",
        "\n",
        "eval_func1 = partial(langsmith_eval_all_queries, openai_model_name=model1_name)\n",
        "eval_func2 = partial(langsmith_eval_all_queries, openai_model_name=model2_name)"
      ],
      "metadata": {
        "id": "gnlwAmhtqosN"
      },
      "execution_count": 6,
      "outputs": []
    },
    {
      "cell_type": "code",
      "source": [
        "experiment_results = evaluate(\n",
        "    eval_func1,\n",
        "    data=dataset_name,\n",
        "    evaluators=[qa_evaluator], # eval metrics\n",
        "    experiment_prefix=\"model1\",\n",
        "  )"
      ],
      "metadata": {
        "id": "S9FkCGRpx2Tw",
        "outputId": "9fa71489-1115-4d4c-cb75-be8de1b3e75d",
        "colab": {
          "base_uri": "https://localhost:8080/",
          "height": 143,
          "referenced_widgets": [
            "f04d4ab0699f4f939aaa66f66b7a086e",
            "0c7fbe48af114d8e9e1d34994547536a",
            "b321db4ed44146f3aa28a33242ebd81c",
            "d055c017652f4f26ab5f9cb0c46a7782",
            "19e44d7b402f46fc85a5ab0e96b42e76",
            "eaa94bbaa095468f837a1d6c0f3acd67",
            "0099bb604fd64a36976cf59fbda5eaae",
            "6eae4bcb14534141be25aae6fe124bd1",
            "433fed22bf2b44608cc76b86352d3e07",
            "b0245a8ef8244995ac897b885574ec12",
            "fff4093431cc45dab76daf7b9e08b0e9"
          ]
        }
      },
      "execution_count": 7,
      "outputs": [
        {
          "output_type": "stream",
          "name": "stdout",
          "text": [
            "View the evaluation results for experiment: 'model1-062ef2f2' at:\n",
            "https://smith.langchain.com/o/e9860761-8952-4d6a-a09f-3b40cecc4980/datasets/06ca5d2d-4af3-470a-8608-599b736808be/compare?selectedSessions=443a3ca8-d72a-4c91-8c77-229bfe329d9e\n",
            "\n",
            "\n"
          ]
        },
        {
          "output_type": "display_data",
          "data": {
            "text/plain": [
              "0it [00:00, ?it/s]"
            ],
            "application/vnd.jupyter.widget-view+json": {
              "version_major": 2,
              "version_minor": 0,
              "model_id": "f04d4ab0699f4f939aaa66f66b7a086e"
            }
          },
          "metadata": {}
        }
      ]
    },
    {
      "cell_type": "code",
      "source": [
        "experiment_results = evaluate(\n",
        "    eval_func2,\n",
        "    data=dataset_name,\n",
        "    evaluators=[qa_evaluator], # eval metrics\n",
        "    experiment_prefix=\"model2\",\n",
        "  )"
      ],
      "metadata": {
        "id": "Jrs8RUU6B02o",
        "outputId": "6c334e7e-ca8c-45aa-b391-506d3660e715",
        "colab": {
          "base_uri": "https://localhost:8080/",
          "height": 143,
          "referenced_widgets": [
            "0006b726ecab4452b9e95065b32f1177",
            "502567c866994c34a4af6c336d8be9fe",
            "709f656917164ac7b2cd1da0d397722a",
            "314d4a9b65b04d5a9597fb3429270fcc",
            "51b231a4f4d94d1dbf0fe18903731fd7",
            "63095d8cde51411b97afc7ea847b5754",
            "f8ba471085d746e9bfaf7ea90e26bba1",
            "18b7a50ec79d47f7bd55d9f0ebc427b0",
            "4dcd67c102974b01ae50dfcee7a0e58d",
            "91115f2179bc46b487cdc340527cddfe",
            "9181cd5f11664ce1826448253db90328"
          ]
        }
      },
      "execution_count": 8,
      "outputs": [
        {
          "output_type": "stream",
          "name": "stdout",
          "text": [
            "View the evaluation results for experiment: 'model2-3e844e7d' at:\n",
            "https://smith.langchain.com/o/e9860761-8952-4d6a-a09f-3b40cecc4980/datasets/06ca5d2d-4af3-470a-8608-599b736808be/compare?selectedSessions=1a036cc3-386b-4b14-af95-d0c377722669\n",
            "\n",
            "\n"
          ]
        },
        {
          "output_type": "display_data",
          "data": {
            "text/plain": [
              "0it [00:00, ?it/s]"
            ],
            "application/vnd.jupyter.widget-view+json": {
              "version_major": 2,
              "version_minor": 0,
              "model_id": "0006b726ecab4452b9e95065b32f1177"
            }
          },
          "metadata": {}
        }
      ]
    },
    {
      "cell_type": "markdown",
      "source": [
        "## Then Compare 2 experiments' performance on LangSmith Dashboard"
      ],
      "metadata": {
        "id": "3nYhdvBQGRz9"
      }
    },
    {
      "cell_type": "code",
      "source": [],
      "metadata": {
        "id": "-LAmXHqTGZqm"
      },
      "execution_count": null,
      "outputs": []
    }
  ]
}