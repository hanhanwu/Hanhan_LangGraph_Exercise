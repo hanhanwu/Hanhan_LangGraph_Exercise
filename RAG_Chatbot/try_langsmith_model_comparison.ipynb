{
  "nbformat": 4,
  "nbformat_minor": 0,
  "metadata": {
    "colab": {
      "provenance": [],
      "authorship_tag": "ABX9TyMMG90RLR+aypBxXOKPuG5T",
      "include_colab_link": true
    },
    "kernelspec": {
      "name": "python3",
      "display_name": "Python 3"
    },
    "language_info": {
      "name": "python"
    },
    "widgets": {
      "application/vnd.jupyter.widget-state+json": {
        "9f93cd0e5de84ec7974d89c6cba2a206": {
          "model_module": "@jupyter-widgets/controls",
          "model_name": "HBoxModel",
          "model_module_version": "1.5.0",
          "state": {
            "_dom_classes": [],
            "_model_module": "@jupyter-widgets/controls",
            "_model_module_version": "1.5.0",
            "_model_name": "HBoxModel",
            "_view_count": null,
            "_view_module": "@jupyter-widgets/controls",
            "_view_module_version": "1.5.0",
            "_view_name": "HBoxView",
            "box_style": "",
            "children": [
              "IPY_MODEL_540b6dc0275f4bc7ac4bb76811e49017",
              "IPY_MODEL_e04421e8940f4ba39c5f4a13a4325b15",
              "IPY_MODEL_1c1f72f83af045718806274c766a6645"
            ],
            "layout": "IPY_MODEL_84f33e2e69484ca8b9500151b4c27ccb"
          }
        },
        "540b6dc0275f4bc7ac4bb76811e49017": {
          "model_module": "@jupyter-widgets/controls",
          "model_name": "HTMLModel",
          "model_module_version": "1.5.0",
          "state": {
            "_dom_classes": [],
            "_model_module": "@jupyter-widgets/controls",
            "_model_module_version": "1.5.0",
            "_model_name": "HTMLModel",
            "_view_count": null,
            "_view_module": "@jupyter-widgets/controls",
            "_view_module_version": "1.5.0",
            "_view_name": "HTMLView",
            "description": "",
            "description_tooltip": null,
            "layout": "IPY_MODEL_ab7440a18f0b462a8dcc9b3aeef75e1e",
            "placeholder": "​",
            "style": "IPY_MODEL_214e341a91be4c169635b8016e0edd3d",
            "value": ""
          }
        },
        "e04421e8940f4ba39c5f4a13a4325b15": {
          "model_module": "@jupyter-widgets/controls",
          "model_name": "FloatProgressModel",
          "model_module_version": "1.5.0",
          "state": {
            "_dom_classes": [],
            "_model_module": "@jupyter-widgets/controls",
            "_model_module_version": "1.5.0",
            "_model_name": "FloatProgressModel",
            "_view_count": null,
            "_view_module": "@jupyter-widgets/controls",
            "_view_module_version": "1.5.0",
            "_view_name": "ProgressView",
            "bar_style": "success",
            "description": "",
            "description_tooltip": null,
            "layout": "IPY_MODEL_1dc1b80bcd554a5990a61674295b73c8",
            "max": 1,
            "min": 0,
            "orientation": "horizontal",
            "style": "IPY_MODEL_78414704c8e741a4b1afed1206262500",
            "value": 1
          }
        },
        "1c1f72f83af045718806274c766a6645": {
          "model_module": "@jupyter-widgets/controls",
          "model_name": "HTMLModel",
          "model_module_version": "1.5.0",
          "state": {
            "_dom_classes": [],
            "_model_module": "@jupyter-widgets/controls",
            "_model_module_version": "1.5.0",
            "_model_name": "HTMLModel",
            "_view_count": null,
            "_view_module": "@jupyter-widgets/controls",
            "_view_module_version": "1.5.0",
            "_view_name": "HTMLView",
            "description": "",
            "description_tooltip": null,
            "layout": "IPY_MODEL_4ba11d289c62451a96f077bafcdbe227",
            "placeholder": "​",
            "style": "IPY_MODEL_e78827dd3d5245148352282be5b1e8b4",
            "value": " 7/? [00:12&lt;00:00,  1.75s/it]"
          }
        },
        "84f33e2e69484ca8b9500151b4c27ccb": {
          "model_module": "@jupyter-widgets/base",
          "model_name": "LayoutModel",
          "model_module_version": "1.2.0",
          "state": {
            "_model_module": "@jupyter-widgets/base",
            "_model_module_version": "1.2.0",
            "_model_name": "LayoutModel",
            "_view_count": null,
            "_view_module": "@jupyter-widgets/base",
            "_view_module_version": "1.2.0",
            "_view_name": "LayoutView",
            "align_content": null,
            "align_items": null,
            "align_self": null,
            "border": null,
            "bottom": null,
            "display": null,
            "flex": null,
            "flex_flow": null,
            "grid_area": null,
            "grid_auto_columns": null,
            "grid_auto_flow": null,
            "grid_auto_rows": null,
            "grid_column": null,
            "grid_gap": null,
            "grid_row": null,
            "grid_template_areas": null,
            "grid_template_columns": null,
            "grid_template_rows": null,
            "height": null,
            "justify_content": null,
            "justify_items": null,
            "left": null,
            "margin": null,
            "max_height": null,
            "max_width": null,
            "min_height": null,
            "min_width": null,
            "object_fit": null,
            "object_position": null,
            "order": null,
            "overflow": null,
            "overflow_x": null,
            "overflow_y": null,
            "padding": null,
            "right": null,
            "top": null,
            "visibility": null,
            "width": null
          }
        },
        "ab7440a18f0b462a8dcc9b3aeef75e1e": {
          "model_module": "@jupyter-widgets/base",
          "model_name": "LayoutModel",
          "model_module_version": "1.2.0",
          "state": {
            "_model_module": "@jupyter-widgets/base",
            "_model_module_version": "1.2.0",
            "_model_name": "LayoutModel",
            "_view_count": null,
            "_view_module": "@jupyter-widgets/base",
            "_view_module_version": "1.2.0",
            "_view_name": "LayoutView",
            "align_content": null,
            "align_items": null,
            "align_self": null,
            "border": null,
            "bottom": null,
            "display": null,
            "flex": null,
            "flex_flow": null,
            "grid_area": null,
            "grid_auto_columns": null,
            "grid_auto_flow": null,
            "grid_auto_rows": null,
            "grid_column": null,
            "grid_gap": null,
            "grid_row": null,
            "grid_template_areas": null,
            "grid_template_columns": null,
            "grid_template_rows": null,
            "height": null,
            "justify_content": null,
            "justify_items": null,
            "left": null,
            "margin": null,
            "max_height": null,
            "max_width": null,
            "min_height": null,
            "min_width": null,
            "object_fit": null,
            "object_position": null,
            "order": null,
            "overflow": null,
            "overflow_x": null,
            "overflow_y": null,
            "padding": null,
            "right": null,
            "top": null,
            "visibility": null,
            "width": null
          }
        },
        "214e341a91be4c169635b8016e0edd3d": {
          "model_module": "@jupyter-widgets/controls",
          "model_name": "DescriptionStyleModel",
          "model_module_version": "1.5.0",
          "state": {
            "_model_module": "@jupyter-widgets/controls",
            "_model_module_version": "1.5.0",
            "_model_name": "DescriptionStyleModel",
            "_view_count": null,
            "_view_module": "@jupyter-widgets/base",
            "_view_module_version": "1.2.0",
            "_view_name": "StyleView",
            "description_width": ""
          }
        },
        "1dc1b80bcd554a5990a61674295b73c8": {
          "model_module": "@jupyter-widgets/base",
          "model_name": "LayoutModel",
          "model_module_version": "1.2.0",
          "state": {
            "_model_module": "@jupyter-widgets/base",
            "_model_module_version": "1.2.0",
            "_model_name": "LayoutModel",
            "_view_count": null,
            "_view_module": "@jupyter-widgets/base",
            "_view_module_version": "1.2.0",
            "_view_name": "LayoutView",
            "align_content": null,
            "align_items": null,
            "align_self": null,
            "border": null,
            "bottom": null,
            "display": null,
            "flex": null,
            "flex_flow": null,
            "grid_area": null,
            "grid_auto_columns": null,
            "grid_auto_flow": null,
            "grid_auto_rows": null,
            "grid_column": null,
            "grid_gap": null,
            "grid_row": null,
            "grid_template_areas": null,
            "grid_template_columns": null,
            "grid_template_rows": null,
            "height": null,
            "justify_content": null,
            "justify_items": null,
            "left": null,
            "margin": null,
            "max_height": null,
            "max_width": null,
            "min_height": null,
            "min_width": null,
            "object_fit": null,
            "object_position": null,
            "order": null,
            "overflow": null,
            "overflow_x": null,
            "overflow_y": null,
            "padding": null,
            "right": null,
            "top": null,
            "visibility": null,
            "width": "20px"
          }
        },
        "78414704c8e741a4b1afed1206262500": {
          "model_module": "@jupyter-widgets/controls",
          "model_name": "ProgressStyleModel",
          "model_module_version": "1.5.0",
          "state": {
            "_model_module": "@jupyter-widgets/controls",
            "_model_module_version": "1.5.0",
            "_model_name": "ProgressStyleModel",
            "_view_count": null,
            "_view_module": "@jupyter-widgets/base",
            "_view_module_version": "1.2.0",
            "_view_name": "StyleView",
            "bar_color": null,
            "description_width": ""
          }
        },
        "4ba11d289c62451a96f077bafcdbe227": {
          "model_module": "@jupyter-widgets/base",
          "model_name": "LayoutModel",
          "model_module_version": "1.2.0",
          "state": {
            "_model_module": "@jupyter-widgets/base",
            "_model_module_version": "1.2.0",
            "_model_name": "LayoutModel",
            "_view_count": null,
            "_view_module": "@jupyter-widgets/base",
            "_view_module_version": "1.2.0",
            "_view_name": "LayoutView",
            "align_content": null,
            "align_items": null,
            "align_self": null,
            "border": null,
            "bottom": null,
            "display": null,
            "flex": null,
            "flex_flow": null,
            "grid_area": null,
            "grid_auto_columns": null,
            "grid_auto_flow": null,
            "grid_auto_rows": null,
            "grid_column": null,
            "grid_gap": null,
            "grid_row": null,
            "grid_template_areas": null,
            "grid_template_columns": null,
            "grid_template_rows": null,
            "height": null,
            "justify_content": null,
            "justify_items": null,
            "left": null,
            "margin": null,
            "max_height": null,
            "max_width": null,
            "min_height": null,
            "min_width": null,
            "object_fit": null,
            "object_position": null,
            "order": null,
            "overflow": null,
            "overflow_x": null,
            "overflow_y": null,
            "padding": null,
            "right": null,
            "top": null,
            "visibility": null,
            "width": null
          }
        },
        "e78827dd3d5245148352282be5b1e8b4": {
          "model_module": "@jupyter-widgets/controls",
          "model_name": "DescriptionStyleModel",
          "model_module_version": "1.5.0",
          "state": {
            "_model_module": "@jupyter-widgets/controls",
            "_model_module_version": "1.5.0",
            "_model_name": "DescriptionStyleModel",
            "_view_count": null,
            "_view_module": "@jupyter-widgets/base",
            "_view_module_version": "1.2.0",
            "_view_name": "StyleView",
            "description_width": ""
          }
        },
        "9a29642d685e4b9483ab819e35d0d81c": {
          "model_module": "@jupyter-widgets/controls",
          "model_name": "HBoxModel",
          "model_module_version": "1.5.0",
          "state": {
            "_dom_classes": [],
            "_model_module": "@jupyter-widgets/controls",
            "_model_module_version": "1.5.0",
            "_model_name": "HBoxModel",
            "_view_count": null,
            "_view_module": "@jupyter-widgets/controls",
            "_view_module_version": "1.5.0",
            "_view_name": "HBoxView",
            "box_style": "",
            "children": [
              "IPY_MODEL_100263c861c74c9bb57c809de6e1d3a6",
              "IPY_MODEL_c2a9b92cee074d45ad9373bec67a5ee0",
              "IPY_MODEL_63b1ee81fdac448a93ba048ddd1ee60d"
            ],
            "layout": "IPY_MODEL_e5ac520a0020471fb5c5667de1fe99a6"
          }
        },
        "100263c861c74c9bb57c809de6e1d3a6": {
          "model_module": "@jupyter-widgets/controls",
          "model_name": "HTMLModel",
          "model_module_version": "1.5.0",
          "state": {
            "_dom_classes": [],
            "_model_module": "@jupyter-widgets/controls",
            "_model_module_version": "1.5.0",
            "_model_name": "HTMLModel",
            "_view_count": null,
            "_view_module": "@jupyter-widgets/controls",
            "_view_module_version": "1.5.0",
            "_view_name": "HTMLView",
            "description": "",
            "description_tooltip": null,
            "layout": "IPY_MODEL_825582e6d041435bab734d1b891d788d",
            "placeholder": "​",
            "style": "IPY_MODEL_a53b3e1b111b43eaa8f318a410c56059",
            "value": ""
          }
        },
        "c2a9b92cee074d45ad9373bec67a5ee0": {
          "model_module": "@jupyter-widgets/controls",
          "model_name": "FloatProgressModel",
          "model_module_version": "1.5.0",
          "state": {
            "_dom_classes": [],
            "_model_module": "@jupyter-widgets/controls",
            "_model_module_version": "1.5.0",
            "_model_name": "FloatProgressModel",
            "_view_count": null,
            "_view_module": "@jupyter-widgets/controls",
            "_view_module_version": "1.5.0",
            "_view_name": "ProgressView",
            "bar_style": "success",
            "description": "",
            "description_tooltip": null,
            "layout": "IPY_MODEL_74f7f9bc29794c1593dc1ce8d548bb1a",
            "max": 1,
            "min": 0,
            "orientation": "horizontal",
            "style": "IPY_MODEL_32f1ccf0f6e447b3ba6cec1557790667",
            "value": 1
          }
        },
        "63b1ee81fdac448a93ba048ddd1ee60d": {
          "model_module": "@jupyter-widgets/controls",
          "model_name": "HTMLModel",
          "model_module_version": "1.5.0",
          "state": {
            "_dom_classes": [],
            "_model_module": "@jupyter-widgets/controls",
            "_model_module_version": "1.5.0",
            "_model_name": "HTMLModel",
            "_view_count": null,
            "_view_module": "@jupyter-widgets/controls",
            "_view_module_version": "1.5.0",
            "_view_name": "HTMLView",
            "description": "",
            "description_tooltip": null,
            "layout": "IPY_MODEL_cb56611c3a83405490b1ef055b42abf0",
            "placeholder": "​",
            "style": "IPY_MODEL_f069b084c9834f74ac0d3887c5068f11",
            "value": " 7/? [00:17&lt;00:00,  2.67s/it]"
          }
        },
        "e5ac520a0020471fb5c5667de1fe99a6": {
          "model_module": "@jupyter-widgets/base",
          "model_name": "LayoutModel",
          "model_module_version": "1.2.0",
          "state": {
            "_model_module": "@jupyter-widgets/base",
            "_model_module_version": "1.2.0",
            "_model_name": "LayoutModel",
            "_view_count": null,
            "_view_module": "@jupyter-widgets/base",
            "_view_module_version": "1.2.0",
            "_view_name": "LayoutView",
            "align_content": null,
            "align_items": null,
            "align_self": null,
            "border": null,
            "bottom": null,
            "display": null,
            "flex": null,
            "flex_flow": null,
            "grid_area": null,
            "grid_auto_columns": null,
            "grid_auto_flow": null,
            "grid_auto_rows": null,
            "grid_column": null,
            "grid_gap": null,
            "grid_row": null,
            "grid_template_areas": null,
            "grid_template_columns": null,
            "grid_template_rows": null,
            "height": null,
            "justify_content": null,
            "justify_items": null,
            "left": null,
            "margin": null,
            "max_height": null,
            "max_width": null,
            "min_height": null,
            "min_width": null,
            "object_fit": null,
            "object_position": null,
            "order": null,
            "overflow": null,
            "overflow_x": null,
            "overflow_y": null,
            "padding": null,
            "right": null,
            "top": null,
            "visibility": null,
            "width": null
          }
        },
        "825582e6d041435bab734d1b891d788d": {
          "model_module": "@jupyter-widgets/base",
          "model_name": "LayoutModel",
          "model_module_version": "1.2.0",
          "state": {
            "_model_module": "@jupyter-widgets/base",
            "_model_module_version": "1.2.0",
            "_model_name": "LayoutModel",
            "_view_count": null,
            "_view_module": "@jupyter-widgets/base",
            "_view_module_version": "1.2.0",
            "_view_name": "LayoutView",
            "align_content": null,
            "align_items": null,
            "align_self": null,
            "border": null,
            "bottom": null,
            "display": null,
            "flex": null,
            "flex_flow": null,
            "grid_area": null,
            "grid_auto_columns": null,
            "grid_auto_flow": null,
            "grid_auto_rows": null,
            "grid_column": null,
            "grid_gap": null,
            "grid_row": null,
            "grid_template_areas": null,
            "grid_template_columns": null,
            "grid_template_rows": null,
            "height": null,
            "justify_content": null,
            "justify_items": null,
            "left": null,
            "margin": null,
            "max_height": null,
            "max_width": null,
            "min_height": null,
            "min_width": null,
            "object_fit": null,
            "object_position": null,
            "order": null,
            "overflow": null,
            "overflow_x": null,
            "overflow_y": null,
            "padding": null,
            "right": null,
            "top": null,
            "visibility": null,
            "width": null
          }
        },
        "a53b3e1b111b43eaa8f318a410c56059": {
          "model_module": "@jupyter-widgets/controls",
          "model_name": "DescriptionStyleModel",
          "model_module_version": "1.5.0",
          "state": {
            "_model_module": "@jupyter-widgets/controls",
            "_model_module_version": "1.5.0",
            "_model_name": "DescriptionStyleModel",
            "_view_count": null,
            "_view_module": "@jupyter-widgets/base",
            "_view_module_version": "1.2.0",
            "_view_name": "StyleView",
            "description_width": ""
          }
        },
        "74f7f9bc29794c1593dc1ce8d548bb1a": {
          "model_module": "@jupyter-widgets/base",
          "model_name": "LayoutModel",
          "model_module_version": "1.2.0",
          "state": {
            "_model_module": "@jupyter-widgets/base",
            "_model_module_version": "1.2.0",
            "_model_name": "LayoutModel",
            "_view_count": null,
            "_view_module": "@jupyter-widgets/base",
            "_view_module_version": "1.2.0",
            "_view_name": "LayoutView",
            "align_content": null,
            "align_items": null,
            "align_self": null,
            "border": null,
            "bottom": null,
            "display": null,
            "flex": null,
            "flex_flow": null,
            "grid_area": null,
            "grid_auto_columns": null,
            "grid_auto_flow": null,
            "grid_auto_rows": null,
            "grid_column": null,
            "grid_gap": null,
            "grid_row": null,
            "grid_template_areas": null,
            "grid_template_columns": null,
            "grid_template_rows": null,
            "height": null,
            "justify_content": null,
            "justify_items": null,
            "left": null,
            "margin": null,
            "max_height": null,
            "max_width": null,
            "min_height": null,
            "min_width": null,
            "object_fit": null,
            "object_position": null,
            "order": null,
            "overflow": null,
            "overflow_x": null,
            "overflow_y": null,
            "padding": null,
            "right": null,
            "top": null,
            "visibility": null,
            "width": "20px"
          }
        },
        "32f1ccf0f6e447b3ba6cec1557790667": {
          "model_module": "@jupyter-widgets/controls",
          "model_name": "ProgressStyleModel",
          "model_module_version": "1.5.0",
          "state": {
            "_model_module": "@jupyter-widgets/controls",
            "_model_module_version": "1.5.0",
            "_model_name": "ProgressStyleModel",
            "_view_count": null,
            "_view_module": "@jupyter-widgets/base",
            "_view_module_version": "1.2.0",
            "_view_name": "StyleView",
            "bar_color": null,
            "description_width": ""
          }
        },
        "cb56611c3a83405490b1ef055b42abf0": {
          "model_module": "@jupyter-widgets/base",
          "model_name": "LayoutModel",
          "model_module_version": "1.2.0",
          "state": {
            "_model_module": "@jupyter-widgets/base",
            "_model_module_version": "1.2.0",
            "_model_name": "LayoutModel",
            "_view_count": null,
            "_view_module": "@jupyter-widgets/base",
            "_view_module_version": "1.2.0",
            "_view_name": "LayoutView",
            "align_content": null,
            "align_items": null,
            "align_self": null,
            "border": null,
            "bottom": null,
            "display": null,
            "flex": null,
            "flex_flow": null,
            "grid_area": null,
            "grid_auto_columns": null,
            "grid_auto_flow": null,
            "grid_auto_rows": null,
            "grid_column": null,
            "grid_gap": null,
            "grid_row": null,
            "grid_template_areas": null,
            "grid_template_columns": null,
            "grid_template_rows": null,
            "height": null,
            "justify_content": null,
            "justify_items": null,
            "left": null,
            "margin": null,
            "max_height": null,
            "max_width": null,
            "min_height": null,
            "min_width": null,
            "object_fit": null,
            "object_position": null,
            "order": null,
            "overflow": null,
            "overflow_x": null,
            "overflow_y": null,
            "padding": null,
            "right": null,
            "top": null,
            "visibility": null,
            "width": null
          }
        },
        "f069b084c9834f74ac0d3887c5068f11": {
          "model_module": "@jupyter-widgets/controls",
          "model_name": "DescriptionStyleModel",
          "model_module_version": "1.5.0",
          "state": {
            "_model_module": "@jupyter-widgets/controls",
            "_model_module_version": "1.5.0",
            "_model_name": "DescriptionStyleModel",
            "_view_count": null,
            "_view_module": "@jupyter-widgets/base",
            "_view_module_version": "1.2.0",
            "_view_name": "StyleView",
            "description_width": ""
          }
        }
      }
    }
  },
  "cells": [
    {
      "cell_type": "markdown",
      "metadata": {
        "id": "view-in-github",
        "colab_type": "text"
      },
      "source": [
        "<a href=\"https://colab.research.google.com/github/hanhanwu/Hanhan_LangGraph_Exercise/blob/main/RAG_Chatbot/try_langsmith_model_comparison.ipynb\" target=\"_parent\"><img src=\"https://colab.research.google.com/assets/colab-badge.svg\" alt=\"Open In Colab\"/></a>"
      ]
    },
    {
      "cell_type": "markdown",
      "source": [
        "## About\n",
        "\n",
        "* Compare 2 LLM solutions' performance\n",
        "* Performance evaluation uses a testset with questions and their correct answer\n",
        "* See comparison on LangSmith dashboard"
      ],
      "metadata": {
        "id": "uoBFloOqEUjp"
      }
    },
    {
      "cell_type": "code",
      "source": [
        "%%capture --no-stderr\n",
        "%pip install -U --quiet langsmith langchain_openai thefuzz"
      ],
      "metadata": {
        "id": "8nwDFRMaFdFS"
      },
      "execution_count": 5,
      "outputs": []
    },
    {
      "cell_type": "code",
      "source": [
        "import pandas as pd\n",
        "import os\n",
        "from google.colab import userdata\n",
        "\n",
        "def _set_env(key_name: str, key_value: str):\n",
        "    if key_name not in os.environ:\n",
        "      os.environ[key_name] = key_value\n",
        "\n",
        "# load the environment variables set in colab\n",
        "_set_env('OPENAI_API_KEY', userdata.get('OPENAI_API_KEY'))\n",
        "_set_env('LANGSMITH_API_KEY', userdata.get('LANGSMITH_API_KEY'))"
      ],
      "metadata": {
        "id": "Mr6xNLlgFYb1"
      },
      "execution_count": 2,
      "outputs": []
    },
    {
      "cell_type": "markdown",
      "source": [
        "## Upload Testet to LangSmith\n",
        "\n",
        "* Testset is saved [here][1]\n",
        "* The dataset is uploaded to LangSmith UI [like this][2]\n",
        "  * `dataset_name` was defined in this process\n",
        "  * Only choose \"question\" as LangSmith dataset input, and choose \"answer\" as output, otherwise LangSmith might print out ValueError\n",
        "\n",
        "[1]:https://github.com/hanhanwu/Hanhan_LangGraph_Exercise/blob/main/RAG_Chatbot/model_eval_testset.csv\n",
        "[2]:https://docs.smith.langchain.com/old/evaluation/faq/manage-datasets"
      ],
      "metadata": {
        "id": "mYfix6GNFLDj"
      }
    },
    {
      "cell_type": "code",
      "execution_count": 3,
      "metadata": {
        "colab": {
          "base_uri": "https://localhost:8080/"
        },
        "id": "9qKSUHIBBv2i",
        "outputId": "560420a4-5846-451f-c663-e472f899d204"
      },
      "outputs": [
        {
          "output_type": "execute_result",
          "data": {
            "text/plain": [
              "<generator object Client.list_examples at 0x7df9f914d0e0>"
            ]
          },
          "metadata": {},
          "execution_count": 3
        }
      ],
      "source": [
        "from langsmith import Client\n",
        "client = Client(api_key=os.environ['LANGSMITH_API_KEY'])\n",
        "dataset_name = 'model_eval_testset'\n",
        "\n",
        "client.list_examples(dataset_name)"
      ]
    },
    {
      "cell_type": "markdown",
      "source": [
        "## Define Metrics"
      ],
      "metadata": {
        "id": "V0iS3UnUj09f"
      }
    },
    {
      "cell_type": "code",
      "source": [
        "from langchain_openai import ChatOpenAI\n",
        "from langchain_core.prompts.prompt import PromptTemplate\n",
        "from langsmith.evaluation import LangChainStringEvaluator\n",
        "from langsmith.schemas import Run, Example\n",
        "from thefuzz import fuzz\n",
        "\n",
        "\n",
        "correctness_prompt_template = \"\"\"You are an ANA (All Nippon Airways) accessibility policy expert.\n",
        "                      Now you need to evaluate answers of customers' questions related to accessibility policy.\n",
        "                    Here's customer' question:\n",
        "                    {query}\n",
        "                    Here is the real answer:\n",
        "                    {answer}\n",
        "                    You are evaluating the following predicted answer:\n",
        "                    {result}\n",
        "                    Respond with CORRECT or INCORRECT:\n",
        "                    Evaluate:\n",
        "                  \"\"\"\n",
        "\n",
        "correctness_prompt = PromptTemplate(template=correctness_prompt_template,\n",
        "    input_variables=[\"query\", \"answer\", \"result\"],  # names here matter\n",
        ")\n",
        "eval_llm = ChatOpenAI(temperature=0.0)\n",
        "correctness_evaluator = LangChainStringEvaluator(\"qa\",  # has to name as 'qa' for correctness\n",
        "                                        config={\"llm\": eval_llm,\n",
        "                                                \"prompt\": correctness_prompt})"
      ],
      "metadata": {
        "id": "9cEC3ejEjgfS"
      },
      "execution_count": 7,
      "outputs": []
    },
    {
      "cell_type": "code",
      "source": [
        "def evaluate_fuzz_ratio(run: Run, example: Example) -> dict:\n",
        "    referred_answer = example.outputs.get(\"answer\") or \"\"\n",
        "    predicted_answer = run.outputs.get(\"output\") or \"\"\n",
        "    fuzz_ratio = round(fuzz.ratio(referred_answer, predicted_answer), 4)\n",
        "    return {'key':'fuzzy_ratio', 'score': fuzz_ratio}  # has to have \"key' and 'score'"
      ],
      "metadata": {
        "id": "vhCOlIH_vvr5"
      },
      "execution_count": 15,
      "outputs": []
    },
    {
      "cell_type": "markdown",
      "source": [
        "## Run Evaluations"
      ],
      "metadata": {
        "id": "6GkE0EqNvUsC"
      }
    },
    {
      "cell_type": "code",
      "source": [
        "def eval_query(question, openai_model_name):\n",
        "    return openai_client.chat.completions.create(\n",
        "        model=openai_model_name,\n",
        "        temperature=0,\n",
        "        messages=[\n",
        "            {\n",
        "                \"role\": \"system\",\n",
        "                \"content\": \"Respond to customer's question about All Nippon Airways' accessibility policy.\"\n",
        "            },\n",
        "            {\n",
        "                \"role\": \"user\",\n",
        "                \"content\": question,\n",
        "            }\n",
        "        ],\n",
        "    ).choices[0].message.content\n",
        "\n",
        "\n",
        "def langsmith_eval_all_queries(inputs, openai_model_name):\n",
        "    output = eval_query(inputs[\"question\"], openai_model_name)\n",
        "    return {'output': output}"
      ],
      "metadata": {
        "id": "cMQT9OvPweqU"
      },
      "execution_count": 16,
      "outputs": []
    },
    {
      "cell_type": "code",
      "source": [
        "import openai\n",
        "from langsmith import evaluate\n",
        "from functools import partial\n",
        "\n",
        "openai_client = openai.Client()\n",
        "model1_name = 'gpt-3.5-turbo'\n",
        "model2_name = 'gpt-4o-mini'\n",
        "\n",
        "eval_func1 = partial(langsmith_eval_all_queries, openai_model_name=model1_name)\n",
        "eval_func2 = partial(langsmith_eval_all_queries, openai_model_name=model2_name)"
      ],
      "metadata": {
        "id": "gnlwAmhtqosN"
      },
      "execution_count": 17,
      "outputs": []
    },
    {
      "cell_type": "code",
      "source": [
        "experiment_results = evaluate(\n",
        "    eval_func1,\n",
        "    data=dataset_name,\n",
        "    evaluators=[correctness_evaluator, evaluate_fuzz_ratio], # eval metrics\n",
        "    experiment_prefix=\"model1\",\n",
        "  )"
      ],
      "metadata": {
        "id": "S9FkCGRpx2Tw",
        "outputId": "8c35a5ab-b442-4a5f-c180-4bded86c084d",
        "colab": {
          "base_uri": "https://localhost:8080/",
          "height": 123,
          "referenced_widgets": [
            "9f93cd0e5de84ec7974d89c6cba2a206",
            "540b6dc0275f4bc7ac4bb76811e49017",
            "e04421e8940f4ba39c5f4a13a4325b15",
            "1c1f72f83af045718806274c766a6645",
            "84f33e2e69484ca8b9500151b4c27ccb",
            "ab7440a18f0b462a8dcc9b3aeef75e1e",
            "214e341a91be4c169635b8016e0edd3d",
            "1dc1b80bcd554a5990a61674295b73c8",
            "78414704c8e741a4b1afed1206262500",
            "4ba11d289c62451a96f077bafcdbe227",
            "e78827dd3d5245148352282be5b1e8b4"
          ]
        }
      },
      "execution_count": 19,
      "outputs": [
        {
          "output_type": "stream",
          "name": "stdout",
          "text": [
            "View the evaluation results for experiment: 'model1-4e20b3c8' at:\n",
            "https://smith.langchain.com/o/e9860761-8952-4d6a-a09f-3b40cecc4980/datasets/06ca5d2d-4af3-470a-8608-599b736808be/compare?selectedSessions=1bb64957-2c7a-4027-b2cc-f8671bf9fe8e\n",
            "\n",
            "\n"
          ]
        },
        {
          "output_type": "display_data",
          "data": {
            "text/plain": [
              "0it [00:00, ?it/s]"
            ],
            "application/vnd.jupyter.widget-view+json": {
              "version_major": 2,
              "version_minor": 0,
              "model_id": "9f93cd0e5de84ec7974d89c6cba2a206"
            }
          },
          "metadata": {}
        }
      ]
    },
    {
      "cell_type": "code",
      "source": [
        "experiment_results = evaluate(\n",
        "    eval_func2,\n",
        "    data=dataset_name,\n",
        "    evaluators=[correctness_evaluator, evaluate_fuzz_ratio], # eval metrics\n",
        "    experiment_prefix=\"model2\",\n",
        "  )"
      ],
      "metadata": {
        "id": "Jrs8RUU6B02o",
        "outputId": "72014ce9-ec4c-4d49-9509-ff1d9d5f33ce",
        "colab": {
          "base_uri": "https://localhost:8080/",
          "height": 123,
          "referenced_widgets": [
            "9a29642d685e4b9483ab819e35d0d81c",
            "100263c861c74c9bb57c809de6e1d3a6",
            "c2a9b92cee074d45ad9373bec67a5ee0",
            "63b1ee81fdac448a93ba048ddd1ee60d",
            "e5ac520a0020471fb5c5667de1fe99a6",
            "825582e6d041435bab734d1b891d788d",
            "a53b3e1b111b43eaa8f318a410c56059",
            "74f7f9bc29794c1593dc1ce8d548bb1a",
            "32f1ccf0f6e447b3ba6cec1557790667",
            "cb56611c3a83405490b1ef055b42abf0",
            "f069b084c9834f74ac0d3887c5068f11"
          ]
        }
      },
      "execution_count": 20,
      "outputs": [
        {
          "output_type": "stream",
          "name": "stdout",
          "text": [
            "View the evaluation results for experiment: 'model2-ed3704cb' at:\n",
            "https://smith.langchain.com/o/e9860761-8952-4d6a-a09f-3b40cecc4980/datasets/06ca5d2d-4af3-470a-8608-599b736808be/compare?selectedSessions=4253aa81-5029-40a5-932a-8c247a9a18c4\n",
            "\n",
            "\n"
          ]
        },
        {
          "output_type": "display_data",
          "data": {
            "text/plain": [
              "0it [00:00, ?it/s]"
            ],
            "application/vnd.jupyter.widget-view+json": {
              "version_major": 2,
              "version_minor": 0,
              "model_id": "9a29642d685e4b9483ab819e35d0d81c"
            }
          },
          "metadata": {}
        }
      ]
    },
    {
      "cell_type": "markdown",
      "source": [
        "## Then Compare 2 experiments' performance on LangSmith Dashboard"
      ],
      "metadata": {
        "id": "3nYhdvBQGRz9"
      }
    },
    {
      "cell_type": "code",
      "source": [],
      "metadata": {
        "id": "-LAmXHqTGZqm"
      },
      "execution_count": null,
      "outputs": []
    }
  ]
}