{
  "nbformat": 4,
  "nbformat_minor": 0,
  "metadata": {
    "colab": {
      "provenance": [],
      "authorship_tag": "ABX9TyPBgX3/cb1nj635ZXQR+EKa",
      "include_colab_link": true
    },
    "kernelspec": {
      "name": "python3",
      "display_name": "Python 3"
    },
    "language_info": {
      "name": "python"
    }
  },
  "cells": [
    {
      "cell_type": "markdown",
      "metadata": {
        "id": "view-in-github",
        "colab_type": "text"
      },
      "source": [
        "<a href=\"https://colab.research.google.com/github/hanhanwu/Hanhan_LangGraph_Exercise/blob/main/RAG_Chatbot/try_langgraph_agentic_rag.ipynb\" target=\"_parent\"><img src=\"https://colab.research.google.com/assets/colab-badge.svg\" alt=\"Open In Colab\"/></a>"
      ]
    },
    {
      "cell_type": "code",
      "execution_count": 16,
      "metadata": {
        "id": "2sHD3NsnGvbG"
      },
      "outputs": [],
      "source": [
        "%%capture --no-stderr\n",
        "%pip install -U --quiet langchain-community tiktoken langchain-openai langchainhub chromadb langchain langgraph langchain-text-splitters playwright unstructured\n",
        "!playwright install"
      ]
    },
    {
      "cell_type": "code",
      "source": [
        "from google.colab import userdata\n",
        "\n",
        "# load the environment variables set in colab\n",
        "OPENAI_API_KEY = userdata.get('OPENAI_API_KEY')"
      ],
      "metadata": {
        "id": "YGJ9e1KPG3oy"
      },
      "execution_count": 11,
      "outputs": []
    },
    {
      "cell_type": "markdown",
      "source": [
        "## Retriever"
      ],
      "metadata": {
        "id": "5aXkNt1cJvdz"
      }
    },
    {
      "cell_type": "code",
      "source": [
        "from langchain_community.document_loaders import SeleniumURLLoader\n",
        "from langchain_community.vectorstores import Chroma\n",
        "from langchain_openai import OpenAIEmbeddings\n",
        "from langchain_text_splitters import RecursiveCharacterTextSplitter\n",
        "\n",
        "import asyncio\n",
        "\n",
        "# use Air Canada sample accessibility URLs as examples\n",
        "urls = [\n",
        "    \"https://www.westjet.com/en-ie/special-needs/assistance-services\",\n",
        "]\n",
        "\n",
        "loader = SeleniumURLLoader(urls=urls)\n",
        "docs = loader.load()\n",
        "# docs_list = [item for sublist in docs for item in sublist]\n",
        "\n",
        "# text_splitter = RecursiveCharacterTextSplitter.from_tiktoken_encoder(\n",
        "#     chunk_size=100, chunk_overlap=50\n",
        "# )\n",
        "# doc_splits = text_splitter.split_documents(docs_list)\n",
        "\n",
        "# # Add to vectorDB\n",
        "# vectorstore = Chroma.from_documents(\n",
        "#     documents=doc_splits,\n",
        "#     collection_name=\"rag-chroma\",\n",
        "#     embedding=OpenAIEmbeddings(),\n",
        "# )\n",
        "# retriever = vectorstore.as_retriever()"
      ],
      "metadata": {
        "id": "BhM5xt0XI1id",
        "collapsed": true
      },
      "execution_count": 26,
      "outputs": []
    },
    {
      "cell_type": "code",
      "source": [
        "for doc in docs:\n",
        "    print(doc)\n",
        "    break"
      ],
      "metadata": {
        "id": "hLml5zgkbSm8",
        "outputId": "04201aef-e479-4d98-9fc6-cc399dc4ae8e",
        "colab": {
          "base_uri": "https://localhost:8080/"
        }
      },
      "execution_count": 27,
      "outputs": [
        {
          "output_type": "stream",
          "name": "stdout",
          "text": [
            "page_content='Skip to content\n",
            "\n",
            "The browser you are using is not supported. Please see our supported browsers.\n",
            "\n",
            "We are currently experiencing high call volumes. Please only call if you are travelling within the next 72 hours.\n",
            "\n",
            "Please visit our Self-serve page for available options\n",
            "\n",
            "By using the WestJet website, you agree to the website terms of use, the privacy statement, and the use of cookies.\n",
            "\n",
            "Assistance services\n",
            "\n",
            "Many assistance services are available on WestJet operated flights. The details of services are outlined in each section, and upon request, we are pleased to:\n",
            "\n",
            "check you in at the counter.\n",
            "\n",
            "allow you to move to the front of the line at a check-in if you are unable to use an automated a self-service kiosk.\n",
            "\n",
            "provide you with, if you are in a wheelchair or are not independently mobile, a place to wait that is near our staff while you wait to board, or if you are transferring to another flight. Check with you periodically to inquire about your needs and attend to those needs (as identified in the Canadian Accessible Transportation for Persons with Disabilities Regulations).\n",
            "\n",
            "provide a gate pass (at select airport locations) to a family member or friend so they may escort you to your departure gate (the person using the pass must have an unexpired valid government-issued photo identification).\n",
            "\n",
            "assist you in proceeding through security screening and to the boarding area at the airport.\n",
            "\n",
            "provide you with assistance in boarding and disembarking.\n",
            "\n",
            "allow you to board your flight before other guests* if you require assistance with:\n",
            "\n",
            "boarding\n",
            "\n",
            "locating your seat or cabin\n",
            "\n",
            "transferring between a mobility aid and your seat\n",
            "\n",
            "storing your personal item or carry-on baggage\n",
            "\n",
            "a description of the layout of the aircraft including the location of washrooms, exits, and the location and operation of the controls at your seat.\n",
            "\n",
            "additional time to clean your seating area to remove potential allergens. *note: you must be present at the time of the pre-boarding call in order to use this service. Once general boarding begins, you may be required to board after other passengers.\n",
            "\n",
            "give you a individualized safety briefing and demonstration, and we will advise you of any announcements made on board.\n",
            "\n",
            "assist by opening food or beverage packages, cutting large food portions, and describing the food and its location.\n",
            "\n",
            "assist you with storing and retrieving your carry-on and/or your personal bag.\n",
            "\n",
            "assist you in accessing available in-flight entertainment systems.\n",
            "\n",
            "assist you through border clearance and in collecting your checked baggage.\n",
            "\n",
            "take you to the general public area upon disembarkation or to a location where terminal personnel may assist you with proceeding to the curbside zone or if you are transferring within the same terminal, to a location where you may receive assistance from another carrier in finding your connecting flight.\n",
            "\n",
            "Travelling abroad with a special need can pose unique challenges. International accessibility services and amenities may not meet Canadian or American standards and may differ from location to location. WestJet Vacations strives to ensure that appropriate arrangements are made to make your vacation a remarkable experience, however when we are unable to guarantee the availability of or access to accommodations or other third party services for guests with special needs in destinations outside of Canada and the U.S., WestJet Vacations will make a best effort to provide acceptable arrangements and will commit to disclose any arrangements in advance when possible. Please contact us so that we can help ensure your vacation needs are met and provide you with a list of our current hotel partners that may be able to meet your travel needs.\n",
            "\n",
            "Helpful links\n",
            "\n",
            "Seat selection\n",
            "\n",
            "Contact us - person with special needs\n",
            "\n",
            "Accessibility questions or concerns\n",
            "\n",
            "Allergies\n",
            "\n",
            "Infants under two\n",
            "\n",
            "Inflight menus\n",
            "\n",
            "Attendants\n",
            "\n",
            "Cognitive, behavioural, developmental or psychiatric conditions\n",
            "\n",
            "Deaf or partial hearing\n",
            "\n",
            "Medical equipment and medication\n",
            "\n",
            "Service animals\n",
            "\n",
            "Identification requirements\n",
            "\n",
            "Multiple formats policy\n",
            "\n",
            "Oxygen needs\n",
            "\n",
            "PDF document accessibility\n",
            "\n",
            "Seating accommodations\n",
            "\n",
            "Wheelchairs, scooters and mobility aids\n",
            "\n",
            "Blind or partially sighted\n",
            "\n",
            "Download the app today Get your own copy of the WestJet app, and enhance your next travel experience.\n",
            "\n",
            "We'll redirect you to the home page of the country/region site you choose.\n",
            "\n",
            "Update\n",
            "\n",
            "Contact us\n",
            "\n",
            "Legal, Restrictions and Terms and Conditions\n",
            "\n",
            "Flight prices: terms and conditions\n",
            "\n",
            "Prices may not reflect real-time pricing or availability. Prices will be updated at least every two hours.\n",
            "\n",
            "Prices displayed above are subject to change and are not guaranteed until payment is made and accepted.\n",
            "\n",
            "Seasonal start and end dates apply and are indicated in the booking flow.\n",
            "\n",
            "Advertised prices, taxes and fees may fluctuate based on exchange rate.\n",
            "\n",
            "Seats at these fares are limited and may not be available on all flights.\n",
            "\n",
            "New bookings only.\n",
            "\n",
            "Non-refundable.\n",
            "\n",
            "Advance purchase required.\n",
            "\n",
            "Flights may not operate on certain days.\n",
            "\n",
            "All fares shown are one-way.\n",
            "\n",
            "© WestJet. All rights reserved. Indicates external site which may or may not meet accessibility guidelines and/or be translated.' metadata={'source': 'https://www.westjet.com/en-ie/special-needs/assistance-services', 'title': 'Assistance services | WestJet official site', 'description': 'Looking for assistance? Our assistance services are here for you if you have additional travel requests such as service or emotional support animals, wheelchairs, gaseous oxygen, if you are blind or partially sighted, deaf or have partial hearing.', 'language': 'en-IE'}\n"
          ]
        }
      ]
    },
    {
      "cell_type": "code",
      "source": [],
      "metadata": {
        "id": "dcLu5Y5icbpy"
      },
      "execution_count": null,
      "outputs": []
    }
  ]
}