{
  "nbformat": 4,
  "nbformat_minor": 0,
  "metadata": {
    "colab": {
      "provenance": [],
      "authorship_tag": "ABX9TyOrjTWiosHdhw0nwRF1hi7B",
      "include_colab_link": true
    },
    "kernelspec": {
      "name": "python3",
      "display_name": "Python 3"
    },
    "language_info": {
      "name": "python"
    }
  },
  "cells": [
    {
      "cell_type": "markdown",
      "metadata": {
        "id": "view-in-github",
        "colab_type": "text"
      },
      "source": [
        "<a href=\"https://colab.research.google.com/github/hanhanwu/Hanhan_LangGraph_Exercise/blob/main/ray_serve_for_langgraph.ipynb\" target=\"_parent\"><img src=\"https://colab.research.google.com/assets/colab-badge.svg\" alt=\"Open In Colab\"/></a>"
      ]
    },
    {
      "cell_type": "code",
      "execution_count": 7,
      "metadata": {
        "id": "dWvk5nGvLWjG"
      },
      "outputs": [],
      "source": [
        "%%capture --no-stderr\n",
        "%pip install -U --quiet langchain-community tiktoken langchain-openai langchainhub chromadb langchain langgraph langchain-text-splitters playwright unstructured\n",
        "!playwright install\n",
        "%pip install -U --quiet rank_bm25 faiss-cpu\n",
        "%pip install \"ray[serve]\""
      ]
    },
    {
      "cell_type": "code",
      "source": [
        "from google.colab import userdata\n",
        "\n",
        "# load the environment variables set in colab\n",
        "OPENAI_API_KEY = userdata.get('OPENAI_API_KEY')\n",
        "LANGSMITH_API_KEY = userdata.get('LANGSMITH_API_KEY')  # used to pull rlm/rag-prompt"
      ],
      "metadata": {
        "id": "DaOYEIiGOQv4"
      },
      "execution_count": 4,
      "outputs": []
    },
    {
      "cell_type": "code",
      "source": [
        "import time\n",
        "import requests\n",
        "from starlette.requests import Request\n",
        "from typing import Dict\n",
        "\n",
        "from langchain_community.document_loaders import PlaywrightURLLoader\n",
        "from langchain_community.vectorstores import Chroma\n",
        "from langchain.retrievers import EnsembleRetriever\n",
        "from langchain_community.retrievers import BM25Retriever\n",
        "from langchain_community.vectorstores import FAISS\n",
        "from langchain_openai import OpenAIEmbeddings\n",
        "from langchain_text_splitters import RecursiveCharacterTextSplitter\n",
        "from langchain.tools.retriever import create_retriever_tool\n",
        "\n",
        "from ray import serve\n",
        "\n",
        "import nltk\n",
        "nltk_resources = [\n",
        "    'averaged_perceptron_tagger_eng',\n",
        "    'wordnet',\n",
        "    'stopwords',\n",
        "    'punkt_tab'\n",
        "]\n",
        "for resource in nltk_resources:\n",
        "    try:\n",
        "        nltk.download(resource)\n",
        "    except Exception as e:\n",
        "        print(f\"Error downloading {resource}: {e}\")"
      ],
      "metadata": {
        "colab": {
          "base_uri": "https://localhost:8080/"
        },
        "id": "egStTkmxWyLc",
        "outputId": "02e571fa-5cc5-4167-e3f1-120e0a6a6e6a"
      },
      "execution_count": 17,
      "outputs": [
        {
          "output_type": "stream",
          "name": "stderr",
          "text": [
            "[nltk_data] Downloading package averaged_perceptron_tagger_eng to\n",
            "[nltk_data]     /root/nltk_data...\n",
            "[nltk_data]   Package averaged_perceptron_tagger_eng is already up-to-\n",
            "[nltk_data]       date!\n",
            "[nltk_data] Downloading package wordnet to /root/nltk_data...\n",
            "[nltk_data]   Package wordnet is already up-to-date!\n",
            "[nltk_data] Downloading package stopwords to /root/nltk_data...\n",
            "[nltk_data]   Package stopwords is already up-to-date!\n",
            "[nltk_data] Downloading package punkt_tab to /root/nltk_data...\n",
            "[nltk_data]   Package punkt_tab is already up-to-date!\n"
          ]
        }
      ]
    },
    {
      "cell_type": "code",
      "source": [
        "start_time = time.time()\n",
        "\n",
        "urls = [\n",
        "   \"https://langchain-ai.github.io/langgraph/tutorials/introduction/\",\n",
        "]\n",
        "\n",
        "loader = PlaywrightURLLoader(urls=urls, remove_selectors=[\"header\", \"footer\"])\n",
        "docs = await loader.aload()  # returns \"Document\" type\n",
        "\n",
        "text_splitter = RecursiveCharacterTextSplitter.from_tiktoken_encoder(\n",
        "    chunk_size=500, chunk_overlap=200\n",
        ")\n",
        "doc_splits = text_splitter.split_documents(docs)  # split into chunks with overlap\n",
        "\n",
        "# choose retriever type based on the number of chunks\n",
        "chunks_ct = len(doc_splits)\n",
        "if chunks_ct < 30:\n",
        "  print(chunks_ct, 'choose vectorstore based retriever')\n",
        "  # use Vectorstore-backed retriever (the simplest retriever in LangChain)\n",
        "  vectorstore = Chroma.from_documents(\n",
        "      documents=doc_splits,\n",
        "      collection_name=\"rag-chroma\",\n",
        "      embedding=OpenAIEmbeddings(api_key=OPENAI_API_KEY),\n",
        "  )\n",
        "  retriever = vectorstore.as_retriever()\n",
        "else:\n",
        "  print(chunks_ct, 'choose ensemble retriever')\n",
        "  # use emsemble retriever\n",
        "  # initialize the bm25 retriever and faiss retriever\n",
        "  bm25_retriever = BM25Retriever.from_texts(\n",
        "      [doc.page_content for doc in doc_splits], metadatas=[{\"source\": 1}] * len(doc_splits)\n",
        "  )\n",
        "  bm25_retriever.k = 2\n",
        "  embedding = OpenAIEmbeddings(api_key=OPENAI_API_KEY)\n",
        "  faiss_vectorstore = FAISS.from_texts(\n",
        "      [doc.page_content for doc in doc_splits], embedding, metadatas=[{\"source\": 2}] * len(doc_splits)\n",
        "  )\n",
        "  faiss_retriever = faiss_vectorstore.as_retriever(search_kwargs={\"k\": 2})\n",
        "  # initialize the ensemble retriever\n",
        "  retriever = EnsembleRetriever(\n",
        "      retrievers=[bm25_retriever, faiss_retriever], weights=[0.5, 0.5]\n",
        "  )\n",
        "\n",
        "end_time = time.time()\n",
        "running_time = round(end_time - start_time, 4)\n",
        "print(f\"Running time: {running_time} seconds\")"
      ],
      "metadata": {
        "colab": {
          "base_uri": "https://localhost:8080/"
        },
        "id": "jCJP66B-RFyh",
        "outputId": "6ba8b5de-e576-4a58-a453-dfd24919af63"
      },
      "execution_count": 16,
      "outputs": [
        {
          "output_type": "stream",
          "name": "stdout",
          "text": [
            "60 choose ensemble retriever\n",
            "Running time: 10.6615 seconds\n"
          ]
        }
      ]
    },
    {
      "cell_type": "code",
      "source": [
        "# https://docs.ray.io/en/latest/serve/index.html"
      ],
      "metadata": {
        "id": "U2fGzYjfReEf"
      },
      "execution_count": null,
      "outputs": []
    },
    {
      "cell_type": "code",
      "source": [],
      "metadata": {
        "id": "TUrFyjxfXZVH"
      },
      "execution_count": null,
      "outputs": []
    }
  ]
}